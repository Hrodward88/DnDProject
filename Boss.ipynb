{
 "cells": [
  {
   "cell_type": "code",
   "execution_count": 1,
   "metadata": {},
   "outputs": [],
   "source": [
    "import requests as req \n",
    "from bs4 import BeautifulSoup\n",
    "import pandas as pd\n",
    "import json\n",
    "# from pprint import pprint\n",
    "# from lxml import html\n",
    "# from lxml.html import fromstring\n",
    "# import urllib.request\n",
    "# from urllib.request import urlopen\n",
    "# import random\n",
    "# import re\n",
    "# import scrapy"
   ]
  },
  {
   "cell_type": "code",
   "execution_count": 2,
   "metadata": {},
   "outputs": [],
   "source": [
    "Bossurl = 'https://zelda.fanapis.com/api/bosses'"
   ]
  },
  {
   "cell_type": "code",
   "execution_count": 3,
   "metadata": {},
   "outputs": [
    {
     "data": {
      "text/plain": [
       "{'success': True,\n",
       " 'count': 20,\n",
       " 'data': [{'appearances': ['https://zelda.fanapis.com/api/games/5f6ce9d805615a85623ec2c8'],\n",
       "   'dungeons': [],\n",
       "   'name': 'Bilocyte',\n",
       "   'description': 'Bilocyte is a Boss in Skyward Sword. It is a large parasite that infiltrates and possesses Levias, who lives inside the giant Thunderhead near Skyloft. ',\n",
       "   'id': '5f6e93a7cbf4202fbde224fd'},\n",
       "  {'appearances': ['https://zelda.fanapis.com/api/games/5f6ce9d805615a85623ec2ba',\n",
       "    'https://zelda.fanapis.com/api/games/5f6ce9d805615a85623ec2bc',\n",
       "    'https://zelda.fanapis.com/api/games/5f6ce9d805615a85623ec2c0'],\n",
       "   'dungeons': ['https://zelda.fanapis.com/api/dungeons/5f6d158a3dd55d9ed2d1c1a2'],\n",
       "   'name': 'Amy',\n",
       "   'description': 'Amy is a recurring Sub-Boss in The Legend of Zelda series. She is the youngest of the four Poe Sisters. ',\n",
       "   'id': '5f6e93a7cbf4202fbde224fc'},\n",
       "  {'appearances': ['https://zelda.fanapis.com/api/games/5f6ce9d805615a85623ec2d2'],\n",
       "   'dungeons': ['https://zelda.fanapis.com/api/dungeons/5f6d158a3dd55d9ed2d1c0d8'],\n",
       "   'name': 'Agwanda',\n",
       "   'description': \"Agwanda is the fifth Boss in Zelda's Adventure. She is the Shrine Keeper of the Shrine of Water. \",\n",
       "   'id': '5f6e93a7cbf4202fbde224fe'},\n",
       "  {'appearances': ['https://zelda.fanapis.com/api/games/5f6ce9d805615a85623ec2c0'],\n",
       "   'dungeons': ['https://zelda.fanapis.com/api/dungeons/5f6d158a3dd55d9ed2d1c1cf'],\n",
       "   'name': 'Agunima',\n",
       "   'description': 'Agunima is a Boss in Oracle of Seasons. It is a mysterious wizard that appears as a the middle boss in the Dancing Dragon Dungeon. ',\n",
       "   'id': '5f6e93a7cbf4202fbde224ff'},\n",
       "  {'appearances': ['https://zelda.fanapis.com/api/games/5f6ce9d805615a85623ec2be'],\n",
       "   'dungeons': [],\n",
       "   'name': 'Agitha',\n",
       "   'description': 'Agitha is a recurring character in The Legend of Zelda series. ',\n",
       "   'id': '5f6e93a7cbf4202fbde22500'},\n",
       "  {'appearances': ['https://zelda.fanapis.com/api/games/5f6ce9d805615a85623ec2c6'],\n",
       "   'dungeons': ['https://zelda.fanapis.com/api/dungeons/5f6d158a3dd55d9ed2d1c09f'],\n",
       "   'name': 'Big Octorok',\n",
       "   'description': 'The Big Octorok is the Boss of the Temple of Droplets in The Minish Cap. It is the guardian of the Water Element. ',\n",
       "   'id': '5f6e93a7cbf4202fbde22504'},\n",
       "  {'appearances': ['https://zelda.fanapis.com/api/games/5f6ce9d805615a85623ec2b8',\n",
       "    'https://zelda.fanapis.com/api/games/5f6ce9d805615a85623ec2c3'],\n",
       "   'dungeons': ['https://zelda.fanapis.com/api/dungeons/5f6d158a3dd55d9ed2d1c188'],\n",
       "   'name': 'Agahnim',\n",
       "   'description': \"Agahnim  is the dark wizard who serves as the secondary antagonist of A Link to the Past. He kidnaps the Seven Maidens to break the seal to the corrupted Sacred Realm and achieve his goal. While many believe him to be a pawn of Ganon, he is revealed to be the demon's alter-ego. \",\n",
       "   'id': '5f6e93a7cbf4202fbde22502'},\n",
       "  {'appearances': ['https://zelda.fanapis.com/api/games/5f6ce9d805615a85623ec2c2'],\n",
       "   'dungeons': ['https://zelda.fanapis.com/api/dungeons/5f6d158a3dd55d9ed2d1c09d'],\n",
       "   'name': 'Blaaz',\n",
       "   'description': 'Blaaz is the Boss of the Temple of Fire in Phantom Hourglass. ',\n",
       "   'id': '5f6e93a7cbf4202fbde22503'},\n",
       "  {'appearances': ['https://zelda.fanapis.com/api/games/5f6ce9d805615a85623ec2c7'],\n",
       "   'dungeons': ['https://zelda.fanapis.com/api/dungeons/5f6d158a3dd55d9ed2d1c182'],\n",
       "   'name': 'Big Pengator',\n",
       "   'description': 'Big Pengator is a Sub-Boss in A Link Between Worlds. ',\n",
       "   'id': '5f6e93a7cbf4202fbde22501'},\n",
       "  {'appearances': ['https://zelda.fanapis.com/api/games/5f6ce9d805615a85623ec2ba',\n",
       "    'https://zelda.fanapis.com/api/games/5f6ce9d805615a85623ec2bc',\n",
       "    'https://zelda.fanapis.com/api/games/5f6ce9d805615a85623ec2bf'],\n",
       "   'dungeons': [],\n",
       "   'name': 'Big Octo',\n",
       "   'description': 'Big Octos, also known as Bigoctos, are recurring Bosses and enemies in The Legend of Zelda series. ',\n",
       "   'id': '5f6e93a7cbf4202fbde22505'},\n",
       "  {'appearances': ['https://zelda.fanapis.com/api/games/5f6ce9d805615a85623ec2c8'],\n",
       "   'dungeons': ['https://zelda.fanapis.com/api/dungeons/5f6d158a3dd55d9ed2d1c154'],\n",
       "   'name': 'Moldarach',\n",
       "   'description': 'Moldarach is a Boss in Skyward Sword. An Aracha that has reached the age of one thousand years, two of them appear throughout the game; one as the main boss of the Lanayru Mining Facility and another later encountered at the Lanayru Shipyard in the Lanayru Sand Sea as a mini-boss. ',\n",
       "   'id': '5f6e93a7cbf4202fbde22509'},\n",
       "  {'appearances': ['https://zelda.fanapis.com/api/games/5f6ce9d805615a85623ec2c3'],\n",
       "   'dungeons': ['https://zelda.fanapis.com/api/dungeons/5f6d158a3dd55d9ed2d1c12d'],\n",
       "   'name': 'Moblin Chief',\n",
       "   'description': \"The Moblin Chief is a Sub-Boss in Link's Awakening. He is a large red Moblin that appears as the chief of the Moblins. \",\n",
       "   'id': '5f6e93a7cbf4202fbde2250a'},\n",
       "  {'appearances': ['https://zelda.fanapis.com/api/games/5f6ce9d805615a85623ec2be',\n",
       "    'https://zelda.fanapis.com/api/games/5f6ce9d805615a85623ec2ce'],\n",
       "   'dungeons': ['https://zelda.fanapis.com/api/dungeons/5f6d158a3dd55d9ed2d1c1d9',\n",
       "    'https://zelda.fanapis.com/api/dungeons/5f6d158a3dd55d9ed2d1c1de',\n",
       "    'https://zelda.fanapis.com/api/dungeons/5f6d158a3dd55d9ed2d1c188',\n",
       "    'https://zelda.fanapis.com/api/dungeons/5f6d158a3dd55d9ed2d1c1b9',\n",
       "    'https://zelda.fanapis.com/api/dungeons/5f6d158a3dd55d9ed2d1c0cf',\n",
       "    'https://zelda.fanapis.com/api/dungeons/5f6d158a3dd55d9ed2d1c1c2'],\n",
       "   'name': 'Aeralfos',\n",
       "   'description': 'Aeralfos are recurring enemies and bosses in The Legend of Zelda series. They are winged reptilian enemies armed with swords and shields. ',\n",
       "   'id': '5f6e93a7cbf4202fbde2250c'},\n",
       "  {'appearances': ['https://zelda.fanapis.com/api/games/5f6ce9d805615a85623ec2ba',\n",
       "    'https://zelda.fanapis.com/api/games/5f6ce9d805615a85623ec2bc',\n",
       "    'https://zelda.fanapis.com/api/games/5f6ce9d805615a85623ec2c0'],\n",
       "   'dungeons': ['https://zelda.fanapis.com/api/dungeons/5f6d158a3dd55d9ed2d1c1a2'],\n",
       "   'name': 'Meg',\n",
       "   'description': 'Meg, also known as Margaret, is a recurring Sub-Boss in The Legend of Zelda series. She is the eldest of the four Poe Sisters. ',\n",
       "   'id': '5f6e93a7cbf4202fbde2250f'},\n",
       "  {'appearances': ['https://zelda.fanapis.com/api/games/5f6ce9d805615a85623ec2c1'],\n",
       "   'dungeons': ['https://zelda.fanapis.com/api/dungeons/5f6d158a3dd55d9ed2d1c104'],\n",
       "   'name': 'Big Moldorm',\n",
       "   'description': 'Big Moldorm is a Boss in Four Swords Adventures. ',\n",
       "   'id': '5f6e93a7cbf4202fbde22506'},\n",
       "  {'appearances': ['https://zelda.fanapis.com/api/games/5f6ce9d805615a85623ec2d5'],\n",
       "   'dungeons': [],\n",
       "   'name': 'Glutko',\n",
       "   'description': 'Glutko  is a location in The Faces of Evil. It is unlocked after completing Militron. ',\n",
       "   'id': '5f6e93a7cbf4202fbde22514'},\n",
       "  {'appearances': ['https://zelda.fanapis.com/api/games/5f6ce9d805615a85623ec2bd'],\n",
       "   'dungeons': ['https://zelda.fanapis.com/api/dungeons/5f6d158a3dd55d9ed2d1c108',\n",
       "    'https://zelda.fanapis.com/api/dungeons/5f6d158a3dd55d9ed2d1c10d'],\n",
       "   'name': 'Mazura',\n",
       "   'description': \"Mazura, also known as Horsehead, is the first Boss in The Adventure of Link. It is encountered in the penultimate chamber of the Parapa Palace, protecting the temple's statue. Upon his defeat, like all bosses in the game, a key drops from above that allows Link to pass through into the final room that contains the Stone Statue to set the Crystal into. \",\n",
       "   'id': '5f6e93a7cbf4202fbde22511'},\n",
       "  {'appearances': [],\n",
       "   'dungeons': [],\n",
       "   'name': 'Big Liar',\n",
       "   'description': \"Big Liar is the second boss in Ripened Tingle's Balloon Trip of Love. He is the god of the Usotami and resides dormant in a cave at the end of the Usotami Village. Tingle must need an offering first in order to enter his lair, where Kakashi is being held captive. He is encountered on Page 11. \",\n",
       "   'id': '5f6e93a7cbf4202fbde22508'},\n",
       "  {'appearances': ['https://zelda.fanapis.com/api/games/5f6ce9d805615a85623ec2ba',\n",
       "    'https://zelda.fanapis.com/api/games/5f6ce9d805615a85623ec2bc',\n",
       "    'https://zelda.fanapis.com/api/games/5f6ce9d805615a85623ec2c1'],\n",
       "   'dungeons': [],\n",
       "   'name': 'Big Poe',\n",
       "   'description': 'Big Poes are recurring Enemies in The Legend of Zelda series. They are a larger, stronger variant of Poes. Like Poes, they carry Poe Souls within the lanterns that they carry. ',\n",
       "   'id': '5f6e93a7cbf4202fbde2250b'},\n",
       "  {'appearances': ['https://zelda.fanapis.com/api/games/5f6ce9d805615a85623ec2c4'],\n",
       "   'dungeons': ['https://zelda.fanapis.com/api/dungeons/5f6d158a3dd55d9ed2d1c099'],\n",
       "   'name': 'Big Manhandla',\n",
       "   'description': 'Big Manhandla is the boss of the Sea of Trees in Four Swords. ',\n",
       "   'id': '5f6e93a7cbf4202fbde22507'}]}"
      ]
     },
     "execution_count": 3,
     "metadata": {},
     "output_type": "execute_result"
    }
   ],
   "source": [
    "Bosshtml = req.get(Bossurl).json()\n",
    "\n",
    "Bosshtml"
   ]
  },
  {
   "cell_type": "code",
   "execution_count": 4,
   "metadata": {},
   "outputs": [
    {
     "data": {
      "text/plain": [
       "20"
      ]
     },
     "execution_count": 4,
     "metadata": {},
     "output_type": "execute_result"
    }
   ],
   "source": [
    "len(Bosshtml['data'])"
   ]
  },
  {
   "cell_type": "code",
   "execution_count": 5,
   "metadata": {},
   "outputs": [
    {
     "data": {
      "text/plain": [
       "[{'appearances': ['https://zelda.fanapis.com/api/games/5f6ce9d805615a85623ec2c8'],\n",
       "  'dungeons': [],\n",
       "  'name': 'Bilocyte',\n",
       "  'description': 'Bilocyte is a Boss in Skyward Sword. It is a large parasite that infiltrates and possesses Levias, who lives inside the giant Thunderhead near Skyloft. ',\n",
       "  'id': '5f6e93a7cbf4202fbde224fd'},\n",
       " {'appearances': ['https://zelda.fanapis.com/api/games/5f6ce9d805615a85623ec2ba',\n",
       "   'https://zelda.fanapis.com/api/games/5f6ce9d805615a85623ec2bc',\n",
       "   'https://zelda.fanapis.com/api/games/5f6ce9d805615a85623ec2c0'],\n",
       "  'dungeons': ['https://zelda.fanapis.com/api/dungeons/5f6d158a3dd55d9ed2d1c1a2'],\n",
       "  'name': 'Amy',\n",
       "  'description': 'Amy is a recurring Sub-Boss in The Legend of Zelda series. She is the youngest of the four Poe Sisters. ',\n",
       "  'id': '5f6e93a7cbf4202fbde224fc'},\n",
       " {'appearances': ['https://zelda.fanapis.com/api/games/5f6ce9d805615a85623ec2d2'],\n",
       "  'dungeons': ['https://zelda.fanapis.com/api/dungeons/5f6d158a3dd55d9ed2d1c0d8'],\n",
       "  'name': 'Agwanda',\n",
       "  'description': \"Agwanda is the fifth Boss in Zelda's Adventure. She is the Shrine Keeper of the Shrine of Water. \",\n",
       "  'id': '5f6e93a7cbf4202fbde224fe'},\n",
       " {'appearances': ['https://zelda.fanapis.com/api/games/5f6ce9d805615a85623ec2c0'],\n",
       "  'dungeons': ['https://zelda.fanapis.com/api/dungeons/5f6d158a3dd55d9ed2d1c1cf'],\n",
       "  'name': 'Agunima',\n",
       "  'description': 'Agunima is a Boss in Oracle of Seasons. It is a mysterious wizard that appears as a the middle boss in the Dancing Dragon Dungeon. ',\n",
       "  'id': '5f6e93a7cbf4202fbde224ff'},\n",
       " {'appearances': ['https://zelda.fanapis.com/api/games/5f6ce9d805615a85623ec2be'],\n",
       "  'dungeons': [],\n",
       "  'name': 'Agitha',\n",
       "  'description': 'Agitha is a recurring character in The Legend of Zelda series. ',\n",
       "  'id': '5f6e93a7cbf4202fbde22500'},\n",
       " {'appearances': ['https://zelda.fanapis.com/api/games/5f6ce9d805615a85623ec2c6'],\n",
       "  'dungeons': ['https://zelda.fanapis.com/api/dungeons/5f6d158a3dd55d9ed2d1c09f'],\n",
       "  'name': 'Big Octorok',\n",
       "  'description': 'The Big Octorok is the Boss of the Temple of Droplets in The Minish Cap. It is the guardian of the Water Element. ',\n",
       "  'id': '5f6e93a7cbf4202fbde22504'},\n",
       " {'appearances': ['https://zelda.fanapis.com/api/games/5f6ce9d805615a85623ec2b8',\n",
       "   'https://zelda.fanapis.com/api/games/5f6ce9d805615a85623ec2c3'],\n",
       "  'dungeons': ['https://zelda.fanapis.com/api/dungeons/5f6d158a3dd55d9ed2d1c188'],\n",
       "  'name': 'Agahnim',\n",
       "  'description': \"Agahnim  is the dark wizard who serves as the secondary antagonist of A Link to the Past. He kidnaps the Seven Maidens to break the seal to the corrupted Sacred Realm and achieve his goal. While many believe him to be a pawn of Ganon, he is revealed to be the demon's alter-ego. \",\n",
       "  'id': '5f6e93a7cbf4202fbde22502'},\n",
       " {'appearances': ['https://zelda.fanapis.com/api/games/5f6ce9d805615a85623ec2c2'],\n",
       "  'dungeons': ['https://zelda.fanapis.com/api/dungeons/5f6d158a3dd55d9ed2d1c09d'],\n",
       "  'name': 'Blaaz',\n",
       "  'description': 'Blaaz is the Boss of the Temple of Fire in Phantom Hourglass. ',\n",
       "  'id': '5f6e93a7cbf4202fbde22503'},\n",
       " {'appearances': ['https://zelda.fanapis.com/api/games/5f6ce9d805615a85623ec2c7'],\n",
       "  'dungeons': ['https://zelda.fanapis.com/api/dungeons/5f6d158a3dd55d9ed2d1c182'],\n",
       "  'name': 'Big Pengator',\n",
       "  'description': 'Big Pengator is a Sub-Boss in A Link Between Worlds. ',\n",
       "  'id': '5f6e93a7cbf4202fbde22501'},\n",
       " {'appearances': ['https://zelda.fanapis.com/api/games/5f6ce9d805615a85623ec2ba',\n",
       "   'https://zelda.fanapis.com/api/games/5f6ce9d805615a85623ec2bc',\n",
       "   'https://zelda.fanapis.com/api/games/5f6ce9d805615a85623ec2bf'],\n",
       "  'dungeons': [],\n",
       "  'name': 'Big Octo',\n",
       "  'description': 'Big Octos, also known as Bigoctos, are recurring Bosses and enemies in The Legend of Zelda series. ',\n",
       "  'id': '5f6e93a7cbf4202fbde22505'},\n",
       " {'appearances': ['https://zelda.fanapis.com/api/games/5f6ce9d805615a85623ec2c8'],\n",
       "  'dungeons': ['https://zelda.fanapis.com/api/dungeons/5f6d158a3dd55d9ed2d1c154'],\n",
       "  'name': 'Moldarach',\n",
       "  'description': 'Moldarach is a Boss in Skyward Sword. An Aracha that has reached the age of one thousand years, two of them appear throughout the game; one as the main boss of the Lanayru Mining Facility and another later encountered at the Lanayru Shipyard in the Lanayru Sand Sea as a mini-boss. ',\n",
       "  'id': '5f6e93a7cbf4202fbde22509'},\n",
       " {'appearances': ['https://zelda.fanapis.com/api/games/5f6ce9d805615a85623ec2c3'],\n",
       "  'dungeons': ['https://zelda.fanapis.com/api/dungeons/5f6d158a3dd55d9ed2d1c12d'],\n",
       "  'name': 'Moblin Chief',\n",
       "  'description': \"The Moblin Chief is a Sub-Boss in Link's Awakening. He is a large red Moblin that appears as the chief of the Moblins. \",\n",
       "  'id': '5f6e93a7cbf4202fbde2250a'},\n",
       " {'appearances': ['https://zelda.fanapis.com/api/games/5f6ce9d805615a85623ec2be',\n",
       "   'https://zelda.fanapis.com/api/games/5f6ce9d805615a85623ec2ce'],\n",
       "  'dungeons': ['https://zelda.fanapis.com/api/dungeons/5f6d158a3dd55d9ed2d1c1d9',\n",
       "   'https://zelda.fanapis.com/api/dungeons/5f6d158a3dd55d9ed2d1c1de',\n",
       "   'https://zelda.fanapis.com/api/dungeons/5f6d158a3dd55d9ed2d1c188',\n",
       "   'https://zelda.fanapis.com/api/dungeons/5f6d158a3dd55d9ed2d1c1b9',\n",
       "   'https://zelda.fanapis.com/api/dungeons/5f6d158a3dd55d9ed2d1c0cf',\n",
       "   'https://zelda.fanapis.com/api/dungeons/5f6d158a3dd55d9ed2d1c1c2'],\n",
       "  'name': 'Aeralfos',\n",
       "  'description': 'Aeralfos are recurring enemies and bosses in The Legend of Zelda series. They are winged reptilian enemies armed with swords and shields. ',\n",
       "  'id': '5f6e93a7cbf4202fbde2250c'},\n",
       " {'appearances': ['https://zelda.fanapis.com/api/games/5f6ce9d805615a85623ec2ba',\n",
       "   'https://zelda.fanapis.com/api/games/5f6ce9d805615a85623ec2bc',\n",
       "   'https://zelda.fanapis.com/api/games/5f6ce9d805615a85623ec2c0'],\n",
       "  'dungeons': ['https://zelda.fanapis.com/api/dungeons/5f6d158a3dd55d9ed2d1c1a2'],\n",
       "  'name': 'Meg',\n",
       "  'description': 'Meg, also known as Margaret, is a recurring Sub-Boss in The Legend of Zelda series. She is the eldest of the four Poe Sisters. ',\n",
       "  'id': '5f6e93a7cbf4202fbde2250f'},\n",
       " {'appearances': ['https://zelda.fanapis.com/api/games/5f6ce9d805615a85623ec2c1'],\n",
       "  'dungeons': ['https://zelda.fanapis.com/api/dungeons/5f6d158a3dd55d9ed2d1c104'],\n",
       "  'name': 'Big Moldorm',\n",
       "  'description': 'Big Moldorm is a Boss in Four Swords Adventures. ',\n",
       "  'id': '5f6e93a7cbf4202fbde22506'},\n",
       " {'appearances': ['https://zelda.fanapis.com/api/games/5f6ce9d805615a85623ec2d5'],\n",
       "  'dungeons': [],\n",
       "  'name': 'Glutko',\n",
       "  'description': 'Glutko  is a location in The Faces of Evil. It is unlocked after completing Militron. ',\n",
       "  'id': '5f6e93a7cbf4202fbde22514'},\n",
       " {'appearances': ['https://zelda.fanapis.com/api/games/5f6ce9d805615a85623ec2bd'],\n",
       "  'dungeons': ['https://zelda.fanapis.com/api/dungeons/5f6d158a3dd55d9ed2d1c108',\n",
       "   'https://zelda.fanapis.com/api/dungeons/5f6d158a3dd55d9ed2d1c10d'],\n",
       "  'name': 'Mazura',\n",
       "  'description': \"Mazura, also known as Horsehead, is the first Boss in The Adventure of Link. It is encountered in the penultimate chamber of the Parapa Palace, protecting the temple's statue. Upon his defeat, like all bosses in the game, a key drops from above that allows Link to pass through into the final room that contains the Stone Statue to set the Crystal into. \",\n",
       "  'id': '5f6e93a7cbf4202fbde22511'},\n",
       " {'appearances': [],\n",
       "  'dungeons': [],\n",
       "  'name': 'Big Liar',\n",
       "  'description': \"Big Liar is the second boss in Ripened Tingle's Balloon Trip of Love. He is the god of the Usotami and resides dormant in a cave at the end of the Usotami Village. Tingle must need an offering first in order to enter his lair, where Kakashi is being held captive. He is encountered on Page 11. \",\n",
       "  'id': '5f6e93a7cbf4202fbde22508'},\n",
       " {'appearances': ['https://zelda.fanapis.com/api/games/5f6ce9d805615a85623ec2ba',\n",
       "   'https://zelda.fanapis.com/api/games/5f6ce9d805615a85623ec2bc',\n",
       "   'https://zelda.fanapis.com/api/games/5f6ce9d805615a85623ec2c1'],\n",
       "  'dungeons': [],\n",
       "  'name': 'Big Poe',\n",
       "  'description': 'Big Poes are recurring Enemies in The Legend of Zelda series. They are a larger, stronger variant of Poes. Like Poes, they carry Poe Souls within the lanterns that they carry. ',\n",
       "  'id': '5f6e93a7cbf4202fbde2250b'},\n",
       " {'appearances': ['https://zelda.fanapis.com/api/games/5f6ce9d805615a85623ec2c4'],\n",
       "  'dungeons': ['https://zelda.fanapis.com/api/dungeons/5f6d158a3dd55d9ed2d1c099'],\n",
       "  'name': 'Big Manhandla',\n",
       "  'description': 'Big Manhandla is the boss of the Sea of Trees in Four Swords. ',\n",
       "  'id': '5f6e93a7cbf4202fbde22507'}]"
      ]
     },
     "execution_count": 5,
     "metadata": {},
     "output_type": "execute_result"
    }
   ],
   "source": [
    "Bossdata = Bosshtml['data']\n",
    "Bossdata"
   ]
  },
  {
   "cell_type": "code",
   "execution_count": 6,
   "metadata": {},
   "outputs": [
    {
     "name": "stdout",
     "output_type": "stream",
     "text": [
      "appearances: [['https://zelda.fanapis.com/api/games/5f6ce9d805615a85623ec2c8'], ['https://zelda.fanapis.com/api/games/5f6ce9d805615a85623ec2ba', 'https://zelda.fanapis.com/api/games/5f6ce9d805615a85623ec2bc', 'https://zelda.fanapis.com/api/games/5f6ce9d805615a85623ec2c0'], ['https://zelda.fanapis.com/api/games/5f6ce9d805615a85623ec2d2'], ['https://zelda.fanapis.com/api/games/5f6ce9d805615a85623ec2c0'], ['https://zelda.fanapis.com/api/games/5f6ce9d805615a85623ec2be'], ['https://zelda.fanapis.com/api/games/5f6ce9d805615a85623ec2c6'], ['https://zelda.fanapis.com/api/games/5f6ce9d805615a85623ec2b8', 'https://zelda.fanapis.com/api/games/5f6ce9d805615a85623ec2c3'], ['https://zelda.fanapis.com/api/games/5f6ce9d805615a85623ec2c2'], ['https://zelda.fanapis.com/api/games/5f6ce9d805615a85623ec2c7'], ['https://zelda.fanapis.com/api/games/5f6ce9d805615a85623ec2ba', 'https://zelda.fanapis.com/api/games/5f6ce9d805615a85623ec2bc', 'https://zelda.fanapis.com/api/games/5f6ce9d805615a85623ec2bf'], ['https://zelda.fanapis.com/api/games/5f6ce9d805615a85623ec2c8'], ['https://zelda.fanapis.com/api/games/5f6ce9d805615a85623ec2c3'], ['https://zelda.fanapis.com/api/games/5f6ce9d805615a85623ec2be', 'https://zelda.fanapis.com/api/games/5f6ce9d805615a85623ec2ce'], ['https://zelda.fanapis.com/api/games/5f6ce9d805615a85623ec2ba', 'https://zelda.fanapis.com/api/games/5f6ce9d805615a85623ec2bc', 'https://zelda.fanapis.com/api/games/5f6ce9d805615a85623ec2c0'], ['https://zelda.fanapis.com/api/games/5f6ce9d805615a85623ec2c1'], ['https://zelda.fanapis.com/api/games/5f6ce9d805615a85623ec2d5'], ['https://zelda.fanapis.com/api/games/5f6ce9d805615a85623ec2bd'], [], ['https://zelda.fanapis.com/api/games/5f6ce9d805615a85623ec2ba', 'https://zelda.fanapis.com/api/games/5f6ce9d805615a85623ec2bc', 'https://zelda.fanapis.com/api/games/5f6ce9d805615a85623ec2c1'], ['https://zelda.fanapis.com/api/games/5f6ce9d805615a85623ec2c4']]\n",
      "dungeons: [[], ['https://zelda.fanapis.com/api/dungeons/5f6d158a3dd55d9ed2d1c1a2'], ['https://zelda.fanapis.com/api/dungeons/5f6d158a3dd55d9ed2d1c0d8'], ['https://zelda.fanapis.com/api/dungeons/5f6d158a3dd55d9ed2d1c1cf'], [], ['https://zelda.fanapis.com/api/dungeons/5f6d158a3dd55d9ed2d1c09f'], ['https://zelda.fanapis.com/api/dungeons/5f6d158a3dd55d9ed2d1c188'], ['https://zelda.fanapis.com/api/dungeons/5f6d158a3dd55d9ed2d1c09d'], ['https://zelda.fanapis.com/api/dungeons/5f6d158a3dd55d9ed2d1c182'], [], ['https://zelda.fanapis.com/api/dungeons/5f6d158a3dd55d9ed2d1c154'], ['https://zelda.fanapis.com/api/dungeons/5f6d158a3dd55d9ed2d1c12d'], ['https://zelda.fanapis.com/api/dungeons/5f6d158a3dd55d9ed2d1c1d9', 'https://zelda.fanapis.com/api/dungeons/5f6d158a3dd55d9ed2d1c1de', 'https://zelda.fanapis.com/api/dungeons/5f6d158a3dd55d9ed2d1c188', 'https://zelda.fanapis.com/api/dungeons/5f6d158a3dd55d9ed2d1c1b9', 'https://zelda.fanapis.com/api/dungeons/5f6d158a3dd55d9ed2d1c0cf', 'https://zelda.fanapis.com/api/dungeons/5f6d158a3dd55d9ed2d1c1c2'], ['https://zelda.fanapis.com/api/dungeons/5f6d158a3dd55d9ed2d1c1a2'], ['https://zelda.fanapis.com/api/dungeons/5f6d158a3dd55d9ed2d1c104'], [], ['https://zelda.fanapis.com/api/dungeons/5f6d158a3dd55d9ed2d1c108', 'https://zelda.fanapis.com/api/dungeons/5f6d158a3dd55d9ed2d1c10d'], [], [], ['https://zelda.fanapis.com/api/dungeons/5f6d158a3dd55d9ed2d1c099']]\n",
      "name: ['Bilocyte', 'Amy', 'Agwanda', 'Agunima', 'Agitha', 'Big Octorok', 'Agahnim', 'Blaaz', 'Big Pengator', 'Big Octo', 'Moldarach', 'Moblin Chief', 'Aeralfos', 'Meg', 'Big Moldorm', 'Glutko', 'Mazura', 'Big Liar', 'Big Poe', 'Big Manhandla']\n",
      "description: ['Bilocyte is a Boss in Skyward Sword. It is a large parasite that infiltrates and possesses Levias, who lives inside the giant Thunderhead near Skyloft. ', 'Amy is a recurring Sub-Boss in The Legend of Zelda series. She is the youngest of the four Poe Sisters. ', \"Agwanda is the fifth Boss in Zelda's Adventure. She is the Shrine Keeper of the Shrine of Water. \", 'Agunima is a Boss in Oracle of Seasons. It is a mysterious wizard that appears as a the middle boss in the Dancing Dragon Dungeon. ', 'Agitha is a recurring character in The Legend of Zelda series. ', 'The Big Octorok is the Boss of the Temple of Droplets in The Minish Cap. It is the guardian of the Water Element. ', \"Agahnim  is the dark wizard who serves as the secondary antagonist of A Link to the Past. He kidnaps the Seven Maidens to break the seal to the corrupted Sacred Realm and achieve his goal. While many believe him to be a pawn of Ganon, he is revealed to be the demon's alter-ego. \", 'Blaaz is the Boss of the Temple of Fire in Phantom Hourglass. ', 'Big Pengator is a Sub-Boss in A Link Between Worlds. ', 'Big Octos, also known as Bigoctos, are recurring Bosses and enemies in The Legend of Zelda series. ', 'Moldarach is a Boss in Skyward Sword. An Aracha that has reached the age of one thousand years, two of them appear throughout the game; one as the main boss of the Lanayru Mining Facility and another later encountered at the Lanayru Shipyard in the Lanayru Sand Sea as a mini-boss. ', \"The Moblin Chief is a Sub-Boss in Link's Awakening. He is a large red Moblin that appears as the chief of the Moblins. \", 'Aeralfos are recurring enemies and bosses in The Legend of Zelda series. They are winged reptilian enemies armed with swords and shields. ', 'Meg, also known as Margaret, is a recurring Sub-Boss in The Legend of Zelda series. She is the eldest of the four Poe Sisters. ', 'Big Moldorm is a Boss in Four Swords Adventures. ', 'Glutko  is a location in The Faces of Evil. It is unlocked after completing Militron. ', \"Mazura, also known as Horsehead, is the first Boss in The Adventure of Link. It is encountered in the penultimate chamber of the Parapa Palace, protecting the temple's statue. Upon his defeat, like all bosses in the game, a key drops from above that allows Link to pass through into the final room that contains the Stone Statue to set the Crystal into. \", \"Big Liar is the second boss in Ripened Tingle's Balloon Trip of Love. He is the god of the Usotami and resides dormant in a cave at the end of the Usotami Village. Tingle must need an offering first in order to enter his lair, where Kakashi is being held captive. He is encountered on Page 11. \", 'Big Poes are recurring Enemies in The Legend of Zelda series. They are a larger, stronger variant of Poes. Like Poes, they carry Poe Souls within the lanterns that they carry. ', 'Big Manhandla is the boss of the Sea of Trees in Four Swords. ']\n",
      "id: ['5f6e93a7cbf4202fbde224fd', '5f6e93a7cbf4202fbde224fc', '5f6e93a7cbf4202fbde224fe', '5f6e93a7cbf4202fbde224ff', '5f6e93a7cbf4202fbde22500', '5f6e93a7cbf4202fbde22504', '5f6e93a7cbf4202fbde22502', '5f6e93a7cbf4202fbde22503', '5f6e93a7cbf4202fbde22501', '5f6e93a7cbf4202fbde22505', '5f6e93a7cbf4202fbde22509', '5f6e93a7cbf4202fbde2250a', '5f6e93a7cbf4202fbde2250c', '5f6e93a7cbf4202fbde2250f', '5f6e93a7cbf4202fbde22506', '5f6e93a7cbf4202fbde22514', '5f6e93a7cbf4202fbde22511', '5f6e93a7cbf4202fbde22508', '5f6e93a7cbf4202fbde2250b', '5f6e93a7cbf4202fbde22507']\n"
     ]
    }
   ],
   "source": [
    "values_by_key = {}\n",
    "\n",
    "# Iterate over each dictionary in games_data\n",
    "for dictionary in Bossdata:\n",
    "    # Iterate over each key-value pair in the dictionary\n",
    "    for key, value in dictionary.items():\n",
    "        # Check if the key is already in the values_by_key dictionary\n",
    "        if key in values_by_key:\n",
    "            # Append the value to the existing list of values for the key\n",
    "            values_by_key[key].append(value)\n",
    "        else:\n",
    "            # Create a new list with the value for the key\n",
    "            values_by_key[key] = [value]\n",
    "\n",
    "# Print the values for each key\n",
    "for key, values in values_by_key.items():\n",
    "    print(f\"{key}: {values}\")"
   ]
  },
  {
   "cell_type": "code",
   "execution_count": 9,
   "metadata": {},
   "outputs": [
    {
     "ename": "KeyError",
     "evalue": "'released_date'",
     "output_type": "error",
     "traceback": [
      "\u001b[0;31m---------------------------------------------------------------------------\u001b[0m",
      "\u001b[0;31mKeyError\u001b[0m                                  Traceback (most recent call last)",
      "Cell \u001b[0;32mIn[9], line 1\u001b[0m\n\u001b[0;32m----> 1\u001b[0m values_by_key[\u001b[39m'\u001b[39;49m\u001b[39mreleased_date\u001b[39;49m\u001b[39m'\u001b[39;49m]\n",
      "\u001b[0;31mKeyError\u001b[0m: 'released_date'"
     ]
    }
   ],
   "source": [
    "values_by_key['released_date']"
   ]
  },
  {
   "cell_type": "code",
   "execution_count": 7,
   "metadata": {},
   "outputs": [
    {
     "name": "stdout",
     "output_type": "stream",
     "text": [
      "[['https://zelda.fanapis.com/api/games/5f6ce9d805615a85623ec2c8'], [], 'Bilocyte', 'Bilocyte is a Boss in Skyward Sword. It is a large parasite that infiltrates and possesses Levias, who lives inside the giant Thunderhead near Skyloft. ', '5f6e93a7cbf4202fbde224fd']\n",
      "[['https://zelda.fanapis.com/api/games/5f6ce9d805615a85623ec2ba', 'https://zelda.fanapis.com/api/games/5f6ce9d805615a85623ec2bc', 'https://zelda.fanapis.com/api/games/5f6ce9d805615a85623ec2c0'], ['https://zelda.fanapis.com/api/dungeons/5f6d158a3dd55d9ed2d1c1a2'], 'Amy', 'Amy is a recurring Sub-Boss in The Legend of Zelda series. She is the youngest of the four Poe Sisters. ', '5f6e93a7cbf4202fbde224fc']\n",
      "[['https://zelda.fanapis.com/api/games/5f6ce9d805615a85623ec2d2'], ['https://zelda.fanapis.com/api/dungeons/5f6d158a3dd55d9ed2d1c0d8'], 'Agwanda', \"Agwanda is the fifth Boss in Zelda's Adventure. She is the Shrine Keeper of the Shrine of Water. \", '5f6e93a7cbf4202fbde224fe']\n",
      "[['https://zelda.fanapis.com/api/games/5f6ce9d805615a85623ec2c0'], ['https://zelda.fanapis.com/api/dungeons/5f6d158a3dd55d9ed2d1c1cf'], 'Agunima', 'Agunima is a Boss in Oracle of Seasons. It is a mysterious wizard that appears as a the middle boss in the Dancing Dragon Dungeon. ', '5f6e93a7cbf4202fbde224ff']\n",
      "[['https://zelda.fanapis.com/api/games/5f6ce9d805615a85623ec2be'], [], 'Agitha', 'Agitha is a recurring character in The Legend of Zelda series. ', '5f6e93a7cbf4202fbde22500']\n",
      "[['https://zelda.fanapis.com/api/games/5f6ce9d805615a85623ec2c6'], ['https://zelda.fanapis.com/api/dungeons/5f6d158a3dd55d9ed2d1c09f'], 'Big Octorok', 'The Big Octorok is the Boss of the Temple of Droplets in The Minish Cap. It is the guardian of the Water Element. ', '5f6e93a7cbf4202fbde22504']\n",
      "[['https://zelda.fanapis.com/api/games/5f6ce9d805615a85623ec2b8', 'https://zelda.fanapis.com/api/games/5f6ce9d805615a85623ec2c3'], ['https://zelda.fanapis.com/api/dungeons/5f6d158a3dd55d9ed2d1c188'], 'Agahnim', \"Agahnim  is the dark wizard who serves as the secondary antagonist of A Link to the Past. He kidnaps the Seven Maidens to break the seal to the corrupted Sacred Realm and achieve his goal. While many believe him to be a pawn of Ganon, he is revealed to be the demon's alter-ego. \", '5f6e93a7cbf4202fbde22502']\n",
      "[['https://zelda.fanapis.com/api/games/5f6ce9d805615a85623ec2c2'], ['https://zelda.fanapis.com/api/dungeons/5f6d158a3dd55d9ed2d1c09d'], 'Blaaz', 'Blaaz is the Boss of the Temple of Fire in Phantom Hourglass. ', '5f6e93a7cbf4202fbde22503']\n",
      "[['https://zelda.fanapis.com/api/games/5f6ce9d805615a85623ec2c7'], ['https://zelda.fanapis.com/api/dungeons/5f6d158a3dd55d9ed2d1c182'], 'Big Pengator', 'Big Pengator is a Sub-Boss in A Link Between Worlds. ', '5f6e93a7cbf4202fbde22501']\n",
      "[['https://zelda.fanapis.com/api/games/5f6ce9d805615a85623ec2ba', 'https://zelda.fanapis.com/api/games/5f6ce9d805615a85623ec2bc', 'https://zelda.fanapis.com/api/games/5f6ce9d805615a85623ec2bf'], [], 'Big Octo', 'Big Octos, also known as Bigoctos, are recurring Bosses and enemies in The Legend of Zelda series. ', '5f6e93a7cbf4202fbde22505']\n",
      "[['https://zelda.fanapis.com/api/games/5f6ce9d805615a85623ec2c8'], ['https://zelda.fanapis.com/api/dungeons/5f6d158a3dd55d9ed2d1c154'], 'Moldarach', 'Moldarach is a Boss in Skyward Sword. An Aracha that has reached the age of one thousand years, two of them appear throughout the game; one as the main boss of the Lanayru Mining Facility and another later encountered at the Lanayru Shipyard in the Lanayru Sand Sea as a mini-boss. ', '5f6e93a7cbf4202fbde22509']\n",
      "[['https://zelda.fanapis.com/api/games/5f6ce9d805615a85623ec2c3'], ['https://zelda.fanapis.com/api/dungeons/5f6d158a3dd55d9ed2d1c12d'], 'Moblin Chief', \"The Moblin Chief is a Sub-Boss in Link's Awakening. He is a large red Moblin that appears as the chief of the Moblins. \", '5f6e93a7cbf4202fbde2250a']\n",
      "[['https://zelda.fanapis.com/api/games/5f6ce9d805615a85623ec2be', 'https://zelda.fanapis.com/api/games/5f6ce9d805615a85623ec2ce'], ['https://zelda.fanapis.com/api/dungeons/5f6d158a3dd55d9ed2d1c1d9', 'https://zelda.fanapis.com/api/dungeons/5f6d158a3dd55d9ed2d1c1de', 'https://zelda.fanapis.com/api/dungeons/5f6d158a3dd55d9ed2d1c188', 'https://zelda.fanapis.com/api/dungeons/5f6d158a3dd55d9ed2d1c1b9', 'https://zelda.fanapis.com/api/dungeons/5f6d158a3dd55d9ed2d1c0cf', 'https://zelda.fanapis.com/api/dungeons/5f6d158a3dd55d9ed2d1c1c2'], 'Aeralfos', 'Aeralfos are recurring enemies and bosses in The Legend of Zelda series. They are winged reptilian enemies armed with swords and shields. ', '5f6e93a7cbf4202fbde2250c']\n",
      "[['https://zelda.fanapis.com/api/games/5f6ce9d805615a85623ec2ba', 'https://zelda.fanapis.com/api/games/5f6ce9d805615a85623ec2bc', 'https://zelda.fanapis.com/api/games/5f6ce9d805615a85623ec2c0'], ['https://zelda.fanapis.com/api/dungeons/5f6d158a3dd55d9ed2d1c1a2'], 'Meg', 'Meg, also known as Margaret, is a recurring Sub-Boss in The Legend of Zelda series. She is the eldest of the four Poe Sisters. ', '5f6e93a7cbf4202fbde2250f']\n",
      "[['https://zelda.fanapis.com/api/games/5f6ce9d805615a85623ec2c1'], ['https://zelda.fanapis.com/api/dungeons/5f6d158a3dd55d9ed2d1c104'], 'Big Moldorm', 'Big Moldorm is a Boss in Four Swords Adventures. ', '5f6e93a7cbf4202fbde22506']\n",
      "[['https://zelda.fanapis.com/api/games/5f6ce9d805615a85623ec2d5'], [], 'Glutko', 'Glutko  is a location in The Faces of Evil. It is unlocked after completing Militron. ', '5f6e93a7cbf4202fbde22514']\n",
      "[['https://zelda.fanapis.com/api/games/5f6ce9d805615a85623ec2bd'], ['https://zelda.fanapis.com/api/dungeons/5f6d158a3dd55d9ed2d1c108', 'https://zelda.fanapis.com/api/dungeons/5f6d158a3dd55d9ed2d1c10d'], 'Mazura', \"Mazura, also known as Horsehead, is the first Boss in The Adventure of Link. It is encountered in the penultimate chamber of the Parapa Palace, protecting the temple's statue. Upon his defeat, like all bosses in the game, a key drops from above that allows Link to pass through into the final room that contains the Stone Statue to set the Crystal into. \", '5f6e93a7cbf4202fbde22511']\n",
      "[[], [], 'Big Liar', \"Big Liar is the second boss in Ripened Tingle's Balloon Trip of Love. He is the god of the Usotami and resides dormant in a cave at the end of the Usotami Village. Tingle must need an offering first in order to enter his lair, where Kakashi is being held captive. He is encountered on Page 11. \", '5f6e93a7cbf4202fbde22508']\n",
      "[['https://zelda.fanapis.com/api/games/5f6ce9d805615a85623ec2ba', 'https://zelda.fanapis.com/api/games/5f6ce9d805615a85623ec2bc', 'https://zelda.fanapis.com/api/games/5f6ce9d805615a85623ec2c1'], [], 'Big Poe', 'Big Poes are recurring Enemies in The Legend of Zelda series. They are a larger, stronger variant of Poes. Like Poes, they carry Poe Souls within the lanterns that they carry. ', '5f6e93a7cbf4202fbde2250b']\n",
      "[['https://zelda.fanapis.com/api/games/5f6ce9d805615a85623ec2c4'], ['https://zelda.fanapis.com/api/dungeons/5f6d158a3dd55d9ed2d1c099'], 'Big Manhandla', 'Big Manhandla is the boss of the Sea of Trees in Four Swords. ', '5f6e93a7cbf4202fbde22507']\n"
     ]
    }
   ],
   "source": [
    "table_data = []\n",
    "\n",
    "for dictionary in Bossdata:\n",
    "    row = list(dictionary.values())\n",
    "    table_data.append(row)\n",
    "\n",
    "# Print the table\n",
    "for row in table_data:\n",
    "    print(row)\n"
   ]
  },
  {
   "cell_type": "code",
   "execution_count": 8,
   "metadata": {},
   "outputs": [
    {
     "ename": "KeyError",
     "evalue": "'Games_data'",
     "output_type": "error",
     "traceback": [
      "\u001b[0;31m---------------------------------------------------------------------------\u001b[0m",
      "\u001b[0;31mKeyError\u001b[0m                                  Traceback (most recent call last)",
      "Cell \u001b[0;32mIn[8], line 2\u001b[0m\n\u001b[1;32m      1\u001b[0m \u001b[39mfor\u001b[39;00m Game \u001b[39min\u001b[39;00m Mondata:\n\u001b[0;32m----> 2\u001b[0m     Gamesdata\u001b[39m=\u001b[39mdictionary[\u001b[39m'\u001b[39;49m\u001b[39mGames_data\u001b[39;49m\u001b[39m'\u001b[39;49m]\n\u001b[1;32m      3\u001b[0m     values \u001b[39m=\u001b[39m Gamesdata\u001b[39m.\u001b[39mvalues\n\u001b[1;32m      5\u001b[0m \u001b[39mprint\u001b[39m(\u001b[39mf\u001b[39m\u001b[39m\"\u001b[39m\u001b[39mid: \u001b[39m\u001b[39m{\u001b[39;00m\u001b[39mid\u001b[39m\u001b[39m}\u001b[39;00m\u001b[39m, Name: \u001b[39m\u001b[39m{\u001b[39;00mName\u001b[39m}\u001b[39;00m\u001b[39m, Description: \u001b[39m\u001b[39m{\u001b[39;00mDescription\u001b[39m}\u001b[39;00m\u001b[39m, Developer: \u001b[39m\u001b[39m{\u001b[39;00mDeveloper\u001b[39m}\u001b[39;00m\u001b[39m, Publisher: \u001b[39m\u001b[39m{\u001b[39;00mPublisher\u001b[39m}\u001b[39;00m\u001b[39m, Release date: \u001b[39m\u001b[39m{\u001b[39;00mRelease_date\u001b[39m}\u001b[39;00m\u001b[39m\"\u001b[39m)\n",
      "\u001b[0;31mKeyError\u001b[0m: 'Games_data'"
     ]
    }
   ],
   "source": [
    "for Game in Mondata:\n",
    "    ata=dictionary['Games_data']\n",
    "    values = Gamesdata.values\n",
    "\n",
    "print(f\"id: {id}, Name: {Name}, Description: {Description}, Developer: {Developer}, Publisher: {Publisher}, Release date: {Release_date}\")"
   ]
  },
  {
   "cell_type": "code",
   "execution_count": null,
   "metadata": {},
   "outputs": [],
   "source": []
  },
  {
   "cell_type": "code",
   "execution_count": null,
   "metadata": {},
   "outputs": [],
   "source": []
  }
 ],
 "metadata": {
  "kernelspec": {
   "display_name": "Python 3",
   "language": "python",
   "name": "python3"
  },
  "language_info": {
   "codemirror_mode": {
    "name": "ipython",
    "version": 3
   },
   "file_extension": ".py",
   "mimetype": "text/x-python",
   "name": "python",
   "nbconvert_exporter": "python",
   "pygments_lexer": "ipython3",
   "version": "3.11.2"
  },
  "orig_nbformat": 4
 },
 "nbformat": 4,
 "nbformat_minor": 2
}
