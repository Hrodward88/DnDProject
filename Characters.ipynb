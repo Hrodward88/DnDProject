{
 "cells": [
  {
   "cell_type": "code",
   "execution_count": 1,
   "metadata": {},
   "outputs": [],
   "source": [
    "import requests as req \n",
    "from bs4 import BeautifulSoup\n",
    "import pandas as pd\n",
    "import json\n",
    "# from pprint import pprint\n",
    "# from lxml import html\n",
    "# from lxml.html import fromstring\n",
    "# import urllib.request\n",
    "# from urllib.request import urlopen\n",
    "# import random\n",
    "# import re\n",
    "# import scrapy"
   ]
  },
  {
   "cell_type": "code",
   "execution_count": 3,
   "metadata": {},
   "outputs": [],
   "source": [
    "Charaurl = 'https://zelda.fanapis.com/api/characters'"
   ]
  },
  {
   "cell_type": "code",
   "execution_count": 5,
   "metadata": {},
   "outputs": [
    {
     "data": {
      "text/plain": [
       "{'success': True,\n",
       " 'count': 20,\n",
       " 'data': [{'appearances': ['https://zelda.fanapis.com/api/games/5f6ce9d805615a85623ec2c5'],\n",
       "   'name': 'Anjean',\n",
       "   'description': 'Anjean  is a character in Spirit Tracks. She is a member of the Lokomo people and the protector of the Tower of Spirits, the central hub of the Spirit Tracks, whose goal is to prevent the evil Malladus from breaking free of his imprisonment. Anjean provides the Spirit Train, which Link and Princess Zelda use along their quest. Anjean was also a very close friend with Tetra after she met her shortly after the feisty pirate arrived to the land that would become the next Hyrule. As a result of their strong friendship, Anjean gave Tetra the sacred instrument known as the Spirit Flute, but only under the condition that she and her descendants would use it to protect the land. ',\n",
       "   'gender': 'Female',\n",
       "   'race': 'Lokomo',\n",
       "   'id': '5f6d186f246bd9a0809d6115'},\n",
       "  {'appearances': ['https://zelda.fanapis.com/api/games/5f6ce9d805615a85623ec2c0',\n",
       "    'https://zelda.fanapis.com/api/games/5f6ce9d805615a85623ec2b9'],\n",
       "   'name': 'Animal Companion',\n",
       "   'description': \"The Animal Companions are three characters in Oracle of Seasons and Oracle of Ages: Ricky, Moosh, and Dimitri. They become Link's Mounts when he needs their special abilities to traverse certain terrain. \",\n",
       "   'gender': None,\n",
       "   'race': None,\n",
       "   'id': '5f6d186f246bd9a0809d6116'},\n",
       "  {'appearances': ['https://zelda.fanapis.com/api/games/5f6ce9d805615a85623ec2c9'],\n",
       "   'name': 'Ancient Oven',\n",
       "   'description': 'The Ancient Oven is a character in Breath of the Wild. ',\n",
       "   'gender': None,\n",
       "   'race': None,\n",
       "   'id': '5f6d186f246bd9a0809d6117'},\n",
       "  {'appearances': ['https://zelda.fanapis.com/api/games/5f6ce9d805615a85623ec2c3',\n",
       "    'https://zelda.fanapis.com/api/games/5f6ce9d805615a85623ec2b9'],\n",
       "   'name': 'Angler Fish',\n",
       "   'description': 'The Angler Fish is a recurring Boss in The Legend of Zelda series. ',\n",
       "   'gender': None,\n",
       "   'race': None,\n",
       "   'id': '5f6d186f246bd9a0809d6118'},\n",
       "  {'appearances': ['https://zelda.fanapis.com/api/games/5f6ce9d805615a85623ec2c5'],\n",
       "   'name': 'Carben',\n",
       "   'description': 'Carben is a character from Spirit Tracks. He is a member of the Lokomo race and Guardian of the Ocean Realm who resides in the Ocean Sanctuary. Like the rest of the Lokomo people, Carben possesses a sacred instrument, his being the flute, which generates energy to power the Spirit Tracks when played with another sacred instrument. Carben also has the ability to communicate with birds. ',\n",
       "   'gender': 'Male',\n",
       "   'race': 'Lokomo',\n",
       "   'id': '5f6d186f246bd9a0809d611a'},\n",
       "  {'appearances': ['https://zelda.fanapis.com/api/games/5f6ce9d805615a85623ec2c9'],\n",
       "   'name': 'Anche',\n",
       "   'description': 'Anche is a character in Breath of the Wild. ',\n",
       "   'gender': None,\n",
       "   'race': 'Gerudo',\n",
       "   'id': '5f6d186f246bd9a0809d6119'},\n",
       "  {'appearances': ['https://zelda.fanapis.com/api/games/5f6ce9d805615a85623ec2c9'],\n",
       "   'name': 'Cara',\n",
       "   'description': 'Cara is a character in Breath of the Wild. ',\n",
       "   'gender': 'Female',\n",
       "   'race': 'Gerudo',\n",
       "   'id': '5f6d186f246bd9a0809d611b'},\n",
       "  {'appearances': [],\n",
       "   'name': 'Captain Krin',\n",
       "   'description': 'Captain Krin is a character featured in the The Legend of Zelda comics by Valiant Comics published by Valiant Comics. He is the soldier captain at the North Castle who will do anything to protect both the palace and the king. ',\n",
       "   'gender': None,\n",
       "   'race': 'Hylian',\n",
       "   'id': '5f6d186f246bd9a0809d611d'},\n",
       "  {'appearances': ['https://zelda.fanapis.com/api/games/5f6ce9d805615a85623ec2cd'],\n",
       "   'name': 'Captain Stalfos',\n",
       "   'description': \"Captain Stalfos is a boss in Freshly-Picked Tingle's Rosy Rupeeland. He is the leader of the group of Pirates. In order for Tingle to join the pirate crew, he has to be dead. If he wants to survive, he must defeat the captain in a sword duel. If Tingle succeeds in this task, he will be given the Bone Ocarina, which may be used at any pier to call the pirate ship. \",\n",
       "   'gender': None,\n",
       "   'race': 'Pirate',\n",
       "   'id': '5f6d186f246bd9a0809d611c'},\n",
       "  {'appearances': ['https://zelda.fanapis.com/api/games/5f6ce9d805615a85623ec2bc'],\n",
       "   'name': 'Captain Keeta',\n",
       "   'description': \"Captain Keeta, also known as Skull Keeta, is a mini-boss in Majora's Mask. \",\n",
       "   'gender': None,\n",
       "   'race': None,\n",
       "   'id': '5f6d186f246bd9a0809d611e'},\n",
       "  {'appearances': ['https://zelda.fanapis.com/api/games/5f6ce9d805615a85623ec2c6'],\n",
       "   'name': 'Caprice',\n",
       "   'description': 'Caprice is a character in The Minish Cap. ',\n",
       "   'gender': None,\n",
       "   'race': None,\n",
       "   'id': '5f6d186f246bd9a0809d611f'},\n",
       "  {'appearances': ['https://zelda.fanapis.com/api/games/5f6ce9d805615a85623ec2c9'],\n",
       "   'name': 'Champion',\n",
       "   'description': 'The Champions are a team of five chosen from the five races of Hyrule to battle against Calamity Ganon. Led by Princess Zelda with the Champion hero chosen by the sword that seals the darkness at her side, the other four Champions were tasked with piloting the Divine Beasts and providing back-up as Link and Zelda face the Calamity head-on in an attempted to seal it away. ',\n",
       "   'gender': None,\n",
       "   'race': None,\n",
       "   'id': '5f6d186f246bd9a0809d6124'},\n",
       "  {'appearances': ['https://zelda.fanapis.com/api/games/5f6ce9d805615a85623ec2c9'],\n",
       "   'name': 'Flaxel',\n",
       "   'description': 'Flaxel is a character in Breath of the Wild. ',\n",
       "   'gender': 'Female',\n",
       "   'race': 'Hylian',\n",
       "   'id': '5f6d186f246bd9a0809d6129'},\n",
       "  {'appearances': [],\n",
       "   'name': 'Farore',\n",
       "   'description': 'Farore is the name of two different people in the Zelda universe: ',\n",
       "   'gender': None,\n",
       "   'race': None,\n",
       "   'id': '5f6d186f246bd9a0809d612e'},\n",
       "  {'appearances': ['https://zelda.fanapis.com/api/games/5f6ce9d805615a85623ec2bc'],\n",
       "   'name': 'Grog',\n",
       "   'description': \"Grog is a character in Majora's Mask. \",\n",
       "   'gender': 'Male',\n",
       "   'race': 'Hylian',\n",
       "   'id': '5f6d186f246bd9a0809d6133'},\n",
       "  {'appearances': ['https://zelda.fanapis.com/api/games/5f6ce9d805615a85623ec2c9'],\n",
       "   'name': 'Straia',\n",
       "   'description': 'Straia is a character in Breath of the Wild. ',\n",
       "   'gender': None,\n",
       "   'race': 'Hylian',\n",
       "   'id': '5f6d186f246bd9a0809d6138'},\n",
       "  {'appearances': ['https://zelda.fanapis.com/api/games/5f6ce9d805615a85623ec2c9'],\n",
       "   'name': 'Malena',\n",
       "   'description': 'Malena is a character in Breath of the Wild. ',\n",
       "   'gender': 'Female',\n",
       "   'race': 'Gerudo',\n",
       "   'id': '5f6d186f246bd9a0809d613d'},\n",
       "  {'appearances': ['https://zelda.fanapis.com/api/games/5f6ce9d805615a85623ec2bf'],\n",
       "   'name': 'Makar',\n",
       "   'description': 'Makar is a character in The Wind Waker. ',\n",
       "   'gender': 'Male',\n",
       "   'race': 'Korok',\n",
       "   'id': '5f6d186f246bd9a0809d6142'},\n",
       "  {'appearances': ['https://zelda.fanapis.com/api/games/5f6ce9d805615a85623ec2bd'],\n",
       "   'name': 'Magician',\n",
       "   'description': 'The Magician is a character in The Adventure of Link. ',\n",
       "   'gender': None,\n",
       "   'race': None,\n",
       "   'id': '5f6d186f246bd9a0809d6147'},\n",
       "  {'appearances': ['https://zelda.fanapis.com/api/games/5f6ce9d805615a85623ec2c8'],\n",
       "   'name': 'Mallara',\n",
       "   'description': 'Mallara is a character in Skyward Sword. ',\n",
       "   'gender': 'Female',\n",
       "   'race': 'Hylian',\n",
       "   'id': '5f6d186f246bd9a0809d614c'}]}"
      ]
     },
     "execution_count": 5,
     "metadata": {},
     "output_type": "execute_result"
    }
   ],
   "source": [
    "Charahtml = req.get(Charaurl).json()\n",
    "\n",
    "Charahtml"
   ]
  },
  {
   "cell_type": "code",
   "execution_count": 6,
   "metadata": {},
   "outputs": [
    {
     "data": {
      "text/plain": [
       "20"
      ]
     },
     "execution_count": 6,
     "metadata": {},
     "output_type": "execute_result"
    }
   ],
   "source": [
    "len(Charahtml['data'])"
   ]
  },
  {
   "cell_type": "code",
   "execution_count": 7,
   "metadata": {},
   "outputs": [
    {
     "data": {
      "text/plain": [
       "[{'appearances': ['https://zelda.fanapis.com/api/games/5f6ce9d805615a85623ec2c5'],\n",
       "  'name': 'Anjean',\n",
       "  'description': 'Anjean  is a character in Spirit Tracks. She is a member of the Lokomo people and the protector of the Tower of Spirits, the central hub of the Spirit Tracks, whose goal is to prevent the evil Malladus from breaking free of his imprisonment. Anjean provides the Spirit Train, which Link and Princess Zelda use along their quest. Anjean was also a very close friend with Tetra after she met her shortly after the feisty pirate arrived to the land that would become the next Hyrule. As a result of their strong friendship, Anjean gave Tetra the sacred instrument known as the Spirit Flute, but only under the condition that she and her descendants would use it to protect the land. ',\n",
       "  'gender': 'Female',\n",
       "  'race': 'Lokomo',\n",
       "  'id': '5f6d186f246bd9a0809d6115'},\n",
       " {'appearances': ['https://zelda.fanapis.com/api/games/5f6ce9d805615a85623ec2c0',\n",
       "   'https://zelda.fanapis.com/api/games/5f6ce9d805615a85623ec2b9'],\n",
       "  'name': 'Animal Companion',\n",
       "  'description': \"The Animal Companions are three characters in Oracle of Seasons and Oracle of Ages: Ricky, Moosh, and Dimitri. They become Link's Mounts when he needs their special abilities to traverse certain terrain. \",\n",
       "  'gender': None,\n",
       "  'race': None,\n",
       "  'id': '5f6d186f246bd9a0809d6116'},\n",
       " {'appearances': ['https://zelda.fanapis.com/api/games/5f6ce9d805615a85623ec2c9'],\n",
       "  'name': 'Ancient Oven',\n",
       "  'description': 'The Ancient Oven is a character in Breath of the Wild. ',\n",
       "  'gender': None,\n",
       "  'race': None,\n",
       "  'id': '5f6d186f246bd9a0809d6117'},\n",
       " {'appearances': ['https://zelda.fanapis.com/api/games/5f6ce9d805615a85623ec2c3',\n",
       "   'https://zelda.fanapis.com/api/games/5f6ce9d805615a85623ec2b9'],\n",
       "  'name': 'Angler Fish',\n",
       "  'description': 'The Angler Fish is a recurring Boss in The Legend of Zelda series. ',\n",
       "  'gender': None,\n",
       "  'race': None,\n",
       "  'id': '5f6d186f246bd9a0809d6118'},\n",
       " {'appearances': ['https://zelda.fanapis.com/api/games/5f6ce9d805615a85623ec2c5'],\n",
       "  'name': 'Carben',\n",
       "  'description': 'Carben is a character from Spirit Tracks. He is a member of the Lokomo race and Guardian of the Ocean Realm who resides in the Ocean Sanctuary. Like the rest of the Lokomo people, Carben possesses a sacred instrument, his being the flute, which generates energy to power the Spirit Tracks when played with another sacred instrument. Carben also has the ability to communicate with birds. ',\n",
       "  'gender': 'Male',\n",
       "  'race': 'Lokomo',\n",
       "  'id': '5f6d186f246bd9a0809d611a'},\n",
       " {'appearances': ['https://zelda.fanapis.com/api/games/5f6ce9d805615a85623ec2c9'],\n",
       "  'name': 'Anche',\n",
       "  'description': 'Anche is a character in Breath of the Wild. ',\n",
       "  'gender': None,\n",
       "  'race': 'Gerudo',\n",
       "  'id': '5f6d186f246bd9a0809d6119'},\n",
       " {'appearances': ['https://zelda.fanapis.com/api/games/5f6ce9d805615a85623ec2c9'],\n",
       "  'name': 'Cara',\n",
       "  'description': 'Cara is a character in Breath of the Wild. ',\n",
       "  'gender': 'Female',\n",
       "  'race': 'Gerudo',\n",
       "  'id': '5f6d186f246bd9a0809d611b'},\n",
       " {'appearances': [],\n",
       "  'name': 'Captain Krin',\n",
       "  'description': 'Captain Krin is a character featured in the The Legend of Zelda comics by Valiant Comics published by Valiant Comics. He is the soldier captain at the North Castle who will do anything to protect both the palace and the king. ',\n",
       "  'gender': None,\n",
       "  'race': 'Hylian',\n",
       "  'id': '5f6d186f246bd9a0809d611d'},\n",
       " {'appearances': ['https://zelda.fanapis.com/api/games/5f6ce9d805615a85623ec2cd'],\n",
       "  'name': 'Captain Stalfos',\n",
       "  'description': \"Captain Stalfos is a boss in Freshly-Picked Tingle's Rosy Rupeeland. He is the leader of the group of Pirates. In order for Tingle to join the pirate crew, he has to be dead. If he wants to survive, he must defeat the captain in a sword duel. If Tingle succeeds in this task, he will be given the Bone Ocarina, which may be used at any pier to call the pirate ship. \",\n",
       "  'gender': None,\n",
       "  'race': 'Pirate',\n",
       "  'id': '5f6d186f246bd9a0809d611c'},\n",
       " {'appearances': ['https://zelda.fanapis.com/api/games/5f6ce9d805615a85623ec2bc'],\n",
       "  'name': 'Captain Keeta',\n",
       "  'description': \"Captain Keeta, also known as Skull Keeta, is a mini-boss in Majora's Mask. \",\n",
       "  'gender': None,\n",
       "  'race': None,\n",
       "  'id': '5f6d186f246bd9a0809d611e'},\n",
       " {'appearances': ['https://zelda.fanapis.com/api/games/5f6ce9d805615a85623ec2c6'],\n",
       "  'name': 'Caprice',\n",
       "  'description': 'Caprice is a character in The Minish Cap. ',\n",
       "  'gender': None,\n",
       "  'race': None,\n",
       "  'id': '5f6d186f246bd9a0809d611f'},\n",
       " {'appearances': ['https://zelda.fanapis.com/api/games/5f6ce9d805615a85623ec2c9'],\n",
       "  'name': 'Champion',\n",
       "  'description': 'The Champions are a team of five chosen from the five races of Hyrule to battle against Calamity Ganon. Led by Princess Zelda with the Champion hero chosen by the sword that seals the darkness at her side, the other four Champions were tasked with piloting the Divine Beasts and providing back-up as Link and Zelda face the Calamity head-on in an attempted to seal it away. ',\n",
       "  'gender': None,\n",
       "  'race': None,\n",
       "  'id': '5f6d186f246bd9a0809d6124'},\n",
       " {'appearances': ['https://zelda.fanapis.com/api/games/5f6ce9d805615a85623ec2c9'],\n",
       "  'name': 'Flaxel',\n",
       "  'description': 'Flaxel is a character in Breath of the Wild. ',\n",
       "  'gender': 'Female',\n",
       "  'race': 'Hylian',\n",
       "  'id': '5f6d186f246bd9a0809d6129'},\n",
       " {'appearances': [],\n",
       "  'name': 'Farore',\n",
       "  'description': 'Farore is the name of two different people in the Zelda universe: ',\n",
       "  'gender': None,\n",
       "  'race': None,\n",
       "  'id': '5f6d186f246bd9a0809d612e'},\n",
       " {'appearances': ['https://zelda.fanapis.com/api/games/5f6ce9d805615a85623ec2bc'],\n",
       "  'name': 'Grog',\n",
       "  'description': \"Grog is a character in Majora's Mask. \",\n",
       "  'gender': 'Male',\n",
       "  'race': 'Hylian',\n",
       "  'id': '5f6d186f246bd9a0809d6133'},\n",
       " {'appearances': ['https://zelda.fanapis.com/api/games/5f6ce9d805615a85623ec2c9'],\n",
       "  'name': 'Straia',\n",
       "  'description': 'Straia is a character in Breath of the Wild. ',\n",
       "  'gender': None,\n",
       "  'race': 'Hylian',\n",
       "  'id': '5f6d186f246bd9a0809d6138'},\n",
       " {'appearances': ['https://zelda.fanapis.com/api/games/5f6ce9d805615a85623ec2c9'],\n",
       "  'name': 'Malena',\n",
       "  'description': 'Malena is a character in Breath of the Wild. ',\n",
       "  'gender': 'Female',\n",
       "  'race': 'Gerudo',\n",
       "  'id': '5f6d186f246bd9a0809d613d'},\n",
       " {'appearances': ['https://zelda.fanapis.com/api/games/5f6ce9d805615a85623ec2bf'],\n",
       "  'name': 'Makar',\n",
       "  'description': 'Makar is a character in The Wind Waker. ',\n",
       "  'gender': 'Male',\n",
       "  'race': 'Korok',\n",
       "  'id': '5f6d186f246bd9a0809d6142'},\n",
       " {'appearances': ['https://zelda.fanapis.com/api/games/5f6ce9d805615a85623ec2bd'],\n",
       "  'name': 'Magician',\n",
       "  'description': 'The Magician is a character in The Adventure of Link. ',\n",
       "  'gender': None,\n",
       "  'race': None,\n",
       "  'id': '5f6d186f246bd9a0809d6147'},\n",
       " {'appearances': ['https://zelda.fanapis.com/api/games/5f6ce9d805615a85623ec2c8'],\n",
       "  'name': 'Mallara',\n",
       "  'description': 'Mallara is a character in Skyward Sword. ',\n",
       "  'gender': 'Female',\n",
       "  'race': 'Hylian',\n",
       "  'id': '5f6d186f246bd9a0809d614c'}]"
      ]
     },
     "execution_count": 7,
     "metadata": {},
     "output_type": "execute_result"
    }
   ],
   "source": [
    "Charadata = Charahtml['data']\n",
    "Charadata"
   ]
  },
  {
   "cell_type": "code",
   "execution_count": 8,
   "metadata": {},
   "outputs": [
    {
     "name": "stdout",
     "output_type": "stream",
     "text": [
      "appearances: [['https://zelda.fanapis.com/api/games/5f6ce9d805615a85623ec2c5'], ['https://zelda.fanapis.com/api/games/5f6ce9d805615a85623ec2c0', 'https://zelda.fanapis.com/api/games/5f6ce9d805615a85623ec2b9'], ['https://zelda.fanapis.com/api/games/5f6ce9d805615a85623ec2c9'], ['https://zelda.fanapis.com/api/games/5f6ce9d805615a85623ec2c3', 'https://zelda.fanapis.com/api/games/5f6ce9d805615a85623ec2b9'], ['https://zelda.fanapis.com/api/games/5f6ce9d805615a85623ec2c5'], ['https://zelda.fanapis.com/api/games/5f6ce9d805615a85623ec2c9'], ['https://zelda.fanapis.com/api/games/5f6ce9d805615a85623ec2c9'], [], ['https://zelda.fanapis.com/api/games/5f6ce9d805615a85623ec2cd'], ['https://zelda.fanapis.com/api/games/5f6ce9d805615a85623ec2bc'], ['https://zelda.fanapis.com/api/games/5f6ce9d805615a85623ec2c6'], ['https://zelda.fanapis.com/api/games/5f6ce9d805615a85623ec2c9'], ['https://zelda.fanapis.com/api/games/5f6ce9d805615a85623ec2c9'], [], ['https://zelda.fanapis.com/api/games/5f6ce9d805615a85623ec2bc'], ['https://zelda.fanapis.com/api/games/5f6ce9d805615a85623ec2c9'], ['https://zelda.fanapis.com/api/games/5f6ce9d805615a85623ec2c9'], ['https://zelda.fanapis.com/api/games/5f6ce9d805615a85623ec2bf'], ['https://zelda.fanapis.com/api/games/5f6ce9d805615a85623ec2bd'], ['https://zelda.fanapis.com/api/games/5f6ce9d805615a85623ec2c8']]\n",
      "name: ['Anjean', 'Animal Companion', 'Ancient Oven', 'Angler Fish', 'Carben', 'Anche', 'Cara', 'Captain Krin', 'Captain Stalfos', 'Captain Keeta', 'Caprice', 'Champion', 'Flaxel', 'Farore', 'Grog', 'Straia', 'Malena', 'Makar', 'Magician', 'Mallara']\n",
      "description: ['Anjean  is a character in Spirit Tracks. She is a member of the Lokomo people and the protector of the Tower of Spirits, the central hub of the Spirit Tracks, whose goal is to prevent the evil Malladus from breaking free of his imprisonment. Anjean provides the Spirit Train, which Link and Princess Zelda use along their quest. Anjean was also a very close friend with Tetra after she met her shortly after the feisty pirate arrived to the land that would become the next Hyrule. As a result of their strong friendship, Anjean gave Tetra the sacred instrument known as the Spirit Flute, but only under the condition that she and her descendants would use it to protect the land. ', \"The Animal Companions are three characters in Oracle of Seasons and Oracle of Ages: Ricky, Moosh, and Dimitri. They become Link's Mounts when he needs their special abilities to traverse certain terrain. \", 'The Ancient Oven is a character in Breath of the Wild. ', 'The Angler Fish is a recurring Boss in The Legend of Zelda series. ', 'Carben is a character from Spirit Tracks. He is a member of the Lokomo race and Guardian of the Ocean Realm who resides in the Ocean Sanctuary. Like the rest of the Lokomo people, Carben possesses a sacred instrument, his being the flute, which generates energy to power the Spirit Tracks when played with another sacred instrument. Carben also has the ability to communicate with birds. ', 'Anche is a character in Breath of the Wild. ', 'Cara is a character in Breath of the Wild. ', 'Captain Krin is a character featured in the The Legend of Zelda comics by Valiant Comics published by Valiant Comics. He is the soldier captain at the North Castle who will do anything to protect both the palace and the king. ', \"Captain Stalfos is a boss in Freshly-Picked Tingle's Rosy Rupeeland. He is the leader of the group of Pirates. In order for Tingle to join the pirate crew, he has to be dead. If he wants to survive, he must defeat the captain in a sword duel. If Tingle succeeds in this task, he will be given the Bone Ocarina, which may be used at any pier to call the pirate ship. \", \"Captain Keeta, also known as Skull Keeta, is a mini-boss in Majora's Mask. \", 'Caprice is a character in The Minish Cap. ', 'The Champions are a team of five chosen from the five races of Hyrule to battle against Calamity Ganon. Led by Princess Zelda with the Champion hero chosen by the sword that seals the darkness at her side, the other four Champions were tasked with piloting the Divine Beasts and providing back-up as Link and Zelda face the Calamity head-on in an attempted to seal it away. ', 'Flaxel is a character in Breath of the Wild. ', 'Farore is the name of two different people in the Zelda universe: ', \"Grog is a character in Majora's Mask. \", 'Straia is a character in Breath of the Wild. ', 'Malena is a character in Breath of the Wild. ', 'Makar is a character in The Wind Waker. ', 'The Magician is a character in The Adventure of Link. ', 'Mallara is a character in Skyward Sword. ']\n",
      "gender: ['Female', None, None, None, 'Male', None, 'Female', None, None, None, None, None, 'Female', None, 'Male', None, 'Female', 'Male', None, 'Female']\n",
      "race: ['Lokomo', None, None, None, 'Lokomo', 'Gerudo', 'Gerudo', 'Hylian', 'Pirate', None, None, None, 'Hylian', None, 'Hylian', 'Hylian', 'Gerudo', 'Korok', None, 'Hylian']\n",
      "id: ['5f6d186f246bd9a0809d6115', '5f6d186f246bd9a0809d6116', '5f6d186f246bd9a0809d6117', '5f6d186f246bd9a0809d6118', '5f6d186f246bd9a0809d611a', '5f6d186f246bd9a0809d6119', '5f6d186f246bd9a0809d611b', '5f6d186f246bd9a0809d611d', '5f6d186f246bd9a0809d611c', '5f6d186f246bd9a0809d611e', '5f6d186f246bd9a0809d611f', '5f6d186f246bd9a0809d6124', '5f6d186f246bd9a0809d6129', '5f6d186f246bd9a0809d612e', '5f6d186f246bd9a0809d6133', '5f6d186f246bd9a0809d6138', '5f6d186f246bd9a0809d613d', '5f6d186f246bd9a0809d6142', '5f6d186f246bd9a0809d6147', '5f6d186f246bd9a0809d614c']\n"
     ]
    }
   ],
   "source": [
    "values_by_key = {}\n",
    "\n",
    "# Iterate over each dictionary in games_data\n",
    "for dictionary in Charadata:\n",
    "    # Iterate over each key-value pair in the dictionary\n",
    "    for key, value in dictionary.items():\n",
    "        # Check if the key is already in the values_by_key dictionary\n",
    "        if key in values_by_key:\n",
    "            # Append the value to the existing list of values for the key\n",
    "            values_by_key[key].append(value)\n",
    "        else:\n",
    "            # Create a new list with the value for the key\n",
    "            values_by_key[key] = [value]\n",
    "\n",
    "# Print the values for each key\n",
    "for key, values in values_by_key.items():\n",
    "    print(f\"{key}: {values}\")"
   ]
  },
  {
   "cell_type": "code",
   "execution_count": 9,
   "metadata": {},
   "outputs": [
    {
     "ename": "KeyError",
     "evalue": "'released_date'",
     "output_type": "error",
     "traceback": [
      "\u001b[0;31m---------------------------------------------------------------------------\u001b[0m",
      "\u001b[0;31mKeyError\u001b[0m                                  Traceback (most recent call last)",
      "Cell \u001b[0;32mIn[9], line 1\u001b[0m\n\u001b[0;32m----> 1\u001b[0m values_by_key[\u001b[39m'\u001b[39;49m\u001b[39mreleased_date\u001b[39;49m\u001b[39m'\u001b[39;49m]\n",
      "\u001b[0;31mKeyError\u001b[0m: 'released_date'"
     ]
    }
   ],
   "source": [
    "values_by_key['released_date']"
   ]
  },
  {
   "cell_type": "code",
   "execution_count": 11,
   "metadata": {},
   "outputs": [
    {
     "name": "stdout",
     "output_type": "stream",
     "text": [
      "[['https://zelda.fanapis.com/api/games/5f6ce9d805615a85623ec2c5'], 'Anjean', 'Anjean  is a character in Spirit Tracks. She is a member of the Lokomo people and the protector of the Tower of Spirits, the central hub of the Spirit Tracks, whose goal is to prevent the evil Malladus from breaking free of his imprisonment. Anjean provides the Spirit Train, which Link and Princess Zelda use along their quest. Anjean was also a very close friend with Tetra after she met her shortly after the feisty pirate arrived to the land that would become the next Hyrule. As a result of their strong friendship, Anjean gave Tetra the sacred instrument known as the Spirit Flute, but only under the condition that she and her descendants would use it to protect the land. ', 'Female', 'Lokomo', '5f6d186f246bd9a0809d6115']\n",
      "[['https://zelda.fanapis.com/api/games/5f6ce9d805615a85623ec2c0', 'https://zelda.fanapis.com/api/games/5f6ce9d805615a85623ec2b9'], 'Animal Companion', \"The Animal Companions are three characters in Oracle of Seasons and Oracle of Ages: Ricky, Moosh, and Dimitri. They become Link's Mounts when he needs their special abilities to traverse certain terrain. \", None, None, '5f6d186f246bd9a0809d6116']\n",
      "[['https://zelda.fanapis.com/api/games/5f6ce9d805615a85623ec2c9'], 'Ancient Oven', 'The Ancient Oven is a character in Breath of the Wild. ', None, None, '5f6d186f246bd9a0809d6117']\n",
      "[['https://zelda.fanapis.com/api/games/5f6ce9d805615a85623ec2c3', 'https://zelda.fanapis.com/api/games/5f6ce9d805615a85623ec2b9'], 'Angler Fish', 'The Angler Fish is a recurring Boss in The Legend of Zelda series. ', None, None, '5f6d186f246bd9a0809d6118']\n",
      "[['https://zelda.fanapis.com/api/games/5f6ce9d805615a85623ec2c5'], 'Carben', 'Carben is a character from Spirit Tracks. He is a member of the Lokomo race and Guardian of the Ocean Realm who resides in the Ocean Sanctuary. Like the rest of the Lokomo people, Carben possesses a sacred instrument, his being the flute, which generates energy to power the Spirit Tracks when played with another sacred instrument. Carben also has the ability to communicate with birds. ', 'Male', 'Lokomo', '5f6d186f246bd9a0809d611a']\n",
      "[['https://zelda.fanapis.com/api/games/5f6ce9d805615a85623ec2c9'], 'Anche', 'Anche is a character in Breath of the Wild. ', None, 'Gerudo', '5f6d186f246bd9a0809d6119']\n",
      "[['https://zelda.fanapis.com/api/games/5f6ce9d805615a85623ec2c9'], 'Cara', 'Cara is a character in Breath of the Wild. ', 'Female', 'Gerudo', '5f6d186f246bd9a0809d611b']\n",
      "[[], 'Captain Krin', 'Captain Krin is a character featured in the The Legend of Zelda comics by Valiant Comics published by Valiant Comics. He is the soldier captain at the North Castle who will do anything to protect both the palace and the king. ', None, 'Hylian', '5f6d186f246bd9a0809d611d']\n",
      "[['https://zelda.fanapis.com/api/games/5f6ce9d805615a85623ec2cd'], 'Captain Stalfos', \"Captain Stalfos is a boss in Freshly-Picked Tingle's Rosy Rupeeland. He is the leader of the group of Pirates. In order for Tingle to join the pirate crew, he has to be dead. If he wants to survive, he must defeat the captain in a sword duel. If Tingle succeeds in this task, he will be given the Bone Ocarina, which may be used at any pier to call the pirate ship. \", None, 'Pirate', '5f6d186f246bd9a0809d611c']\n",
      "[['https://zelda.fanapis.com/api/games/5f6ce9d805615a85623ec2bc'], 'Captain Keeta', \"Captain Keeta, also known as Skull Keeta, is a mini-boss in Majora's Mask. \", None, None, '5f6d186f246bd9a0809d611e']\n",
      "[['https://zelda.fanapis.com/api/games/5f6ce9d805615a85623ec2c6'], 'Caprice', 'Caprice is a character in The Minish Cap. ', None, None, '5f6d186f246bd9a0809d611f']\n",
      "[['https://zelda.fanapis.com/api/games/5f6ce9d805615a85623ec2c9'], 'Champion', 'The Champions are a team of five chosen from the five races of Hyrule to battle against Calamity Ganon. Led by Princess Zelda with the Champion hero chosen by the sword that seals the darkness at her side, the other four Champions were tasked with piloting the Divine Beasts and providing back-up as Link and Zelda face the Calamity head-on in an attempted to seal it away. ', None, None, '5f6d186f246bd9a0809d6124']\n",
      "[['https://zelda.fanapis.com/api/games/5f6ce9d805615a85623ec2c9'], 'Flaxel', 'Flaxel is a character in Breath of the Wild. ', 'Female', 'Hylian', '5f6d186f246bd9a0809d6129']\n",
      "[[], 'Farore', 'Farore is the name of two different people in the Zelda universe: ', None, None, '5f6d186f246bd9a0809d612e']\n",
      "[['https://zelda.fanapis.com/api/games/5f6ce9d805615a85623ec2bc'], 'Grog', \"Grog is a character in Majora's Mask. \", 'Male', 'Hylian', '5f6d186f246bd9a0809d6133']\n",
      "[['https://zelda.fanapis.com/api/games/5f6ce9d805615a85623ec2c9'], 'Straia', 'Straia is a character in Breath of the Wild. ', None, 'Hylian', '5f6d186f246bd9a0809d6138']\n",
      "[['https://zelda.fanapis.com/api/games/5f6ce9d805615a85623ec2c9'], 'Malena', 'Malena is a character in Breath of the Wild. ', 'Female', 'Gerudo', '5f6d186f246bd9a0809d613d']\n",
      "[['https://zelda.fanapis.com/api/games/5f6ce9d805615a85623ec2bf'], 'Makar', 'Makar is a character in The Wind Waker. ', 'Male', 'Korok', '5f6d186f246bd9a0809d6142']\n",
      "[['https://zelda.fanapis.com/api/games/5f6ce9d805615a85623ec2bd'], 'Magician', 'The Magician is a character in The Adventure of Link. ', None, None, '5f6d186f246bd9a0809d6147']\n",
      "[['https://zelda.fanapis.com/api/games/5f6ce9d805615a85623ec2c8'], 'Mallara', 'Mallara is a character in Skyward Sword. ', 'Female', 'Hylian', '5f6d186f246bd9a0809d614c']\n"
     ]
    }
   ],
   "source": [
    "table_data = []\n",
    "\n",
    "for dictionary in Charadata:\n",
    "    row = list(dictionary.values())\n",
    "    table_data.append(row)\n",
    "\n",
    "# Print the table\n",
    "for row in table_data:\n",
    "    print(row)\n"
   ]
  },
  {
   "cell_type": "code",
   "execution_count": 62,
   "metadata": {},
   "outputs": [
    {
     "name": "stdout",
     "output_type": "stream",
     "text": [
      "id: 5f6ce9d805615a85623ec2c6, Name: The Legend of Zelda: The Minish Cap, Description: The Legend of Zelda: The Minish Cap is the twelfth main installment of The Legend of Zelda series. It was released for the Game Boy Advance in 2004. , Developer: Capcom, Publisher: Nintendo, Release date:  January 10, 2005\n"
     ]
    }
   ],
   "source": [
    "for Game in Gamesdata:\n",
    "    Gamesdata=dictionary['Games_data']\n",
    "    values = Gamesdata.values\n",
    "\n",
    "print(f\"id: {id}, Name: {Name}, Description: {Description}, Developer: {Developer}, Publisher: {Publisher}, Release date: {Release_date}\")"
   ]
  },
  {
   "cell_type": "code",
   "execution_count": null,
   "metadata": {},
   "outputs": [],
   "source": []
  },
  {
   "cell_type": "code",
   "execution_count": null,
   "metadata": {},
   "outputs": [],
   "source": []
  }
 ],
 "metadata": {
  "kernelspec": {
   "display_name": "Python 3",
   "language": "python",
   "name": "python3"
  },
  "language_info": {
   "codemirror_mode": {
    "name": "ipython",
    "version": 3
   },
   "file_extension": ".py",
   "mimetype": "text/x-python",
   "name": "python",
   "nbconvert_exporter": "python",
   "pygments_lexer": "ipython3",
   "version": "3.11.2"
  },
  "orig_nbformat": 4
 },
 "nbformat": 4,
 "nbformat_minor": 2
}
