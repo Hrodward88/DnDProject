{
 "cells": [
  {
   "cell_type": "code",
   "execution_count": 1,
   "metadata": {},
   "outputs": [],
   "source": [
    "import requests as req \n",
    "from bs4 import BeautifulSoup\n",
    "import pandas as pd\n",
    "import json\n",
    "# from pprint import pprint\n",
    "# from lxml import html\n",
    "# from lxml.html import fromstring\n",
    "# import urllib.request\n",
    "# from urllib.request import urlopen\n",
    "# import random\n",
    "# import re\n",
    "# import scrapy"
   ]
  },
  {
   "cell_type": "code",
   "execution_count": 2,
   "metadata": {},
   "outputs": [],
   "source": [
    "Dungeonurl = 'https://zelda.fanapis.com/api/dungeons'"
   ]
  },
  {
   "cell_type": "code",
   "execution_count": 3,
   "metadata": {},
   "outputs": [
    {
     "data": {
      "text/plain": [
       "{'success': True,\n",
       " 'count': 20,\n",
       " 'data': [{'appearances': ['https://zelda.fanapis.com/api/games/5f6ce9d805615a85623ec2ce'],\n",
       "   'name': 'Abyss of Agony',\n",
       "   'description': 'Abyss of Agony is a Level in Tri Force Heroes. It is the second Level of the Riverside area. ',\n",
       "   'id': '5f6d158a3dd55d9ed2d1c083'},\n",
       "  {'appearances': ['https://zelda.fanapis.com/api/games/5f6ce9d805615a85623ec2c3'],\n",
       "   'name': 'Bottle Grotto',\n",
       "   'description': \"Bottle Grotto is the second Dungeon in Link's Awakening. It is the resting place of the Conch Horn, one of the eight Instruments of the Sirens. The entrance to this Dungeon is located within Goponga Swamp, north of the Mysterious Forest and is surrounded by swampy Water fitting with the Dungeon being named a Grotto, which is a cave located near a source of Water and is prone to flooding, although no Water can actually be found within the Dungeon. BowWow is needed to enter, as the entrance is completely blocked by Goponga Flowers, which cannot be destroyed by using any of the weapons Link currently has available to him. The interior of this Dungeon is mostly gray flooring and blue walls. The main tool of the Dungeon is the Power Bracelet, which is required to lift the numerous Pots and the Genie's Bottle which the level is named after. The mini-boss is a Hinox. \",\n",
       "   'id': '5f6d158a3dd55d9ed2d1c084'},\n",
       "  {'appearances': ['https://zelda.fanapis.com/api/games/5f6ce9d805615a85623ec2c9'],\n",
       "   'name': 'Bosh Kala Shrine',\n",
       "   'description': 'The Bosh Kala Shrine, designated by the Trial name The Wind Guides You, is an Ancient Shrine in Breath of the Wild. ',\n",
       "   'id': '5f6d158a3dd55d9ed2d1c085'},\n",
       "  {'appearances': ['https://zelda.fanapis.com/api/games/5f6ce9d805615a85623ec2ce'],\n",
       "   'name': 'Bomb Storage',\n",
       "   'description': 'Bomb Storage is a Level in Tri Force Heroes. It is the second Level in the Fortress area. ',\n",
       "   'id': '5f6d158a3dd55d9ed2d1c086'},\n",
       "  {'appearances': ['https://zelda.fanapis.com/api/games/5f6ce9d805615a85623ec2b8',\n",
       "    'https://zelda.fanapis.com/api/games/5f6ce9d805615a85623ec2c7'],\n",
       "   'name': 'Castle Dungeon',\n",
       "   'description': 'The Castle Dungeon, also known as the Sewer Passageway, is a dungeon in The Legend of Zelda series. ',\n",
       "   'id': '5f6d158a3dd55d9ed2d1c088'},\n",
       "  {'appearances': ['https://zelda.fanapis.com/api/games/5f6ce9d805615a85623ec2ce'],\n",
       "   'name': 'Blazing Trail',\n",
       "   'description': 'Blazing Trail is a Level in Tri Force Heroes. It is the first Level in the Volcano area. ',\n",
       "   'id': '5f6d158a3dd55d9ed2d1c087'},\n",
       "  {'appearances': ['https://zelda.fanapis.com/api/games/5f6ce9d805615a85623ec2bc'],\n",
       "   'name': 'Beneath the Well',\n",
       "   'description': \"Beneath the Well is a vast maze-like mini-dungeon in Majora's Mask. It is located in Ikana Canyon, and must be traversed in order to obtain the Mirror Shield and be granted entrance to the Ancient Castle of Ikana.  \",\n",
       "   'id': '5f6d158a3dd55d9ed2d1c089'},\n",
       "  {'appearances': ['https://zelda.fanapis.com/api/games/5f6ce9d805615a85623ec2c2'],\n",
       "   'name': 'Bellum',\n",
       "   'description': 'Bellum is the primary antagonist of Phantom Hourglass, and serves as the Final Boss. ',\n",
       "   'id': '5f6d158a3dd55d9ed2d1c08c'},\n",
       "  {'appearances': ['https://zelda.fanapis.com/api/games/5f6ce9d805615a85623ec2b9'],\n",
       "   'name': 'Black Tower',\n",
       "   'description': \"The Black Tower, also known as Ambi's Tower, is a massive tower made of stone featured in Oracle of Ages that was built to the heavens 400 years in Labrynna's past by the order of Queen Ambi. However, after Veran arrived in the past, she manipulated the construction of the project and began using the tower for her own purposes. \",\n",
       "   'id': '5f6d158a3dd55d9ed2d1c08b'},\n",
       "  {'appearances': ['https://zelda.fanapis.com/api/games/5f6ce9d805615a85623ec2ce'],\n",
       "   'name': 'Buzz Blob Cave',\n",
       "   'description': 'Buzz Blob Cave is the second Level in Tri Force Heroes. It is the second Level of the Woodlands area, preceded by Deku Forest and followed by Moblin Base. ',\n",
       "   'id': '5f6d158a3dd55d9ed2d1c08a'},\n",
       "  {'appearances': ['https://zelda.fanapis.com/api/games/5f6ce9d805615a85623ec2be',\n",
       "    'https://zelda.fanapis.com/api/games/5f6ce9d805615a85623ec2c9'],\n",
       "   'name': 'Bridge of Eldin',\n",
       "   'description': 'The Bridge of Eldin, also known as Eldin Bridge, is a recurring location in The Legend of Zelda series. ',\n",
       "   'id': '5f6d158a3dd55d9ed2d1c08d'},\n",
       "  {'appearances': ['https://zelda.fanapis.com/api/games/5f6ce9d805615a85623ec2b7',\n",
       "    'https://zelda.fanapis.com/api/games/5f6ce9d805615a85623ec2c4'],\n",
       "   'name': 'Level 1',\n",
       "   'description': 'Level 1, also known as Level-1, and Eagle, is a recurring Dungeon in The Legend of Zelda series. ',\n",
       "   'id': '5f6d158a3dd55d9ed2d1c092'},\n",
       "  {'appearances': ['https://zelda.fanapis.com/api/games/5f6ce9d805615a85623ec2ce'],\n",
       "   'name': 'Secret Fortress',\n",
       "   'description': 'Secret Fortress is a Level in Tri Force Heroes. It is the first Level in the Riverside area. ',\n",
       "   'id': '5f6d158a3dd55d9ed2d1c097'},\n",
       "  {'appearances': ['https://zelda.fanapis.com/api/games/5f6ce9d805615a85623ec2d6'],\n",
       "   'name': 'Ranch Target Practice',\n",
       "   'description': \"Ranch Target Practice is a Stage in Link's Crossbow Training. It is the first Stage in the Finale. \",\n",
       "   'id': '5f6d158a3dd55d9ed2d1c09c'},\n",
       "  {'appearances': ['https://zelda.fanapis.com/api/games/5f6ce9d805615a85623ec2c9'],\n",
       "   'name': 'Trial of the Sword',\n",
       "   'description': \"The Trial of the Sword, also known as the Sword Monk's Shrine, is a challenge and mini-dungeon in Breath of the Wild added in The Master Trials DLC Pack. \",\n",
       "   'id': '5f6d158a3dd55d9ed2d1c0a1'},\n",
       "  {'appearances': ['https://zelda.fanapis.com/api/games/5f6ce9d805615a85623ec2c1'],\n",
       "   'name': 'Tower of Winds',\n",
       "   'description': 'The Tower of Winds is a level that appears in Four Swords Adventures. ',\n",
       "   'id': '5f6d158a3dd55d9ed2d1c0a6'},\n",
       "  {'appearances': ['https://zelda.fanapis.com/api/games/5f6ce9d805615a85623ec2b8',\n",
       "    'https://zelda.fanapis.com/api/games/5f6ce9d805615a85623ec2c1'],\n",
       "   'name': 'Thief',\n",
       "   'description': 'Thieves are recurring enemies and characters in The Legend of Zelda series. ',\n",
       "   'id': '5f6d158a3dd55d9ed2d1c0ab'},\n",
       "  {'appearances': ['https://zelda.fanapis.com/api/games/5f6ce9d805615a85623ec2c1'],\n",
       "   'name': 'The Swamp',\n",
       "   'description': 'The Swamp is the second stage of the Near the Fields level in Four Swords Adventures. ',\n",
       "   'id': '5f6d158a3dd55d9ed2d1c0b0'},\n",
       "  {'appearances': [],\n",
       "   'name': 'Temple of Storms',\n",
       "   'description': 'The Temple of Storms is a dungeon in Cadence of Hyrule. ',\n",
       "   'id': '5f6d158a3dd55d9ed2d1c0b5'},\n",
       "  {'appearances': ['https://zelda.fanapis.com/api/games/5f6ce9d805615a85623ec2c1'],\n",
       "   'name': 'Temple of Darkness',\n",
       "   'description': 'The Temple of Darkness is the third dungeon of The Dark World in Four Swords Adventures. ',\n",
       "   'id': '5f6d158a3dd55d9ed2d1c0ba'}]}"
      ]
     },
     "execution_count": 3,
     "metadata": {},
     "output_type": "execute_result"
    }
   ],
   "source": [
    "Dungeonhtml = req.get(Dungeonurl).json()\n",
    "\n",
    "Dungeonhtml"
   ]
  },
  {
   "cell_type": "code",
   "execution_count": 4,
   "metadata": {},
   "outputs": [
    {
     "data": {
      "text/plain": [
       "20"
      ]
     },
     "execution_count": 4,
     "metadata": {},
     "output_type": "execute_result"
    }
   ],
   "source": [
    "len(Dungeonhtml['data'])"
   ]
  },
  {
   "cell_type": "code",
   "execution_count": 5,
   "metadata": {},
   "outputs": [
    {
     "data": {
      "text/plain": [
       "[{'appearances': ['https://zelda.fanapis.com/api/games/5f6ce9d805615a85623ec2ce'],\n",
       "  'name': 'Abyss of Agony',\n",
       "  'description': 'Abyss of Agony is a Level in Tri Force Heroes. It is the second Level of the Riverside area. ',\n",
       "  'id': '5f6d158a3dd55d9ed2d1c083'},\n",
       " {'appearances': ['https://zelda.fanapis.com/api/games/5f6ce9d805615a85623ec2c3'],\n",
       "  'name': 'Bottle Grotto',\n",
       "  'description': \"Bottle Grotto is the second Dungeon in Link's Awakening. It is the resting place of the Conch Horn, one of the eight Instruments of the Sirens. The entrance to this Dungeon is located within Goponga Swamp, north of the Mysterious Forest and is surrounded by swampy Water fitting with the Dungeon being named a Grotto, which is a cave located near a source of Water and is prone to flooding, although no Water can actually be found within the Dungeon. BowWow is needed to enter, as the entrance is completely blocked by Goponga Flowers, which cannot be destroyed by using any of the weapons Link currently has available to him. The interior of this Dungeon is mostly gray flooring and blue walls. The main tool of the Dungeon is the Power Bracelet, which is required to lift the numerous Pots and the Genie's Bottle which the level is named after. The mini-boss is a Hinox. \",\n",
       "  'id': '5f6d158a3dd55d9ed2d1c084'},\n",
       " {'appearances': ['https://zelda.fanapis.com/api/games/5f6ce9d805615a85623ec2c9'],\n",
       "  'name': 'Bosh Kala Shrine',\n",
       "  'description': 'The Bosh Kala Shrine, designated by the Trial name The Wind Guides You, is an Ancient Shrine in Breath of the Wild. ',\n",
       "  'id': '5f6d158a3dd55d9ed2d1c085'},\n",
       " {'appearances': ['https://zelda.fanapis.com/api/games/5f6ce9d805615a85623ec2ce'],\n",
       "  'name': 'Bomb Storage',\n",
       "  'description': 'Bomb Storage is a Level in Tri Force Heroes. It is the second Level in the Fortress area. ',\n",
       "  'id': '5f6d158a3dd55d9ed2d1c086'},\n",
       " {'appearances': ['https://zelda.fanapis.com/api/games/5f6ce9d805615a85623ec2b8',\n",
       "   'https://zelda.fanapis.com/api/games/5f6ce9d805615a85623ec2c7'],\n",
       "  'name': 'Castle Dungeon',\n",
       "  'description': 'The Castle Dungeon, also known as the Sewer Passageway, is a dungeon in The Legend of Zelda series. ',\n",
       "  'id': '5f6d158a3dd55d9ed2d1c088'},\n",
       " {'appearances': ['https://zelda.fanapis.com/api/games/5f6ce9d805615a85623ec2ce'],\n",
       "  'name': 'Blazing Trail',\n",
       "  'description': 'Blazing Trail is a Level in Tri Force Heroes. It is the first Level in the Volcano area. ',\n",
       "  'id': '5f6d158a3dd55d9ed2d1c087'},\n",
       " {'appearances': ['https://zelda.fanapis.com/api/games/5f6ce9d805615a85623ec2bc'],\n",
       "  'name': 'Beneath the Well',\n",
       "  'description': \"Beneath the Well is a vast maze-like mini-dungeon in Majora's Mask. It is located in Ikana Canyon, and must be traversed in order to obtain the Mirror Shield and be granted entrance to the Ancient Castle of Ikana.  \",\n",
       "  'id': '5f6d158a3dd55d9ed2d1c089'},\n",
       " {'appearances': ['https://zelda.fanapis.com/api/games/5f6ce9d805615a85623ec2c2'],\n",
       "  'name': 'Bellum',\n",
       "  'description': 'Bellum is the primary antagonist of Phantom Hourglass, and serves as the Final Boss. ',\n",
       "  'id': '5f6d158a3dd55d9ed2d1c08c'},\n",
       " {'appearances': ['https://zelda.fanapis.com/api/games/5f6ce9d805615a85623ec2b9'],\n",
       "  'name': 'Black Tower',\n",
       "  'description': \"The Black Tower, also known as Ambi's Tower, is a massive tower made of stone featured in Oracle of Ages that was built to the heavens 400 years in Labrynna's past by the order of Queen Ambi. However, after Veran arrived in the past, she manipulated the construction of the project and began using the tower for her own purposes. \",\n",
       "  'id': '5f6d158a3dd55d9ed2d1c08b'},\n",
       " {'appearances': ['https://zelda.fanapis.com/api/games/5f6ce9d805615a85623ec2ce'],\n",
       "  'name': 'Buzz Blob Cave',\n",
       "  'description': 'Buzz Blob Cave is the second Level in Tri Force Heroes. It is the second Level of the Woodlands area, preceded by Deku Forest and followed by Moblin Base. ',\n",
       "  'id': '5f6d158a3dd55d9ed2d1c08a'},\n",
       " {'appearances': ['https://zelda.fanapis.com/api/games/5f6ce9d805615a85623ec2be',\n",
       "   'https://zelda.fanapis.com/api/games/5f6ce9d805615a85623ec2c9'],\n",
       "  'name': 'Bridge of Eldin',\n",
       "  'description': 'The Bridge of Eldin, also known as Eldin Bridge, is a recurring location in The Legend of Zelda series. ',\n",
       "  'id': '5f6d158a3dd55d9ed2d1c08d'},\n",
       " {'appearances': ['https://zelda.fanapis.com/api/games/5f6ce9d805615a85623ec2b7',\n",
       "   'https://zelda.fanapis.com/api/games/5f6ce9d805615a85623ec2c4'],\n",
       "  'name': 'Level 1',\n",
       "  'description': 'Level 1, also known as Level-1, and Eagle, is a recurring Dungeon in The Legend of Zelda series. ',\n",
       "  'id': '5f6d158a3dd55d9ed2d1c092'},\n",
       " {'appearances': ['https://zelda.fanapis.com/api/games/5f6ce9d805615a85623ec2ce'],\n",
       "  'name': 'Secret Fortress',\n",
       "  'description': 'Secret Fortress is a Level in Tri Force Heroes. It is the first Level in the Riverside area. ',\n",
       "  'id': '5f6d158a3dd55d9ed2d1c097'},\n",
       " {'appearances': ['https://zelda.fanapis.com/api/games/5f6ce9d805615a85623ec2d6'],\n",
       "  'name': 'Ranch Target Practice',\n",
       "  'description': \"Ranch Target Practice is a Stage in Link's Crossbow Training. It is the first Stage in the Finale. \",\n",
       "  'id': '5f6d158a3dd55d9ed2d1c09c'},\n",
       " {'appearances': ['https://zelda.fanapis.com/api/games/5f6ce9d805615a85623ec2c9'],\n",
       "  'name': 'Trial of the Sword',\n",
       "  'description': \"The Trial of the Sword, also known as the Sword Monk's Shrine, is a challenge and mini-dungeon in Breath of the Wild added in The Master Trials DLC Pack. \",\n",
       "  'id': '5f6d158a3dd55d9ed2d1c0a1'},\n",
       " {'appearances': ['https://zelda.fanapis.com/api/games/5f6ce9d805615a85623ec2c1'],\n",
       "  'name': 'Tower of Winds',\n",
       "  'description': 'The Tower of Winds is a level that appears in Four Swords Adventures. ',\n",
       "  'id': '5f6d158a3dd55d9ed2d1c0a6'},\n",
       " {'appearances': ['https://zelda.fanapis.com/api/games/5f6ce9d805615a85623ec2b8',\n",
       "   'https://zelda.fanapis.com/api/games/5f6ce9d805615a85623ec2c1'],\n",
       "  'name': 'Thief',\n",
       "  'description': 'Thieves are recurring enemies and characters in The Legend of Zelda series. ',\n",
       "  'id': '5f6d158a3dd55d9ed2d1c0ab'},\n",
       " {'appearances': ['https://zelda.fanapis.com/api/games/5f6ce9d805615a85623ec2c1'],\n",
       "  'name': 'The Swamp',\n",
       "  'description': 'The Swamp is the second stage of the Near the Fields level in Four Swords Adventures. ',\n",
       "  'id': '5f6d158a3dd55d9ed2d1c0b0'},\n",
       " {'appearances': [],\n",
       "  'name': 'Temple of Storms',\n",
       "  'description': 'The Temple of Storms is a dungeon in Cadence of Hyrule. ',\n",
       "  'id': '5f6d158a3dd55d9ed2d1c0b5'},\n",
       " {'appearances': ['https://zelda.fanapis.com/api/games/5f6ce9d805615a85623ec2c1'],\n",
       "  'name': 'Temple of Darkness',\n",
       "  'description': 'The Temple of Darkness is the third dungeon of The Dark World in Four Swords Adventures. ',\n",
       "  'id': '5f6d158a3dd55d9ed2d1c0ba'}]"
      ]
     },
     "execution_count": 5,
     "metadata": {},
     "output_type": "execute_result"
    }
   ],
   "source": [
    "Dungeondata = Dungeonhtml['data']\n",
    "Dungeondata"
   ]
  },
  {
   "cell_type": "code",
   "execution_count": 6,
   "metadata": {},
   "outputs": [
    {
     "name": "stdout",
     "output_type": "stream",
     "text": [
      "appearances: [['https://zelda.fanapis.com/api/games/5f6ce9d805615a85623ec2ce'], ['https://zelda.fanapis.com/api/games/5f6ce9d805615a85623ec2c3'], ['https://zelda.fanapis.com/api/games/5f6ce9d805615a85623ec2c9'], ['https://zelda.fanapis.com/api/games/5f6ce9d805615a85623ec2ce'], ['https://zelda.fanapis.com/api/games/5f6ce9d805615a85623ec2b8', 'https://zelda.fanapis.com/api/games/5f6ce9d805615a85623ec2c7'], ['https://zelda.fanapis.com/api/games/5f6ce9d805615a85623ec2ce'], ['https://zelda.fanapis.com/api/games/5f6ce9d805615a85623ec2bc'], ['https://zelda.fanapis.com/api/games/5f6ce9d805615a85623ec2c2'], ['https://zelda.fanapis.com/api/games/5f6ce9d805615a85623ec2b9'], ['https://zelda.fanapis.com/api/games/5f6ce9d805615a85623ec2ce'], ['https://zelda.fanapis.com/api/games/5f6ce9d805615a85623ec2be', 'https://zelda.fanapis.com/api/games/5f6ce9d805615a85623ec2c9'], ['https://zelda.fanapis.com/api/games/5f6ce9d805615a85623ec2b7', 'https://zelda.fanapis.com/api/games/5f6ce9d805615a85623ec2c4'], ['https://zelda.fanapis.com/api/games/5f6ce9d805615a85623ec2ce'], ['https://zelda.fanapis.com/api/games/5f6ce9d805615a85623ec2d6'], ['https://zelda.fanapis.com/api/games/5f6ce9d805615a85623ec2c9'], ['https://zelda.fanapis.com/api/games/5f6ce9d805615a85623ec2c1'], ['https://zelda.fanapis.com/api/games/5f6ce9d805615a85623ec2b8', 'https://zelda.fanapis.com/api/games/5f6ce9d805615a85623ec2c1'], ['https://zelda.fanapis.com/api/games/5f6ce9d805615a85623ec2c1'], [], ['https://zelda.fanapis.com/api/games/5f6ce9d805615a85623ec2c1']]\n",
      "name: ['Abyss of Agony', 'Bottle Grotto', 'Bosh Kala Shrine', 'Bomb Storage', 'Castle Dungeon', 'Blazing Trail', 'Beneath the Well', 'Bellum', 'Black Tower', 'Buzz Blob Cave', 'Bridge of Eldin', 'Level 1', 'Secret Fortress', 'Ranch Target Practice', 'Trial of the Sword', 'Tower of Winds', 'Thief', 'The Swamp', 'Temple of Storms', 'Temple of Darkness']\n",
      "description: ['Abyss of Agony is a Level in Tri Force Heroes. It is the second Level of the Riverside area. ', \"Bottle Grotto is the second Dungeon in Link's Awakening. It is the resting place of the Conch Horn, one of the eight Instruments of the Sirens. The entrance to this Dungeon is located within Goponga Swamp, north of the Mysterious Forest and is surrounded by swampy Water fitting with the Dungeon being named a Grotto, which is a cave located near a source of Water and is prone to flooding, although no Water can actually be found within the Dungeon. BowWow is needed to enter, as the entrance is completely blocked by Goponga Flowers, which cannot be destroyed by using any of the weapons Link currently has available to him. The interior of this Dungeon is mostly gray flooring and blue walls. The main tool of the Dungeon is the Power Bracelet, which is required to lift the numerous Pots and the Genie's Bottle which the level is named after. The mini-boss is a Hinox. \", 'The Bosh Kala Shrine, designated by the Trial name The Wind Guides You, is an Ancient Shrine in Breath of the Wild. ', 'Bomb Storage is a Level in Tri Force Heroes. It is the second Level in the Fortress area. ', 'The Castle Dungeon, also known as the Sewer Passageway, is a dungeon in The Legend of Zelda series. ', 'Blazing Trail is a Level in Tri Force Heroes. It is the first Level in the Volcano area. ', \"Beneath the Well is a vast maze-like mini-dungeon in Majora's Mask. It is located in Ikana Canyon, and must be traversed in order to obtain the Mirror Shield and be granted entrance to the Ancient Castle of Ikana.  \", 'Bellum is the primary antagonist of Phantom Hourglass, and serves as the Final Boss. ', \"The Black Tower, also known as Ambi's Tower, is a massive tower made of stone featured in Oracle of Ages that was built to the heavens 400 years in Labrynna's past by the order of Queen Ambi. However, after Veran arrived in the past, she manipulated the construction of the project and began using the tower for her own purposes. \", 'Buzz Blob Cave is the second Level in Tri Force Heroes. It is the second Level of the Woodlands area, preceded by Deku Forest and followed by Moblin Base. ', 'The Bridge of Eldin, also known as Eldin Bridge, is a recurring location in The Legend of Zelda series. ', 'Level 1, also known as Level-1, and Eagle, is a recurring Dungeon in The Legend of Zelda series. ', 'Secret Fortress is a Level in Tri Force Heroes. It is the first Level in the Riverside area. ', \"Ranch Target Practice is a Stage in Link's Crossbow Training. It is the first Stage in the Finale. \", \"The Trial of the Sword, also known as the Sword Monk's Shrine, is a challenge and mini-dungeon in Breath of the Wild added in The Master Trials DLC Pack. \", 'The Tower of Winds is a level that appears in Four Swords Adventures. ', 'Thieves are recurring enemies and characters in The Legend of Zelda series. ', 'The Swamp is the second stage of the Near the Fields level in Four Swords Adventures. ', 'The Temple of Storms is a dungeon in Cadence of Hyrule. ', 'The Temple of Darkness is the third dungeon of The Dark World in Four Swords Adventures. ']\n",
      "id: ['5f6d158a3dd55d9ed2d1c083', '5f6d158a3dd55d9ed2d1c084', '5f6d158a3dd55d9ed2d1c085', '5f6d158a3dd55d9ed2d1c086', '5f6d158a3dd55d9ed2d1c088', '5f6d158a3dd55d9ed2d1c087', '5f6d158a3dd55d9ed2d1c089', '5f6d158a3dd55d9ed2d1c08c', '5f6d158a3dd55d9ed2d1c08b', '5f6d158a3dd55d9ed2d1c08a', '5f6d158a3dd55d9ed2d1c08d', '5f6d158a3dd55d9ed2d1c092', '5f6d158a3dd55d9ed2d1c097', '5f6d158a3dd55d9ed2d1c09c', '5f6d158a3dd55d9ed2d1c0a1', '5f6d158a3dd55d9ed2d1c0a6', '5f6d158a3dd55d9ed2d1c0ab', '5f6d158a3dd55d9ed2d1c0b0', '5f6d158a3dd55d9ed2d1c0b5', '5f6d158a3dd55d9ed2d1c0ba']\n"
     ]
    }
   ],
   "source": [
    "values_by_key = {}\n",
    "\n",
    "# Iterate over each dictionary in games_data\n",
    "for dictionary in Dungeondata:\n",
    "    # Iterate over each key-value pair in the dictionary\n",
    "    for key, value in dictionary.items():\n",
    "        # Check if the key is already in the values_by_key dictionary\n",
    "        if key in values_by_key:\n",
    "            # Append the value to the existing list of values for the key\n",
    "            values_by_key[key].append(value)\n",
    "        else:\n",
    "            # Create a new list with the value for the key\n",
    "            values_by_key[key] = [value]\n",
    "\n",
    "# Print the values for each key\n",
    "for key, values in values_by_key.items():\n",
    "    print(f\"{key}: {values}\")"
   ]
  },
  {
   "cell_type": "code",
   "execution_count": 7,
   "metadata": {},
   "outputs": [
    {
     "ename": "KeyError",
     "evalue": "'released_date'",
     "output_type": "error",
     "traceback": [
      "\u001b[0;31m---------------------------------------------------------------------------\u001b[0m",
      "\u001b[0;31mKeyError\u001b[0m                                  Traceback (most recent call last)",
      "Cell \u001b[0;32mIn[7], line 1\u001b[0m\n\u001b[0;32m----> 1\u001b[0m values_by_key[\u001b[39m'\u001b[39;49m\u001b[39mreleased_date\u001b[39;49m\u001b[39m'\u001b[39;49m]\n",
      "\u001b[0;31mKeyError\u001b[0m: 'released_date'"
     ]
    }
   ],
   "source": [
    "values_by_key['released_date']"
   ]
  },
  {
   "cell_type": "code",
   "execution_count": 9,
   "metadata": {},
   "outputs": [
    {
     "name": "stdout",
     "output_type": "stream",
     "text": [
      "[['https://zelda.fanapis.com/api/games/5f6ce9d805615a85623ec2ce'], 'Abyss of Agony', 'Abyss of Agony is a Level in Tri Force Heroes. It is the second Level of the Riverside area. ', '5f6d158a3dd55d9ed2d1c083']\n",
      "[['https://zelda.fanapis.com/api/games/5f6ce9d805615a85623ec2c3'], 'Bottle Grotto', \"Bottle Grotto is the second Dungeon in Link's Awakening. It is the resting place of the Conch Horn, one of the eight Instruments of the Sirens. The entrance to this Dungeon is located within Goponga Swamp, north of the Mysterious Forest and is surrounded by swampy Water fitting with the Dungeon being named a Grotto, which is a cave located near a source of Water and is prone to flooding, although no Water can actually be found within the Dungeon. BowWow is needed to enter, as the entrance is completely blocked by Goponga Flowers, which cannot be destroyed by using any of the weapons Link currently has available to him. The interior of this Dungeon is mostly gray flooring and blue walls. The main tool of the Dungeon is the Power Bracelet, which is required to lift the numerous Pots and the Genie's Bottle which the level is named after. The mini-boss is a Hinox. \", '5f6d158a3dd55d9ed2d1c084']\n",
      "[['https://zelda.fanapis.com/api/games/5f6ce9d805615a85623ec2c9'], 'Bosh Kala Shrine', 'The Bosh Kala Shrine, designated by the Trial name The Wind Guides You, is an Ancient Shrine in Breath of the Wild. ', '5f6d158a3dd55d9ed2d1c085']\n",
      "[['https://zelda.fanapis.com/api/games/5f6ce9d805615a85623ec2ce'], 'Bomb Storage', 'Bomb Storage is a Level in Tri Force Heroes. It is the second Level in the Fortress area. ', '5f6d158a3dd55d9ed2d1c086']\n",
      "[['https://zelda.fanapis.com/api/games/5f6ce9d805615a85623ec2b8', 'https://zelda.fanapis.com/api/games/5f6ce9d805615a85623ec2c7'], 'Castle Dungeon', 'The Castle Dungeon, also known as the Sewer Passageway, is a dungeon in The Legend of Zelda series. ', '5f6d158a3dd55d9ed2d1c088']\n",
      "[['https://zelda.fanapis.com/api/games/5f6ce9d805615a85623ec2ce'], 'Blazing Trail', 'Blazing Trail is a Level in Tri Force Heroes. It is the first Level in the Volcano area. ', '5f6d158a3dd55d9ed2d1c087']\n",
      "[['https://zelda.fanapis.com/api/games/5f6ce9d805615a85623ec2bc'], 'Beneath the Well', \"Beneath the Well is a vast maze-like mini-dungeon in Majora's Mask. It is located in Ikana Canyon, and must be traversed in order to obtain the Mirror Shield and be granted entrance to the Ancient Castle of Ikana.  \", '5f6d158a3dd55d9ed2d1c089']\n",
      "[['https://zelda.fanapis.com/api/games/5f6ce9d805615a85623ec2c2'], 'Bellum', 'Bellum is the primary antagonist of Phantom Hourglass, and serves as the Final Boss. ', '5f6d158a3dd55d9ed2d1c08c']\n",
      "[['https://zelda.fanapis.com/api/games/5f6ce9d805615a85623ec2b9'], 'Black Tower', \"The Black Tower, also known as Ambi's Tower, is a massive tower made of stone featured in Oracle of Ages that was built to the heavens 400 years in Labrynna's past by the order of Queen Ambi. However, after Veran arrived in the past, she manipulated the construction of the project and began using the tower for her own purposes. \", '5f6d158a3dd55d9ed2d1c08b']\n",
      "[['https://zelda.fanapis.com/api/games/5f6ce9d805615a85623ec2ce'], 'Buzz Blob Cave', 'Buzz Blob Cave is the second Level in Tri Force Heroes. It is the second Level of the Woodlands area, preceded by Deku Forest and followed by Moblin Base. ', '5f6d158a3dd55d9ed2d1c08a']\n",
      "[['https://zelda.fanapis.com/api/games/5f6ce9d805615a85623ec2be', 'https://zelda.fanapis.com/api/games/5f6ce9d805615a85623ec2c9'], 'Bridge of Eldin', 'The Bridge of Eldin, also known as Eldin Bridge, is a recurring location in The Legend of Zelda series. ', '5f6d158a3dd55d9ed2d1c08d']\n",
      "[['https://zelda.fanapis.com/api/games/5f6ce9d805615a85623ec2b7', 'https://zelda.fanapis.com/api/games/5f6ce9d805615a85623ec2c4'], 'Level 1', 'Level 1, also known as Level-1, and Eagle, is a recurring Dungeon in The Legend of Zelda series. ', '5f6d158a3dd55d9ed2d1c092']\n",
      "[['https://zelda.fanapis.com/api/games/5f6ce9d805615a85623ec2ce'], 'Secret Fortress', 'Secret Fortress is a Level in Tri Force Heroes. It is the first Level in the Riverside area. ', '5f6d158a3dd55d9ed2d1c097']\n",
      "[['https://zelda.fanapis.com/api/games/5f6ce9d805615a85623ec2d6'], 'Ranch Target Practice', \"Ranch Target Practice is a Stage in Link's Crossbow Training. It is the first Stage in the Finale. \", '5f6d158a3dd55d9ed2d1c09c']\n",
      "[['https://zelda.fanapis.com/api/games/5f6ce9d805615a85623ec2c9'], 'Trial of the Sword', \"The Trial of the Sword, also known as the Sword Monk's Shrine, is a challenge and mini-dungeon in Breath of the Wild added in The Master Trials DLC Pack. \", '5f6d158a3dd55d9ed2d1c0a1']\n",
      "[['https://zelda.fanapis.com/api/games/5f6ce9d805615a85623ec2c1'], 'Tower of Winds', 'The Tower of Winds is a level that appears in Four Swords Adventures. ', '5f6d158a3dd55d9ed2d1c0a6']\n",
      "[['https://zelda.fanapis.com/api/games/5f6ce9d805615a85623ec2b8', 'https://zelda.fanapis.com/api/games/5f6ce9d805615a85623ec2c1'], 'Thief', 'Thieves are recurring enemies and characters in The Legend of Zelda series. ', '5f6d158a3dd55d9ed2d1c0ab']\n",
      "[['https://zelda.fanapis.com/api/games/5f6ce9d805615a85623ec2c1'], 'The Swamp', 'The Swamp is the second stage of the Near the Fields level in Four Swords Adventures. ', '5f6d158a3dd55d9ed2d1c0b0']\n",
      "[[], 'Temple of Storms', 'The Temple of Storms is a dungeon in Cadence of Hyrule. ', '5f6d158a3dd55d9ed2d1c0b5']\n",
      "[['https://zelda.fanapis.com/api/games/5f6ce9d805615a85623ec2c1'], 'Temple of Darkness', 'The Temple of Darkness is the third dungeon of The Dark World in Four Swords Adventures. ', '5f6d158a3dd55d9ed2d1c0ba']\n"
     ]
    }
   ],
   "source": [
    "table_data = []\n",
    "\n",
    "for dictionary in Dungeondata:\n",
    "    row = list(dictionary.values())\n",
    "    table_data.append(row)\n",
    "\n",
    "# Print the table\n",
    "for row in table_data:\n",
    "    print(row)\n"
   ]
  },
  {
   "cell_type": "code",
   "execution_count": 8,
   "metadata": {},
   "outputs": [
    {
     "ename": "KeyError",
     "evalue": "'Games_data'",
     "output_type": "error",
     "traceback": [
      "\u001b[0;31m---------------------------------------------------------------------------\u001b[0m",
      "\u001b[0;31mKeyError\u001b[0m                                  Traceback (most recent call last)",
      "Cell \u001b[0;32mIn[8], line 2\u001b[0m\n\u001b[1;32m      1\u001b[0m \u001b[39mfor\u001b[39;00m Game \u001b[39min\u001b[39;00m Mondata:\n\u001b[0;32m----> 2\u001b[0m     Gamesdata\u001b[39m=\u001b[39mdictionary[\u001b[39m'\u001b[39;49m\u001b[39mGames_data\u001b[39;49m\u001b[39m'\u001b[39;49m]\n\u001b[1;32m      3\u001b[0m     values \u001b[39m=\u001b[39m Gamesdata\u001b[39m.\u001b[39mvalues\n\u001b[1;32m      5\u001b[0m \u001b[39mprint\u001b[39m(\u001b[39mf\u001b[39m\u001b[39m\"\u001b[39m\u001b[39mid: \u001b[39m\u001b[39m{\u001b[39;00m\u001b[39mid\u001b[39m\u001b[39m}\u001b[39;00m\u001b[39m, Name: \u001b[39m\u001b[39m{\u001b[39;00mName\u001b[39m}\u001b[39;00m\u001b[39m, Description: \u001b[39m\u001b[39m{\u001b[39;00mDescription\u001b[39m}\u001b[39;00m\u001b[39m, Developer: \u001b[39m\u001b[39m{\u001b[39;00mDeveloper\u001b[39m}\u001b[39;00m\u001b[39m, Publisher: \u001b[39m\u001b[39m{\u001b[39;00mPublisher\u001b[39m}\u001b[39;00m\u001b[39m, Release date: \u001b[39m\u001b[39m{\u001b[39;00mRelease_date\u001b[39m}\u001b[39;00m\u001b[39m\"\u001b[39m)\n",
      "\u001b[0;31mKeyError\u001b[0m: 'Games_data'"
     ]
    }
   ],
   "source": [
    "for Game in Mondata:\n",
    "    ata=dictionary['Games_data']\n",
    "    values = Gamesdata.values\n",
    "\n",
    "print(f\"id: {id}, Name: {Name}, Description: {Description}, Developer: {Developer}, Publisher: {Publisher}, Release date: {Release_date}\")"
   ]
  },
  {
   "cell_type": "code",
   "execution_count": null,
   "metadata": {},
   "outputs": [],
   "source": []
  },
  {
   "cell_type": "code",
   "execution_count": null,
   "metadata": {},
   "outputs": [],
   "source": []
  }
 ],
 "metadata": {
  "kernelspec": {
   "display_name": "Python 3",
   "language": "python",
   "name": "python3"
  },
  "language_info": {
   "codemirror_mode": {
    "name": "ipython",
    "version": 3
   },
   "file_extension": ".py",
   "mimetype": "text/x-python",
   "name": "python",
   "nbconvert_exporter": "python",
   "pygments_lexer": "ipython3",
   "version": "3.11.2"
  },
  "orig_nbformat": 4
 },
 "nbformat": 4,
 "nbformat_minor": 2
}
