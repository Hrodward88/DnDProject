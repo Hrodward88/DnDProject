{
 "cells": [
  {
   "cell_type": "code",
   "execution_count": 1,
   "metadata": {},
   "outputs": [],
   "source": [
    "import requests as req \n",
    "from bs4 import BeautifulSoup\n",
    "import pandas as pd\n",
    "import json\n",
    "# from pprint import pprint\n",
    "# from lxml import html\n",
    "# from lxml.html import fromstring\n",
    "# import urllib.request\n",
    "# from urllib.request import urlopen\n",
    "# import random\n",
    "# import re\n",
    "# import scrapy"
   ]
  },
  {
   "cell_type": "code",
   "execution_count": 2,
   "metadata": {},
   "outputs": [],
   "source": [
    "Monurl = 'https://zelda.fanapis.com/api/monsters'"
   ]
  },
  {
   "cell_type": "code",
   "execution_count": 3,
   "metadata": {},
   "outputs": [
    {
     "data": {
      "text/plain": [
       "{'success': True,\n",
       " 'count': 20,\n",
       " 'data': [{'appearances': ['https://zelda.fanapis.com/api/games/5f6ce9d805615a85623ec2d5'],\n",
       "   'name': 'Abominom',\n",
       "   'description': 'Abominoms  are enemies in the Philips CD-i game The Faces of Evil. ',\n",
       "   'id': '5f6d1715a837149f8b47a157'},\n",
       "  {'appearances': ['https://zelda.fanapis.com/api/games/5f6ce9d805615a85623ec2ba'],\n",
       "   'name': 'Arwing',\n",
       "   'description': 'Arwings are unused enemies in Ocarina of Time. ',\n",
       "   'id': '5f6d1715a837149f8b47a158'},\n",
       "  {'appearances': ['https://zelda.fanapis.com/api/games/5f6ce9d805615a85623ec2bd'],\n",
       "   'name': 'Aruroda',\n",
       "   'description': 'Arurodas are scorpion-like enemies in The Adventure of Link. ',\n",
       "   'id': '5f6d1715a837149f8b47a159'},\n",
       "  {'appearances': ['https://zelda.fanapis.com/api/games/5f6ce9d805615a85623ec2ba'],\n",
       "   'name': 'Baby Dodongo',\n",
       "   'description': 'Baby Dodongos are enemies in Ocarina of Time. ',\n",
       "   'id': '5f6d1715a837149f8b47a15a'},\n",
       "  {'appearances': ['https://zelda.fanapis.com/api/games/5f6ce9d805615a85623ec2c2',\n",
       "    'https://zelda.fanapis.com/api/games/5f6ce9d805615a85623ec2c5',\n",
       "    'https://zelda.fanapis.com/api/games/5f6ce9d805615a85623ec2c7',\n",
       "    'https://zelda.fanapis.com/api/games/5f6ce9d805615a85623ec2ce'],\n",
       "   'name': 'Arrow Trap',\n",
       "   'description': 'Arrow Traps are recurring traps in The Legend of Zelda series. ',\n",
       "   'id': '5f6d1715a837149f8b47a15c'},\n",
       "  {'appearances': ['https://zelda.fanapis.com/api/games/5f6ce9d805615a85623ec2b8'],\n",
       "   'name': 'Babusu',\n",
       "   'description': 'Babusu are shadow beings in A Link to the Past. They appear in the Ice Palace. ',\n",
       "   'id': '5f6d1715a837149f8b47a15b'},\n",
       "  {'appearances': ['https://zelda.fanapis.com/api/games/5f6ce9d805615a85623ec2be'],\n",
       "   'name': 'Baba Serpent',\n",
       "   'description': 'Baba Serpents are enemies in Twilight Princess. ',\n",
       "   'id': '5f6d1715a837149f8b47a15d'},\n",
       "  {'appearances': ['https://zelda.fanapis.com/api/games/5f6ce9d805615a85623ec2b9'],\n",
       "   'name': 'Armos Warrior',\n",
       "   'description': 'The Armos Warrior is the Sub-Boss of Skull Dungeon in Oracle of Ages.. ',\n",
       "   'id': '5f6d1715a837149f8b47a15f'},\n",
       "  {'appearances': ['https://zelda.fanapis.com/api/games/5f6ce9d805615a85623ec2b8',\n",
       "    'https://zelda.fanapis.com/api/games/5f6ce9d805615a85623ec2c7'],\n",
       "   'name': 'Arrgi',\n",
       "   'description': 'Arrgi are recurring Enemies in The Legend of Zelda series. Arrgi go unnamed in Ancient Stone Tablets. ',\n",
       "   'id': '5f6d1715a837149f8b47a15e'},\n",
       "  {'appearances': ['https://zelda.fanapis.com/api/games/5f6ce9d805615a85623ec2d5',\n",
       "    'https://zelda.fanapis.com/api/games/5f6ce9d805615a85623ec2d3'],\n",
       "   'name': 'Arpagos',\n",
       "   'description': 'Arpagos are recurring flying dragon-like enemies in The Legend of Zelda series. ',\n",
       "   'id': '5f6d1715a837149f8b47a160'},\n",
       "  {'appearances': ['https://zelda.fanapis.com/api/games/5f6ce9d805615a85623ec2b8',\n",
       "    'https://zelda.fanapis.com/api/games/5f6ce9d805615a85623ec2c3',\n",
       "    'https://zelda.fanapis.com/api/games/5f6ce9d805615a85623ec2bf',\n",
       "    'https://zelda.fanapis.com/api/games/5f6ce9d805615a85623ec2c1'],\n",
       "   'name': 'Armos Knight',\n",
       "   'description': 'Armos Knights are recurring Boss and Mini-Boss in The Legend of Zelda series. They are bigger and stronger versions of standard Armos. ',\n",
       "   'id': '5f6d1715a837149f8b47a161'},\n",
       "  {'appearances': ['https://zelda.fanapis.com/api/games/5f6ce9d805615a85623ec2bd'],\n",
       "   'name': 'Daira',\n",
       "   'description': 'Daira are recurring enemies and Sub-Bosses in The Legend of Zelda series. They are expert axe-throwers, and their axes are able to slice through most Shields, making them more dangerous than those enemies who wield conventional swords or spears. ',\n",
       "   'id': '5f6d1715a837149f8b47a166'},\n",
       "  {'appearances': ['https://zelda.fanapis.com/api/games/5f6ce9d805615a85623ec2c9'],\n",
       "   'name': 'Cursed Lizalfos',\n",
       "   'description': 'Cursed Lizalfos are enemies in Breath of the Wild. ',\n",
       "   'id': '5f6d1715a837149f8b47a16b'},\n",
       "  {'appearances': ['https://zelda.fanapis.com/api/games/5f6ce9d805615a85623ec2c2'],\n",
       "   'name': 'Craykling',\n",
       "   'description': 'Crayklings are enemies in Phantom Hourglass. ',\n",
       "   'id': '5f6d1715a837149f8b47a170'},\n",
       "  {'appearances': ['https://zelda.fanapis.com/api/games/5f6ce9d805615a85623ec2cf'],\n",
       "   'name': 'The Dark Imprisoned',\n",
       "   'description': 'The Dark Imprisoneds are enemies in Hyrule Warriors. ',\n",
       "   'id': '5f6d1715a837149f8b47a175'},\n",
       "  {'appearances': ['https://zelda.fanapis.com/api/games/5f6ce9d805615a85623ec2c9'],\n",
       "   'name': 'Treasure Octorok',\n",
       "   'description': 'Treasure Octoroks are enemies in Breath of the Wild. ',\n",
       "   'id': '5f6d1715a837149f8b47a17a'},\n",
       "  {'appearances': ['https://zelda.fanapis.com/api/games/5f6ce9d805615a85623ec2ba'],\n",
       "   'name': 'Whirling Scythe',\n",
       "   'description': 'Whirling Scythes are sharp, rotating traps in Ocarina of Time. Similar traps made of ice, known as Ice Blades or Ice Fans, also appear in the Ice Cavern. ',\n",
       "   'id': '5f6d1715a837149f8b47a17f'},\n",
       "  {'appearances': ['https://zelda.fanapis.com/api/games/5f6ce9d805615a85623ec2be'],\n",
       "   'name': 'Zant Mask',\n",
       "   'description': 'Zant Masks are an enemies in Twilight Princess. ',\n",
       "   'id': '5f6d1715a837149f8b47a184'},\n",
       "  {'appearances': ['https://zelda.fanapis.com/api/games/5f6ce9d805615a85623ec2c3'],\n",
       "   'name': 'Zombie',\n",
       "   'description': \"Zombies are enemies in Link's Awakening. \",\n",
       "   'id': '5f6d1715a837149f8b47a189'},\n",
       "  {'appearances': ['https://zelda.fanapis.com/api/games/5f6ce9d805615a85623ec2c8',\n",
       "    'https://zelda.fanapis.com/api/games/5f6ce9d805615a85623ec2c9'],\n",
       "   'name': 'Sky Octorok',\n",
       "   'description': 'Sky Octoroks are recurring Enemies in The Legend of Zelda series. ',\n",
       "   'id': '5f6d1715a837149f8b47a18e'}]}"
      ]
     },
     "execution_count": 3,
     "metadata": {},
     "output_type": "execute_result"
    }
   ],
   "source": [
    "Monhtml = req.get(Monurl).json()\n",
    "\n",
    "Monhtml"
   ]
  },
  {
   "cell_type": "code",
   "execution_count": 4,
   "metadata": {},
   "outputs": [
    {
     "data": {
      "text/plain": [
       "20"
      ]
     },
     "execution_count": 4,
     "metadata": {},
     "output_type": "execute_result"
    }
   ],
   "source": [
    "len(Monhtml['data'])"
   ]
  },
  {
   "cell_type": "code",
   "execution_count": 5,
   "metadata": {},
   "outputs": [
    {
     "data": {
      "text/plain": [
       "[{'appearances': ['https://zelda.fanapis.com/api/games/5f6ce9d805615a85623ec2d5'],\n",
       "  'name': 'Abominom',\n",
       "  'description': 'Abominoms  are enemies in the Philips CD-i game The Faces of Evil. ',\n",
       "  'id': '5f6d1715a837149f8b47a157'},\n",
       " {'appearances': ['https://zelda.fanapis.com/api/games/5f6ce9d805615a85623ec2ba'],\n",
       "  'name': 'Arwing',\n",
       "  'description': 'Arwings are unused enemies in Ocarina of Time. ',\n",
       "  'id': '5f6d1715a837149f8b47a158'},\n",
       " {'appearances': ['https://zelda.fanapis.com/api/games/5f6ce9d805615a85623ec2bd'],\n",
       "  'name': 'Aruroda',\n",
       "  'description': 'Arurodas are scorpion-like enemies in The Adventure of Link. ',\n",
       "  'id': '5f6d1715a837149f8b47a159'},\n",
       " {'appearances': ['https://zelda.fanapis.com/api/games/5f6ce9d805615a85623ec2ba'],\n",
       "  'name': 'Baby Dodongo',\n",
       "  'description': 'Baby Dodongos are enemies in Ocarina of Time. ',\n",
       "  'id': '5f6d1715a837149f8b47a15a'},\n",
       " {'appearances': ['https://zelda.fanapis.com/api/games/5f6ce9d805615a85623ec2c2',\n",
       "   'https://zelda.fanapis.com/api/games/5f6ce9d805615a85623ec2c5',\n",
       "   'https://zelda.fanapis.com/api/games/5f6ce9d805615a85623ec2c7',\n",
       "   'https://zelda.fanapis.com/api/games/5f6ce9d805615a85623ec2ce'],\n",
       "  'name': 'Arrow Trap',\n",
       "  'description': 'Arrow Traps are recurring traps in The Legend of Zelda series. ',\n",
       "  'id': '5f6d1715a837149f8b47a15c'},\n",
       " {'appearances': ['https://zelda.fanapis.com/api/games/5f6ce9d805615a85623ec2b8'],\n",
       "  'name': 'Babusu',\n",
       "  'description': 'Babusu are shadow beings in A Link to the Past. They appear in the Ice Palace. ',\n",
       "  'id': '5f6d1715a837149f8b47a15b'},\n",
       " {'appearances': ['https://zelda.fanapis.com/api/games/5f6ce9d805615a85623ec2be'],\n",
       "  'name': 'Baba Serpent',\n",
       "  'description': 'Baba Serpents are enemies in Twilight Princess. ',\n",
       "  'id': '5f6d1715a837149f8b47a15d'},\n",
       " {'appearances': ['https://zelda.fanapis.com/api/games/5f6ce9d805615a85623ec2b9'],\n",
       "  'name': 'Armos Warrior',\n",
       "  'description': 'The Armos Warrior is the Sub-Boss of Skull Dungeon in Oracle of Ages.. ',\n",
       "  'id': '5f6d1715a837149f8b47a15f'},\n",
       " {'appearances': ['https://zelda.fanapis.com/api/games/5f6ce9d805615a85623ec2b8',\n",
       "   'https://zelda.fanapis.com/api/games/5f6ce9d805615a85623ec2c7'],\n",
       "  'name': 'Arrgi',\n",
       "  'description': 'Arrgi are recurring Enemies in The Legend of Zelda series. Arrgi go unnamed in Ancient Stone Tablets. ',\n",
       "  'id': '5f6d1715a837149f8b47a15e'},\n",
       " {'appearances': ['https://zelda.fanapis.com/api/games/5f6ce9d805615a85623ec2d5',\n",
       "   'https://zelda.fanapis.com/api/games/5f6ce9d805615a85623ec2d3'],\n",
       "  'name': 'Arpagos',\n",
       "  'description': 'Arpagos are recurring flying dragon-like enemies in The Legend of Zelda series. ',\n",
       "  'id': '5f6d1715a837149f8b47a160'},\n",
       " {'appearances': ['https://zelda.fanapis.com/api/games/5f6ce9d805615a85623ec2b8',\n",
       "   'https://zelda.fanapis.com/api/games/5f6ce9d805615a85623ec2c3',\n",
       "   'https://zelda.fanapis.com/api/games/5f6ce9d805615a85623ec2bf',\n",
       "   'https://zelda.fanapis.com/api/games/5f6ce9d805615a85623ec2c1'],\n",
       "  'name': 'Armos Knight',\n",
       "  'description': 'Armos Knights are recurring Boss and Mini-Boss in The Legend of Zelda series. They are bigger and stronger versions of standard Armos. ',\n",
       "  'id': '5f6d1715a837149f8b47a161'},\n",
       " {'appearances': ['https://zelda.fanapis.com/api/games/5f6ce9d805615a85623ec2bd'],\n",
       "  'name': 'Daira',\n",
       "  'description': 'Daira are recurring enemies and Sub-Bosses in The Legend of Zelda series. They are expert axe-throwers, and their axes are able to slice through most Shields, making them more dangerous than those enemies who wield conventional swords or spears. ',\n",
       "  'id': '5f6d1715a837149f8b47a166'},\n",
       " {'appearances': ['https://zelda.fanapis.com/api/games/5f6ce9d805615a85623ec2c9'],\n",
       "  'name': 'Cursed Lizalfos',\n",
       "  'description': 'Cursed Lizalfos are enemies in Breath of the Wild. ',\n",
       "  'id': '5f6d1715a837149f8b47a16b'},\n",
       " {'appearances': ['https://zelda.fanapis.com/api/games/5f6ce9d805615a85623ec2c2'],\n",
       "  'name': 'Craykling',\n",
       "  'description': 'Crayklings are enemies in Phantom Hourglass. ',\n",
       "  'id': '5f6d1715a837149f8b47a170'},\n",
       " {'appearances': ['https://zelda.fanapis.com/api/games/5f6ce9d805615a85623ec2cf'],\n",
       "  'name': 'The Dark Imprisoned',\n",
       "  'description': 'The Dark Imprisoneds are enemies in Hyrule Warriors. ',\n",
       "  'id': '5f6d1715a837149f8b47a175'},\n",
       " {'appearances': ['https://zelda.fanapis.com/api/games/5f6ce9d805615a85623ec2c9'],\n",
       "  'name': 'Treasure Octorok',\n",
       "  'description': 'Treasure Octoroks are enemies in Breath of the Wild. ',\n",
       "  'id': '5f6d1715a837149f8b47a17a'},\n",
       " {'appearances': ['https://zelda.fanapis.com/api/games/5f6ce9d805615a85623ec2ba'],\n",
       "  'name': 'Whirling Scythe',\n",
       "  'description': 'Whirling Scythes are sharp, rotating traps in Ocarina of Time. Similar traps made of ice, known as Ice Blades or Ice Fans, also appear in the Ice Cavern. ',\n",
       "  'id': '5f6d1715a837149f8b47a17f'},\n",
       " {'appearances': ['https://zelda.fanapis.com/api/games/5f6ce9d805615a85623ec2be'],\n",
       "  'name': 'Zant Mask',\n",
       "  'description': 'Zant Masks are an enemies in Twilight Princess. ',\n",
       "  'id': '5f6d1715a837149f8b47a184'},\n",
       " {'appearances': ['https://zelda.fanapis.com/api/games/5f6ce9d805615a85623ec2c3'],\n",
       "  'name': 'Zombie',\n",
       "  'description': \"Zombies are enemies in Link's Awakening. \",\n",
       "  'id': '5f6d1715a837149f8b47a189'},\n",
       " {'appearances': ['https://zelda.fanapis.com/api/games/5f6ce9d805615a85623ec2c8',\n",
       "   'https://zelda.fanapis.com/api/games/5f6ce9d805615a85623ec2c9'],\n",
       "  'name': 'Sky Octorok',\n",
       "  'description': 'Sky Octoroks are recurring Enemies in The Legend of Zelda series. ',\n",
       "  'id': '5f6d1715a837149f8b47a18e'}]"
      ]
     },
     "execution_count": 5,
     "metadata": {},
     "output_type": "execute_result"
    }
   ],
   "source": [
    "Mondata = Monhtml['data']\n",
    "Mondata"
   ]
  },
  {
   "cell_type": "code",
   "execution_count": 6,
   "metadata": {},
   "outputs": [
    {
     "name": "stdout",
     "output_type": "stream",
     "text": [
      "appearances: [['https://zelda.fanapis.com/api/games/5f6ce9d805615a85623ec2d5'], ['https://zelda.fanapis.com/api/games/5f6ce9d805615a85623ec2ba'], ['https://zelda.fanapis.com/api/games/5f6ce9d805615a85623ec2bd'], ['https://zelda.fanapis.com/api/games/5f6ce9d805615a85623ec2ba'], ['https://zelda.fanapis.com/api/games/5f6ce9d805615a85623ec2c2', 'https://zelda.fanapis.com/api/games/5f6ce9d805615a85623ec2c5', 'https://zelda.fanapis.com/api/games/5f6ce9d805615a85623ec2c7', 'https://zelda.fanapis.com/api/games/5f6ce9d805615a85623ec2ce'], ['https://zelda.fanapis.com/api/games/5f6ce9d805615a85623ec2b8'], ['https://zelda.fanapis.com/api/games/5f6ce9d805615a85623ec2be'], ['https://zelda.fanapis.com/api/games/5f6ce9d805615a85623ec2b9'], ['https://zelda.fanapis.com/api/games/5f6ce9d805615a85623ec2b8', 'https://zelda.fanapis.com/api/games/5f6ce9d805615a85623ec2c7'], ['https://zelda.fanapis.com/api/games/5f6ce9d805615a85623ec2d5', 'https://zelda.fanapis.com/api/games/5f6ce9d805615a85623ec2d3'], ['https://zelda.fanapis.com/api/games/5f6ce9d805615a85623ec2b8', 'https://zelda.fanapis.com/api/games/5f6ce9d805615a85623ec2c3', 'https://zelda.fanapis.com/api/games/5f6ce9d805615a85623ec2bf', 'https://zelda.fanapis.com/api/games/5f6ce9d805615a85623ec2c1'], ['https://zelda.fanapis.com/api/games/5f6ce9d805615a85623ec2bd'], ['https://zelda.fanapis.com/api/games/5f6ce9d805615a85623ec2c9'], ['https://zelda.fanapis.com/api/games/5f6ce9d805615a85623ec2c2'], ['https://zelda.fanapis.com/api/games/5f6ce9d805615a85623ec2cf'], ['https://zelda.fanapis.com/api/games/5f6ce9d805615a85623ec2c9'], ['https://zelda.fanapis.com/api/games/5f6ce9d805615a85623ec2ba'], ['https://zelda.fanapis.com/api/games/5f6ce9d805615a85623ec2be'], ['https://zelda.fanapis.com/api/games/5f6ce9d805615a85623ec2c3'], ['https://zelda.fanapis.com/api/games/5f6ce9d805615a85623ec2c8', 'https://zelda.fanapis.com/api/games/5f6ce9d805615a85623ec2c9']]\n",
      "name: ['Abominom', 'Arwing', 'Aruroda', 'Baby Dodongo', 'Arrow Trap', 'Babusu', 'Baba Serpent', 'Armos Warrior', 'Arrgi', 'Arpagos', 'Armos Knight', 'Daira', 'Cursed Lizalfos', 'Craykling', 'The Dark Imprisoned', 'Treasure Octorok', 'Whirling Scythe', 'Zant Mask', 'Zombie', 'Sky Octorok']\n",
      "description: ['Abominoms  are enemies in the Philips CD-i game The Faces of Evil. ', 'Arwings are unused enemies in Ocarina of Time. ', 'Arurodas are scorpion-like enemies in The Adventure of Link. ', 'Baby Dodongos are enemies in Ocarina of Time. ', 'Arrow Traps are recurring traps in The Legend of Zelda series. ', 'Babusu are shadow beings in A Link to the Past. They appear in the Ice Palace. ', 'Baba Serpents are enemies in Twilight Princess. ', 'The Armos Warrior is the Sub-Boss of Skull Dungeon in Oracle of Ages.. ', 'Arrgi are recurring Enemies in The Legend of Zelda series. Arrgi go unnamed in Ancient Stone Tablets. ', 'Arpagos are recurring flying dragon-like enemies in The Legend of Zelda series. ', 'Armos Knights are recurring Boss and Mini-Boss in The Legend of Zelda series. They are bigger and stronger versions of standard Armos. ', 'Daira are recurring enemies and Sub-Bosses in The Legend of Zelda series. They are expert axe-throwers, and their axes are able to slice through most Shields, making them more dangerous than those enemies who wield conventional swords or spears. ', 'Cursed Lizalfos are enemies in Breath of the Wild. ', 'Crayklings are enemies in Phantom Hourglass. ', 'The Dark Imprisoneds are enemies in Hyrule Warriors. ', 'Treasure Octoroks are enemies in Breath of the Wild. ', 'Whirling Scythes are sharp, rotating traps in Ocarina of Time. Similar traps made of ice, known as Ice Blades or Ice Fans, also appear in the Ice Cavern. ', 'Zant Masks are an enemies in Twilight Princess. ', \"Zombies are enemies in Link's Awakening. \", 'Sky Octoroks are recurring Enemies in The Legend of Zelda series. ']\n",
      "id: ['5f6d1715a837149f8b47a157', '5f6d1715a837149f8b47a158', '5f6d1715a837149f8b47a159', '5f6d1715a837149f8b47a15a', '5f6d1715a837149f8b47a15c', '5f6d1715a837149f8b47a15b', '5f6d1715a837149f8b47a15d', '5f6d1715a837149f8b47a15f', '5f6d1715a837149f8b47a15e', '5f6d1715a837149f8b47a160', '5f6d1715a837149f8b47a161', '5f6d1715a837149f8b47a166', '5f6d1715a837149f8b47a16b', '5f6d1715a837149f8b47a170', '5f6d1715a837149f8b47a175', '5f6d1715a837149f8b47a17a', '5f6d1715a837149f8b47a17f', '5f6d1715a837149f8b47a184', '5f6d1715a837149f8b47a189', '5f6d1715a837149f8b47a18e']\n"
     ]
    }
   ],
   "source": [
    "values_by_key = {}\n",
    "\n",
    "# Iterate over each dictionary in games_data\n",
    "for dictionary in Mondata:\n",
    "    # Iterate over each key-value pair in the dictionary\n",
    "    for key, value in dictionary.items():\n",
    "        # Check if the key is already in the values_by_key dictionary\n",
    "        if key in values_by_key:\n",
    "            # Append the value to the existing list of values for the key\n",
    "            values_by_key[key].append(value)\n",
    "        else:\n",
    "            # Create a new list with the value for the key\n",
    "            values_by_key[key] = [value]\n",
    "\n",
    "# Print the values for each key\n",
    "for key, values in values_by_key.items():\n",
    "    print(f\"{key}: {values}\")"
   ]
  },
  {
   "cell_type": "code",
   "execution_count": 9,
   "metadata": {},
   "outputs": [
    {
     "ename": "KeyError",
     "evalue": "'released_date'",
     "output_type": "error",
     "traceback": [
      "\u001b[0;31m---------------------------------------------------------------------------\u001b[0m",
      "\u001b[0;31mKeyError\u001b[0m                                  Traceback (most recent call last)",
      "Cell \u001b[0;32mIn[9], line 1\u001b[0m\n\u001b[0;32m----> 1\u001b[0m values_by_key[\u001b[39m'\u001b[39;49m\u001b[39mreleased_date\u001b[39;49m\u001b[39m'\u001b[39;49m]\n",
      "\u001b[0;31mKeyError\u001b[0m: 'released_date'"
     ]
    }
   ],
   "source": [
    "values_by_key['released_date']"
   ]
  },
  {
   "cell_type": "code",
   "execution_count": 7,
   "metadata": {},
   "outputs": [
    {
     "name": "stdout",
     "output_type": "stream",
     "text": [
      "[['https://zelda.fanapis.com/api/games/5f6ce9d805615a85623ec2d5'], 'Abominom', 'Abominoms  are enemies in the Philips CD-i game The Faces of Evil. ', '5f6d1715a837149f8b47a157']\n",
      "[['https://zelda.fanapis.com/api/games/5f6ce9d805615a85623ec2ba'], 'Arwing', 'Arwings are unused enemies in Ocarina of Time. ', '5f6d1715a837149f8b47a158']\n",
      "[['https://zelda.fanapis.com/api/games/5f6ce9d805615a85623ec2bd'], 'Aruroda', 'Arurodas are scorpion-like enemies in The Adventure of Link. ', '5f6d1715a837149f8b47a159']\n",
      "[['https://zelda.fanapis.com/api/games/5f6ce9d805615a85623ec2ba'], 'Baby Dodongo', 'Baby Dodongos are enemies in Ocarina of Time. ', '5f6d1715a837149f8b47a15a']\n",
      "[['https://zelda.fanapis.com/api/games/5f6ce9d805615a85623ec2c2', 'https://zelda.fanapis.com/api/games/5f6ce9d805615a85623ec2c5', 'https://zelda.fanapis.com/api/games/5f6ce9d805615a85623ec2c7', 'https://zelda.fanapis.com/api/games/5f6ce9d805615a85623ec2ce'], 'Arrow Trap', 'Arrow Traps are recurring traps in The Legend of Zelda series. ', '5f6d1715a837149f8b47a15c']\n",
      "[['https://zelda.fanapis.com/api/games/5f6ce9d805615a85623ec2b8'], 'Babusu', 'Babusu are shadow beings in A Link to the Past. They appear in the Ice Palace. ', '5f6d1715a837149f8b47a15b']\n",
      "[['https://zelda.fanapis.com/api/games/5f6ce9d805615a85623ec2be'], 'Baba Serpent', 'Baba Serpents are enemies in Twilight Princess. ', '5f6d1715a837149f8b47a15d']\n",
      "[['https://zelda.fanapis.com/api/games/5f6ce9d805615a85623ec2b9'], 'Armos Warrior', 'The Armos Warrior is the Sub-Boss of Skull Dungeon in Oracle of Ages.. ', '5f6d1715a837149f8b47a15f']\n",
      "[['https://zelda.fanapis.com/api/games/5f6ce9d805615a85623ec2b8', 'https://zelda.fanapis.com/api/games/5f6ce9d805615a85623ec2c7'], 'Arrgi', 'Arrgi are recurring Enemies in The Legend of Zelda series. Arrgi go unnamed in Ancient Stone Tablets. ', '5f6d1715a837149f8b47a15e']\n",
      "[['https://zelda.fanapis.com/api/games/5f6ce9d805615a85623ec2d5', 'https://zelda.fanapis.com/api/games/5f6ce9d805615a85623ec2d3'], 'Arpagos', 'Arpagos are recurring flying dragon-like enemies in The Legend of Zelda series. ', '5f6d1715a837149f8b47a160']\n",
      "[['https://zelda.fanapis.com/api/games/5f6ce9d805615a85623ec2b8', 'https://zelda.fanapis.com/api/games/5f6ce9d805615a85623ec2c3', 'https://zelda.fanapis.com/api/games/5f6ce9d805615a85623ec2bf', 'https://zelda.fanapis.com/api/games/5f6ce9d805615a85623ec2c1'], 'Armos Knight', 'Armos Knights are recurring Boss and Mini-Boss in The Legend of Zelda series. They are bigger and stronger versions of standard Armos. ', '5f6d1715a837149f8b47a161']\n",
      "[['https://zelda.fanapis.com/api/games/5f6ce9d805615a85623ec2bd'], 'Daira', 'Daira are recurring enemies and Sub-Bosses in The Legend of Zelda series. They are expert axe-throwers, and their axes are able to slice through most Shields, making them more dangerous than those enemies who wield conventional swords or spears. ', '5f6d1715a837149f8b47a166']\n",
      "[['https://zelda.fanapis.com/api/games/5f6ce9d805615a85623ec2c9'], 'Cursed Lizalfos', 'Cursed Lizalfos are enemies in Breath of the Wild. ', '5f6d1715a837149f8b47a16b']\n",
      "[['https://zelda.fanapis.com/api/games/5f6ce9d805615a85623ec2c2'], 'Craykling', 'Crayklings are enemies in Phantom Hourglass. ', '5f6d1715a837149f8b47a170']\n",
      "[['https://zelda.fanapis.com/api/games/5f6ce9d805615a85623ec2cf'], 'The Dark Imprisoned', 'The Dark Imprisoneds are enemies in Hyrule Warriors. ', '5f6d1715a837149f8b47a175']\n",
      "[['https://zelda.fanapis.com/api/games/5f6ce9d805615a85623ec2c9'], 'Treasure Octorok', 'Treasure Octoroks are enemies in Breath of the Wild. ', '5f6d1715a837149f8b47a17a']\n",
      "[['https://zelda.fanapis.com/api/games/5f6ce9d805615a85623ec2ba'], 'Whirling Scythe', 'Whirling Scythes are sharp, rotating traps in Ocarina of Time. Similar traps made of ice, known as Ice Blades or Ice Fans, also appear in the Ice Cavern. ', '5f6d1715a837149f8b47a17f']\n",
      "[['https://zelda.fanapis.com/api/games/5f6ce9d805615a85623ec2be'], 'Zant Mask', 'Zant Masks are an enemies in Twilight Princess. ', '5f6d1715a837149f8b47a184']\n",
      "[['https://zelda.fanapis.com/api/games/5f6ce9d805615a85623ec2c3'], 'Zombie', \"Zombies are enemies in Link's Awakening. \", '5f6d1715a837149f8b47a189']\n",
      "[['https://zelda.fanapis.com/api/games/5f6ce9d805615a85623ec2c8', 'https://zelda.fanapis.com/api/games/5f6ce9d805615a85623ec2c9'], 'Sky Octorok', 'Sky Octoroks are recurring Enemies in The Legend of Zelda series. ', '5f6d1715a837149f8b47a18e']\n"
     ]
    }
   ],
   "source": [
    "table_data = []\n",
    "\n",
    "for dictionary in Mondata:\n",
    "    row = list(dictionary.values())\n",
    "    table_data.append(row)\n",
    "\n",
    "# Print the table\n",
    "for row in table_data:\n",
    "    print(row)\n"
   ]
  },
  {
   "cell_type": "code",
   "execution_count": 8,
   "metadata": {},
   "outputs": [
    {
     "ename": "KeyError",
     "evalue": "'Games_data'",
     "output_type": "error",
     "traceback": [
      "\u001b[0;31m---------------------------------------------------------------------------\u001b[0m",
      "\u001b[0;31mKeyError\u001b[0m                                  Traceback (most recent call last)",
      "Cell \u001b[0;32mIn[8], line 2\u001b[0m\n\u001b[1;32m      1\u001b[0m \u001b[39mfor\u001b[39;00m Game \u001b[39min\u001b[39;00m Mondata:\n\u001b[0;32m----> 2\u001b[0m     Gamesdata\u001b[39m=\u001b[39mdictionary[\u001b[39m'\u001b[39;49m\u001b[39mGames_data\u001b[39;49m\u001b[39m'\u001b[39;49m]\n\u001b[1;32m      3\u001b[0m     values \u001b[39m=\u001b[39m Gamesdata\u001b[39m.\u001b[39mvalues\n\u001b[1;32m      5\u001b[0m \u001b[39mprint\u001b[39m(\u001b[39mf\u001b[39m\u001b[39m\"\u001b[39m\u001b[39mid: \u001b[39m\u001b[39m{\u001b[39;00m\u001b[39mid\u001b[39m\u001b[39m}\u001b[39;00m\u001b[39m, Name: \u001b[39m\u001b[39m{\u001b[39;00mName\u001b[39m}\u001b[39;00m\u001b[39m, Description: \u001b[39m\u001b[39m{\u001b[39;00mDescription\u001b[39m}\u001b[39;00m\u001b[39m, Developer: \u001b[39m\u001b[39m{\u001b[39;00mDeveloper\u001b[39m}\u001b[39;00m\u001b[39m, Publisher: \u001b[39m\u001b[39m{\u001b[39;00mPublisher\u001b[39m}\u001b[39;00m\u001b[39m, Release date: \u001b[39m\u001b[39m{\u001b[39;00mRelease_date\u001b[39m}\u001b[39;00m\u001b[39m\"\u001b[39m)\n",
      "\u001b[0;31mKeyError\u001b[0m: 'Games_data'"
     ]
    }
   ],
   "source": [
    "for Game in Mondata:\n",
    "    ata=dictionary['Games_data']\n",
    "    values = Gamesdata.values\n",
    "\n",
    "print(f\"id: {id}, Name: {Name}, Description: {Description}, Developer: {Developer}, Publisher: {Publisher}, Release date: {Release_date}\")"
   ]
  },
  {
   "cell_type": "code",
   "execution_count": null,
   "metadata": {},
   "outputs": [],
   "source": []
  },
  {
   "cell_type": "code",
   "execution_count": null,
   "metadata": {},
   "outputs": [],
   "source": []
  }
 ],
 "metadata": {
  "kernelspec": {
   "display_name": "Python 3",
   "language": "python",
   "name": "python3"
  },
  "language_info": {
   "codemirror_mode": {
    "name": "ipython",
    "version": 3
   },
   "file_extension": ".py",
   "mimetype": "text/x-python",
   "name": "python",
   "nbconvert_exporter": "python",
   "pygments_lexer": "ipython3",
   "version": "3.11.2"
  },
  "orig_nbformat": 4
 },
 "nbformat": 4,
 "nbformat_minor": 2
}
