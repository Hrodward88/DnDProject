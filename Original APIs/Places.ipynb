{
 "cells": [
  {
   "cell_type": "code",
   "execution_count": 3,
   "metadata": {},
   "outputs": [],
   "source": [
    "import requests as req \n",
    "from bs4 import BeautifulSoup\n",
    "import pandas as pd\n",
    "import json\n",
    "# from pprint import pprint\n",
    "# from lxml import html\n",
    "# from lxml.html import fromstring\n",
    "# import urllib.request\n",
    "# from urllib.request import urlopen\n",
    "# import random\n",
    "# import re\n",
    "# import scrapy"
   ]
  },
  {
   "cell_type": "code",
   "execution_count": 4,
   "metadata": {},
   "outputs": [],
   "source": [
    "Placesurl = 'https://zelda.fanapis.com/api/places'"
   ]
  },
  {
   "cell_type": "code",
   "execution_count": 5,
   "metadata": {},
   "outputs": [
    {
     "data": {
      "text/plain": [
       "{'success': True,\n",
       " 'count': 20,\n",
       " 'data': [{'appearances': ['https://zelda.fanapis.com/api/games/5f6ce9d805615a85623ec2c0',\n",
       "    'https://zelda.fanapis.com/api/games/5f6ce9d805615a85623ec2b9'],\n",
       "   'inhabitants': [],\n",
       "   'name': 'Advance Shop',\n",
       "   'description': 'The Advance Shop, also known as the 100 Rupee Advance Shop, is a recurring location in The Legend of Zelda series. It is a unique store as it can only be accessed when the game is played on a Game Boy Advance. ',\n",
       "   'id': '5f6e8c8e677b262b8b3fb4a8'},\n",
       "  {'appearances': ['https://zelda.fanapis.com/api/games/5f6ce9d805615a85623ec2c5'],\n",
       "   'inhabitants': ['https://zelda.fanapis.com/api/characters/5f6d186f246bd9a0809d6795',\n",
       "    'https://zelda.fanapis.com/api/characters/5f6d186f246bd9a0809d644f',\n",
       "    'https://zelda.fanapis.com/api/characters/5f6d186f246bd9a0809d6214',\n",
       "    'https://zelda.fanapis.com/api/characters/5f6d186f246bd9a0809d638c',\n",
       "    'https://zelda.fanapis.com/api/characters/5f6d186f246bd9a0809d661e',\n",
       "    'https://zelda.fanapis.com/api/characters/5f6d186f246bd9a0809d62e3',\n",
       "    'https://zelda.fanapis.com/api/characters/5f6d186f246bd9a0809d61a2'],\n",
       "   'name': 'Aboda Village',\n",
       "   'description': \"Aboda Village is a location is Spirit Tracks. It is located by the southwestern shore of the Forest Realm. It is Link's hometown and the starting point of his journey.  \",\n",
       "   'id': '5f6e8c8e677b262b8b3fb4a9'},\n",
       "  {'appearances': ['https://zelda.fanapis.com/api/games/5f6ce9d805615a85623ec2c9'],\n",
       "   'inhabitants': [],\n",
       "   'name': 'Ancient Tree Stump',\n",
       "   'description': 'The Ancient Tree Stump is a location in Breath of the Wild. ',\n",
       "   'id': '5f6e8c8e677b262b8b3fb4ab'},\n",
       "  {'appearances': ['https://zelda.fanapis.com/api/games/5f6ce9d805615a85623ec2cf'],\n",
       "   'inhabitants': [],\n",
       "   'name': 'Abandoned Fort',\n",
       "   'description': 'The Abandoned Fort is a Keep in Hyrule Warriors. ',\n",
       "   'id': '5f6e8c8e677b262b8b3fb4ac'},\n",
       "  {'appearances': ['https://zelda.fanapis.com/api/games/5f6ce9d805615a85623ec2c9'],\n",
       "   'inhabitants': ['https://zelda.fanapis.com/api/characters/5f6d186f246bd9a0809d63bc'],\n",
       "   'name': 'Abandoned North Mine',\n",
       "   'description': 'The Abandoned North Mine is a location in Breath of the Wild. ',\n",
       "   'id': '5f6e8c8e677b262b8b3fb4aa'},\n",
       "  {'appearances': ['https://zelda.fanapis.com/api/games/5f6ce9d805615a85623ec2c9'],\n",
       "   'inhabitants': [],\n",
       "   'name': 'Ancient Shrine',\n",
       "   'description': 'Ancient Shrines are dungeon-like puzzles in Breath of the Wild. ',\n",
       "   'id': '5f6e8c8e677b262b8b3fb4ae'},\n",
       "  {'appearances': ['https://zelda.fanapis.com/api/games/5f6ce9d805615a85623ec2c9'],\n",
       "   'inhabitants': [],\n",
       "   'name': 'Daqo Chisay Shrine',\n",
       "   'description': 'The Daqo Chisay Shrine, designated by the Trial name The Whole Picture, is an Ancient Shrine in Breath of the Wild. ',\n",
       "   'id': '5f6e8c8e677b262b8b3fb4ad'},\n",
       "  {'appearances': ['https://zelda.fanapis.com/api/games/5f6ce9d805615a85623ec2c9'],\n",
       "   'inhabitants': [],\n",
       "   'name': 'Ancient Columns',\n",
       "   'description': 'The Ancient Columns are a location in Breath of the Wild. ',\n",
       "   'id': '5f6e8c8e677b262b8b3fb4af'},\n",
       "  {'appearances': ['https://zelda.fanapis.com/api/games/5f6ce9d805615a85623ec2c9'],\n",
       "   'inhabitants': [],\n",
       "   'name': 'Darb Pond',\n",
       "   'description': 'Darb Pond is a location in Breath of the Wild. ',\n",
       "   'id': '5f6e8c8e677b262b8b3fb4b0'},\n",
       "  {'appearances': ['https://zelda.fanapis.com/api/games/5f6ce9d805615a85623ec2c9'],\n",
       "   'inhabitants': [],\n",
       "   'name': 'Damel Forest',\n",
       "   'description': 'The Damel Forest is a location in Breath of the Wild. ',\n",
       "   'id': '5f6e8c8e677b262b8b3fb4b4'},\n",
       "  {'appearances': ['https://zelda.fanapis.com/api/games/5f6ce9d805615a85623ec2b9'],\n",
       "   'inhabitants': [],\n",
       "   'name': 'Zora Seas',\n",
       "   'description': \"The Zora Seas constitute a vast sea in the land of Labrynna in Oracle of Ages. As the name suggests, the Zora Seas are home to the Zoras . The Zora Seas are found to the west of the Sea of Storms, from whence the water flows. To the north is the South Shore and the Fairies' Woods. The only noticeable landmark of the Zora Seas is the Eyeglass Island Library. \",\n",
       "   'id': '5f6e8c8e677b262b8b3fb4b9'},\n",
       "  {'appearances': ['https://zelda.fanapis.com/api/games/5f6ce9d805615a85623ec2c6'],\n",
       "   'inhabitants': [],\n",
       "   'name': 'Hyrule Underground',\n",
       "   'description': 'The Hyrule Underground is a location in The Minish Cap. ',\n",
       "   'id': '5f6e8c8e677b262b8b3fb4be'},\n",
       "  {'appearances': ['https://zelda.fanapis.com/api/games/5f6ce9d805615a85623ec2c9'],\n",
       "   'inhabitants': [],\n",
       "   'name': 'Dalite Forest',\n",
       "   'description': 'Dalite Forestis a location in Breath of the Wild. ',\n",
       "   'id': '5f6e8c8e677b262b8b3fb4b5'},\n",
       "  {'appearances': [],\n",
       "   'inhabitants': [],\n",
       "   'name': 'Page 12',\n",
       "   'description': \"Page 12 is a location in Ripened Tingle's Balloon Trip of Love. \",\n",
       "   'id': '5f6e8c8e677b262b8b3fb4c3'},\n",
       "  {'appearances': ['https://zelda.fanapis.com/api/games/5f6ce9d805615a85623ec2c8'],\n",
       "   'inhabitants': [],\n",
       "   'name': 'Ancient Harbor',\n",
       "   'description': 'The Ancient Harbor is a location in Skyward Sword. It is an ancient port which linked the land of Lanayru Desert to the ancient ocean, now known as the Lanayru Sand Sea. ',\n",
       "   'id': '5f6e8c8e677b262b8b3fb4b1'},\n",
       "  {'appearances': ['https://zelda.fanapis.com/api/games/5f6ce9d805615a85623ec2c9'],\n",
       "   'inhabitants': [],\n",
       "   'name': 'Daqa Koh Shrine',\n",
       "   'description': 'The Daqa Koh Shrine, designated by the Trial name Stalled Flight, is an Ancient Shrine in Breath of the Wild. ',\n",
       "   'id': '5f6e8c8e677b262b8b3fb4b2'},\n",
       "  {'appearances': ['https://zelda.fanapis.com/api/games/5f6ce9d805615a85623ec2b7',\n",
       "    'https://zelda.fanapis.com/api/games/5f6ce9d805615a85623ec2bd',\n",
       "    'https://zelda.fanapis.com/api/games/5f6ce9d805615a85623ec2b8',\n",
       "    'https://zelda.fanapis.com/api/games/5f6ce9d805615a85623ec2ba',\n",
       "    'https://zelda.fanapis.com/api/games/5f6ce9d805615a85623ec2bc',\n",
       "    'https://zelda.fanapis.com/api/games/5f6ce9d805615a85623ec2bf',\n",
       "    'https://zelda.fanapis.com/api/games/5f6ce9d805615a85623ec2c4',\n",
       "    'https://zelda.fanapis.com/api/games/5f6ce9d805615a85623ec2c1',\n",
       "    'https://zelda.fanapis.com/api/games/5f6ce9d805615a85623ec2c6',\n",
       "    'https://zelda.fanapis.com/api/games/5f6ce9d805615a85623ec2be',\n",
       "    'https://zelda.fanapis.com/api/games/5f6ce9d805615a85623ec2c5',\n",
       "    'https://zelda.fanapis.com/api/games/5f6ce9d805615a85623ec2c8',\n",
       "    'https://zelda.fanapis.com/api/games/5f6ce9d805615a85623ec2c7',\n",
       "    'https://zelda.fanapis.com/api/games/5f6ce9d805615a85623ec2c9'],\n",
       "   'inhabitants': [],\n",
       "   'name': 'Hyrule',\n",
       "   'description': 'The Kingdom of Hyrule, also simply known as Hyrule, the Land of the Gods, the Lesser Kingdom of Hyrule, the Surface, and Hyrule Kingdom, is the name of the kingdom that serves as the iconic setting for a majority of the games in the Zelda series. It is usually depicted as a beautiful and prosperous land blessed with deep forests, tall mountains, vast lakes, a barren desert, great cities, villages, and many ancient temples hidden throughout. ',\n",
       "   'id': '5f6e8c8e677b262b8b3fb4b8'},\n",
       "  {'appearances': ['https://zelda.fanapis.com/api/games/5f6ce9d805615a85623ec2c9'],\n",
       "   'inhabitants': [],\n",
       "   'name': 'Pondo',\n",
       "   'description': 'Pondo is a character in Breath of the Wild.  ',\n",
       "   'id': '5f6e8c8e677b262b8b3fb4c8'},\n",
       "  {'appearances': ['https://zelda.fanapis.com/api/games/5f6ce9d805615a85623ec2ba',\n",
       "    'https://zelda.fanapis.com/api/games/5f6ce9d805615a85623ec2be',\n",
       "    'https://zelda.fanapis.com/api/games/5f6ce9d805615a85623ec2c9'],\n",
       "   'inhabitants': ['https://zelda.fanapis.com/api/characters/5f6d186f246bd9a0809d675b',\n",
       "    'https://zelda.fanapis.com/api/characters/5f6d186f246bd9a0809d6639',\n",
       "    'https://zelda.fanapis.com/api/characters/5f6d186f246bd9a0809d6437',\n",
       "    'https://zelda.fanapis.com/api/characters/5f6d186f246bd9a0809d62b7'],\n",
       "   'name': 'Zora River',\n",
       "   'description': \"Zora River, also known as Zora's River, is a recurring location in the The Legend of Zelda series. It is one of the main bodies of water in Hyrule, with its water source being either Zora's Domain or Zora's Fountain. \",\n",
       "   'id': '5f6e8c8e677b262b8b3fb4b7'},\n",
       "  {'appearances': ['https://zelda.fanapis.com/api/games/5f6ce9d805615a85623ec2c9'],\n",
       "   'inhabitants': [],\n",
       "   'name': 'Dako Tah Shrine',\n",
       "   'description': 'The Dako Tah Shrine, designated by the Trial name Electric Path, is an Ancient Shrine in Breath of the Wild. ',\n",
       "   'id': '5f6e8c8e677b262b8b3fb4b6'}]}"
      ]
     },
     "execution_count": 5,
     "metadata": {},
     "output_type": "execute_result"
    }
   ],
   "source": [
    "Placeshtml = req.get(Placesurl).json()\n",
    "Placeshtml"
   ]
  },
  {
   "cell_type": "code",
   "execution_count": 6,
   "metadata": {},
   "outputs": [
    {
     "data": {
      "text/plain": [
       "20"
      ]
     },
     "execution_count": 6,
     "metadata": {},
     "output_type": "execute_result"
    }
   ],
   "source": [
    "len(Placeshtml['data'])"
   ]
  },
  {
   "cell_type": "code",
   "execution_count": 9,
   "metadata": {},
   "outputs": [
    {
     "data": {
      "text/plain": [
       "[{'appearances': ['https://zelda.fanapis.com/api/games/5f6ce9d805615a85623ec2c0',\n",
       "   'https://zelda.fanapis.com/api/games/5f6ce9d805615a85623ec2b9'],\n",
       "  'inhabitants': [],\n",
       "  'name': 'Advance Shop',\n",
       "  'description': 'The Advance Shop, also known as the 100 Rupee Advance Shop, is a recurring location in The Legend of Zelda series. It is a unique store as it can only be accessed when the game is played on a Game Boy Advance. ',\n",
       "  'id': '5f6e8c8e677b262b8b3fb4a8'},\n",
       " {'appearances': ['https://zelda.fanapis.com/api/games/5f6ce9d805615a85623ec2c5'],\n",
       "  'inhabitants': ['https://zelda.fanapis.com/api/characters/5f6d186f246bd9a0809d6795',\n",
       "   'https://zelda.fanapis.com/api/characters/5f6d186f246bd9a0809d644f',\n",
       "   'https://zelda.fanapis.com/api/characters/5f6d186f246bd9a0809d6214',\n",
       "   'https://zelda.fanapis.com/api/characters/5f6d186f246bd9a0809d638c',\n",
       "   'https://zelda.fanapis.com/api/characters/5f6d186f246bd9a0809d661e',\n",
       "   'https://zelda.fanapis.com/api/characters/5f6d186f246bd9a0809d62e3',\n",
       "   'https://zelda.fanapis.com/api/characters/5f6d186f246bd9a0809d61a2'],\n",
       "  'name': 'Aboda Village',\n",
       "  'description': \"Aboda Village is a location is Spirit Tracks. It is located by the southwestern shore of the Forest Realm. It is Link's hometown and the starting point of his journey.  \",\n",
       "  'id': '5f6e8c8e677b262b8b3fb4a9'},\n",
       " {'appearances': ['https://zelda.fanapis.com/api/games/5f6ce9d805615a85623ec2c9'],\n",
       "  'inhabitants': [],\n",
       "  'name': 'Ancient Tree Stump',\n",
       "  'description': 'The Ancient Tree Stump is a location in Breath of the Wild. ',\n",
       "  'id': '5f6e8c8e677b262b8b3fb4ab'},\n",
       " {'appearances': ['https://zelda.fanapis.com/api/games/5f6ce9d805615a85623ec2cf'],\n",
       "  'inhabitants': [],\n",
       "  'name': 'Abandoned Fort',\n",
       "  'description': 'The Abandoned Fort is a Keep in Hyrule Warriors. ',\n",
       "  'id': '5f6e8c8e677b262b8b3fb4ac'},\n",
       " {'appearances': ['https://zelda.fanapis.com/api/games/5f6ce9d805615a85623ec2c9'],\n",
       "  'inhabitants': ['https://zelda.fanapis.com/api/characters/5f6d186f246bd9a0809d63bc'],\n",
       "  'name': 'Abandoned North Mine',\n",
       "  'description': 'The Abandoned North Mine is a location in Breath of the Wild. ',\n",
       "  'id': '5f6e8c8e677b262b8b3fb4aa'},\n",
       " {'appearances': ['https://zelda.fanapis.com/api/games/5f6ce9d805615a85623ec2c9'],\n",
       "  'inhabitants': [],\n",
       "  'name': 'Ancient Shrine',\n",
       "  'description': 'Ancient Shrines are dungeon-like puzzles in Breath of the Wild. ',\n",
       "  'id': '5f6e8c8e677b262b8b3fb4ae'},\n",
       " {'appearances': ['https://zelda.fanapis.com/api/games/5f6ce9d805615a85623ec2c9'],\n",
       "  'inhabitants': [],\n",
       "  'name': 'Daqo Chisay Shrine',\n",
       "  'description': 'The Daqo Chisay Shrine, designated by the Trial name The Whole Picture, is an Ancient Shrine in Breath of the Wild. ',\n",
       "  'id': '5f6e8c8e677b262b8b3fb4ad'},\n",
       " {'appearances': ['https://zelda.fanapis.com/api/games/5f6ce9d805615a85623ec2c9'],\n",
       "  'inhabitants': [],\n",
       "  'name': 'Ancient Columns',\n",
       "  'description': 'The Ancient Columns are a location in Breath of the Wild. ',\n",
       "  'id': '5f6e8c8e677b262b8b3fb4af'},\n",
       " {'appearances': ['https://zelda.fanapis.com/api/games/5f6ce9d805615a85623ec2c9'],\n",
       "  'inhabitants': [],\n",
       "  'name': 'Darb Pond',\n",
       "  'description': 'Darb Pond is a location in Breath of the Wild. ',\n",
       "  'id': '5f6e8c8e677b262b8b3fb4b0'},\n",
       " {'appearances': ['https://zelda.fanapis.com/api/games/5f6ce9d805615a85623ec2c9'],\n",
       "  'inhabitants': [],\n",
       "  'name': 'Damel Forest',\n",
       "  'description': 'The Damel Forest is a location in Breath of the Wild. ',\n",
       "  'id': '5f6e8c8e677b262b8b3fb4b4'},\n",
       " {'appearances': ['https://zelda.fanapis.com/api/games/5f6ce9d805615a85623ec2b9'],\n",
       "  'inhabitants': [],\n",
       "  'name': 'Zora Seas',\n",
       "  'description': \"The Zora Seas constitute a vast sea in the land of Labrynna in Oracle of Ages. As the name suggests, the Zora Seas are home to the Zoras . The Zora Seas are found to the west of the Sea of Storms, from whence the water flows. To the north is the South Shore and the Fairies' Woods. The only noticeable landmark of the Zora Seas is the Eyeglass Island Library. \",\n",
       "  'id': '5f6e8c8e677b262b8b3fb4b9'},\n",
       " {'appearances': ['https://zelda.fanapis.com/api/games/5f6ce9d805615a85623ec2c6'],\n",
       "  'inhabitants': [],\n",
       "  'name': 'Hyrule Underground',\n",
       "  'description': 'The Hyrule Underground is a location in The Minish Cap. ',\n",
       "  'id': '5f6e8c8e677b262b8b3fb4be'},\n",
       " {'appearances': ['https://zelda.fanapis.com/api/games/5f6ce9d805615a85623ec2c9'],\n",
       "  'inhabitants': [],\n",
       "  'name': 'Dalite Forest',\n",
       "  'description': 'Dalite Forestis a location in Breath of the Wild. ',\n",
       "  'id': '5f6e8c8e677b262b8b3fb4b5'},\n",
       " {'appearances': [],\n",
       "  'inhabitants': [],\n",
       "  'name': 'Page 12',\n",
       "  'description': \"Page 12 is a location in Ripened Tingle's Balloon Trip of Love. \",\n",
       "  'id': '5f6e8c8e677b262b8b3fb4c3'},\n",
       " {'appearances': ['https://zelda.fanapis.com/api/games/5f6ce9d805615a85623ec2c8'],\n",
       "  'inhabitants': [],\n",
       "  'name': 'Ancient Harbor',\n",
       "  'description': 'The Ancient Harbor is a location in Skyward Sword. It is an ancient port which linked the land of Lanayru Desert to the ancient ocean, now known as the Lanayru Sand Sea. ',\n",
       "  'id': '5f6e8c8e677b262b8b3fb4b1'},\n",
       " {'appearances': ['https://zelda.fanapis.com/api/games/5f6ce9d805615a85623ec2c9'],\n",
       "  'inhabitants': [],\n",
       "  'name': 'Daqa Koh Shrine',\n",
       "  'description': 'The Daqa Koh Shrine, designated by the Trial name Stalled Flight, is an Ancient Shrine in Breath of the Wild. ',\n",
       "  'id': '5f6e8c8e677b262b8b3fb4b2'},\n",
       " {'appearances': ['https://zelda.fanapis.com/api/games/5f6ce9d805615a85623ec2b7',\n",
       "   'https://zelda.fanapis.com/api/games/5f6ce9d805615a85623ec2bd',\n",
       "   'https://zelda.fanapis.com/api/games/5f6ce9d805615a85623ec2b8',\n",
       "   'https://zelda.fanapis.com/api/games/5f6ce9d805615a85623ec2ba',\n",
       "   'https://zelda.fanapis.com/api/games/5f6ce9d805615a85623ec2bc',\n",
       "   'https://zelda.fanapis.com/api/games/5f6ce9d805615a85623ec2bf',\n",
       "   'https://zelda.fanapis.com/api/games/5f6ce9d805615a85623ec2c4',\n",
       "   'https://zelda.fanapis.com/api/games/5f6ce9d805615a85623ec2c1',\n",
       "   'https://zelda.fanapis.com/api/games/5f6ce9d805615a85623ec2c6',\n",
       "   'https://zelda.fanapis.com/api/games/5f6ce9d805615a85623ec2be',\n",
       "   'https://zelda.fanapis.com/api/games/5f6ce9d805615a85623ec2c5',\n",
       "   'https://zelda.fanapis.com/api/games/5f6ce9d805615a85623ec2c8',\n",
       "   'https://zelda.fanapis.com/api/games/5f6ce9d805615a85623ec2c7',\n",
       "   'https://zelda.fanapis.com/api/games/5f6ce9d805615a85623ec2c9'],\n",
       "  'inhabitants': [],\n",
       "  'name': 'Hyrule',\n",
       "  'description': 'The Kingdom of Hyrule, also simply known as Hyrule, the Land of the Gods, the Lesser Kingdom of Hyrule, the Surface, and Hyrule Kingdom, is the name of the kingdom that serves as the iconic setting for a majority of the games in the Zelda series. It is usually depicted as a beautiful and prosperous land blessed with deep forests, tall mountains, vast lakes, a barren desert, great cities, villages, and many ancient temples hidden throughout. ',\n",
       "  'id': '5f6e8c8e677b262b8b3fb4b8'},\n",
       " {'appearances': ['https://zelda.fanapis.com/api/games/5f6ce9d805615a85623ec2c9'],\n",
       "  'inhabitants': [],\n",
       "  'name': 'Pondo',\n",
       "  'description': 'Pondo is a character in Breath of the Wild.  ',\n",
       "  'id': '5f6e8c8e677b262b8b3fb4c8'},\n",
       " {'appearances': ['https://zelda.fanapis.com/api/games/5f6ce9d805615a85623ec2ba',\n",
       "   'https://zelda.fanapis.com/api/games/5f6ce9d805615a85623ec2be',\n",
       "   'https://zelda.fanapis.com/api/games/5f6ce9d805615a85623ec2c9'],\n",
       "  'inhabitants': ['https://zelda.fanapis.com/api/characters/5f6d186f246bd9a0809d675b',\n",
       "   'https://zelda.fanapis.com/api/characters/5f6d186f246bd9a0809d6639',\n",
       "   'https://zelda.fanapis.com/api/characters/5f6d186f246bd9a0809d6437',\n",
       "   'https://zelda.fanapis.com/api/characters/5f6d186f246bd9a0809d62b7'],\n",
       "  'name': 'Zora River',\n",
       "  'description': \"Zora River, also known as Zora's River, is a recurring location in the The Legend of Zelda series. It is one of the main bodies of water in Hyrule, with its water source being either Zora's Domain or Zora's Fountain. \",\n",
       "  'id': '5f6e8c8e677b262b8b3fb4b7'},\n",
       " {'appearances': ['https://zelda.fanapis.com/api/games/5f6ce9d805615a85623ec2c9'],\n",
       "  'inhabitants': [],\n",
       "  'name': 'Dako Tah Shrine',\n",
       "  'description': 'The Dako Tah Shrine, designated by the Trial name Electric Path, is an Ancient Shrine in Breath of the Wild. ',\n",
       "  'id': '5f6e8c8e677b262b8b3fb4b6'}]"
      ]
     },
     "execution_count": 9,
     "metadata": {},
     "output_type": "execute_result"
    }
   ],
   "source": [
    "Placesdata = Placeshtml['data']\n",
    "Placesdata"
   ]
  },
  {
   "cell_type": "code",
   "execution_count": 10,
   "metadata": {},
   "outputs": [
    {
     "name": "stdout",
     "output_type": "stream",
     "text": [
      "appearances: [['https://zelda.fanapis.com/api/games/5f6ce9d805615a85623ec2c0', 'https://zelda.fanapis.com/api/games/5f6ce9d805615a85623ec2b9'], ['https://zelda.fanapis.com/api/games/5f6ce9d805615a85623ec2c5'], ['https://zelda.fanapis.com/api/games/5f6ce9d805615a85623ec2c9'], ['https://zelda.fanapis.com/api/games/5f6ce9d805615a85623ec2cf'], ['https://zelda.fanapis.com/api/games/5f6ce9d805615a85623ec2c9'], ['https://zelda.fanapis.com/api/games/5f6ce9d805615a85623ec2c9'], ['https://zelda.fanapis.com/api/games/5f6ce9d805615a85623ec2c9'], ['https://zelda.fanapis.com/api/games/5f6ce9d805615a85623ec2c9'], ['https://zelda.fanapis.com/api/games/5f6ce9d805615a85623ec2c9'], ['https://zelda.fanapis.com/api/games/5f6ce9d805615a85623ec2c9'], ['https://zelda.fanapis.com/api/games/5f6ce9d805615a85623ec2b9'], ['https://zelda.fanapis.com/api/games/5f6ce9d805615a85623ec2c6'], ['https://zelda.fanapis.com/api/games/5f6ce9d805615a85623ec2c9'], [], ['https://zelda.fanapis.com/api/games/5f6ce9d805615a85623ec2c8'], ['https://zelda.fanapis.com/api/games/5f6ce9d805615a85623ec2c9'], ['https://zelda.fanapis.com/api/games/5f6ce9d805615a85623ec2b7', 'https://zelda.fanapis.com/api/games/5f6ce9d805615a85623ec2bd', 'https://zelda.fanapis.com/api/games/5f6ce9d805615a85623ec2b8', 'https://zelda.fanapis.com/api/games/5f6ce9d805615a85623ec2ba', 'https://zelda.fanapis.com/api/games/5f6ce9d805615a85623ec2bc', 'https://zelda.fanapis.com/api/games/5f6ce9d805615a85623ec2bf', 'https://zelda.fanapis.com/api/games/5f6ce9d805615a85623ec2c4', 'https://zelda.fanapis.com/api/games/5f6ce9d805615a85623ec2c1', 'https://zelda.fanapis.com/api/games/5f6ce9d805615a85623ec2c6', 'https://zelda.fanapis.com/api/games/5f6ce9d805615a85623ec2be', 'https://zelda.fanapis.com/api/games/5f6ce9d805615a85623ec2c5', 'https://zelda.fanapis.com/api/games/5f6ce9d805615a85623ec2c8', 'https://zelda.fanapis.com/api/games/5f6ce9d805615a85623ec2c7', 'https://zelda.fanapis.com/api/games/5f6ce9d805615a85623ec2c9'], ['https://zelda.fanapis.com/api/games/5f6ce9d805615a85623ec2c9'], ['https://zelda.fanapis.com/api/games/5f6ce9d805615a85623ec2ba', 'https://zelda.fanapis.com/api/games/5f6ce9d805615a85623ec2be', 'https://zelda.fanapis.com/api/games/5f6ce9d805615a85623ec2c9'], ['https://zelda.fanapis.com/api/games/5f6ce9d805615a85623ec2c9']]\n",
      "inhabitants: [[], ['https://zelda.fanapis.com/api/characters/5f6d186f246bd9a0809d6795', 'https://zelda.fanapis.com/api/characters/5f6d186f246bd9a0809d644f', 'https://zelda.fanapis.com/api/characters/5f6d186f246bd9a0809d6214', 'https://zelda.fanapis.com/api/characters/5f6d186f246bd9a0809d638c', 'https://zelda.fanapis.com/api/characters/5f6d186f246bd9a0809d661e', 'https://zelda.fanapis.com/api/characters/5f6d186f246bd9a0809d62e3', 'https://zelda.fanapis.com/api/characters/5f6d186f246bd9a0809d61a2'], [], [], ['https://zelda.fanapis.com/api/characters/5f6d186f246bd9a0809d63bc'], [], [], [], [], [], [], [], [], [], [], [], [], [], ['https://zelda.fanapis.com/api/characters/5f6d186f246bd9a0809d675b', 'https://zelda.fanapis.com/api/characters/5f6d186f246bd9a0809d6639', 'https://zelda.fanapis.com/api/characters/5f6d186f246bd9a0809d6437', 'https://zelda.fanapis.com/api/characters/5f6d186f246bd9a0809d62b7'], []]\n",
      "name: ['Advance Shop', 'Aboda Village', 'Ancient Tree Stump', 'Abandoned Fort', 'Abandoned North Mine', 'Ancient Shrine', 'Daqo Chisay Shrine', 'Ancient Columns', 'Darb Pond', 'Damel Forest', 'Zora Seas', 'Hyrule Underground', 'Dalite Forest', 'Page 12', 'Ancient Harbor', 'Daqa Koh Shrine', 'Hyrule', 'Pondo', 'Zora River', 'Dako Tah Shrine']\n",
      "description: ['The Advance Shop, also known as the 100 Rupee Advance Shop, is a recurring location in The Legend of Zelda series. It is a unique store as it can only be accessed when the game is played on a Game Boy Advance. ', \"Aboda Village is a location is Spirit Tracks. It is located by the southwestern shore of the Forest Realm. It is Link's hometown and the starting point of his journey.  \", 'The Ancient Tree Stump is a location in Breath of the Wild. ', 'The Abandoned Fort is a Keep in Hyrule Warriors. ', 'The Abandoned North Mine is a location in Breath of the Wild. ', 'Ancient Shrines are dungeon-like puzzles in Breath of the Wild. ', 'The Daqo Chisay Shrine, designated by the Trial name The Whole Picture, is an Ancient Shrine in Breath of the Wild. ', 'The Ancient Columns are a location in Breath of the Wild. ', 'Darb Pond is a location in Breath of the Wild. ', 'The Damel Forest is a location in Breath of the Wild. ', \"The Zora Seas constitute a vast sea in the land of Labrynna in Oracle of Ages. As the name suggests, the Zora Seas are home to the Zoras . The Zora Seas are found to the west of the Sea of Storms, from whence the water flows. To the north is the South Shore and the Fairies' Woods. The only noticeable landmark of the Zora Seas is the Eyeglass Island Library. \", 'The Hyrule Underground is a location in The Minish Cap. ', 'Dalite Forestis a location in Breath of the Wild. ', \"Page 12 is a location in Ripened Tingle's Balloon Trip of Love. \", 'The Ancient Harbor is a location in Skyward Sword. It is an ancient port which linked the land of Lanayru Desert to the ancient ocean, now known as the Lanayru Sand Sea. ', 'The Daqa Koh Shrine, designated by the Trial name Stalled Flight, is an Ancient Shrine in Breath of the Wild. ', 'The Kingdom of Hyrule, also simply known as Hyrule, the Land of the Gods, the Lesser Kingdom of Hyrule, the Surface, and Hyrule Kingdom, is the name of the kingdom that serves as the iconic setting for a majority of the games in the Zelda series. It is usually depicted as a beautiful and prosperous land blessed with deep forests, tall mountains, vast lakes, a barren desert, great cities, villages, and many ancient temples hidden throughout. ', 'Pondo is a character in Breath of the Wild.  ', \"Zora River, also known as Zora's River, is a recurring location in the The Legend of Zelda series. It is one of the main bodies of water in Hyrule, with its water source being either Zora's Domain or Zora's Fountain. \", 'The Dako Tah Shrine, designated by the Trial name Electric Path, is an Ancient Shrine in Breath of the Wild. ']\n",
      "id: ['5f6e8c8e677b262b8b3fb4a8', '5f6e8c8e677b262b8b3fb4a9', '5f6e8c8e677b262b8b3fb4ab', '5f6e8c8e677b262b8b3fb4ac', '5f6e8c8e677b262b8b3fb4aa', '5f6e8c8e677b262b8b3fb4ae', '5f6e8c8e677b262b8b3fb4ad', '5f6e8c8e677b262b8b3fb4af', '5f6e8c8e677b262b8b3fb4b0', '5f6e8c8e677b262b8b3fb4b4', '5f6e8c8e677b262b8b3fb4b9', '5f6e8c8e677b262b8b3fb4be', '5f6e8c8e677b262b8b3fb4b5', '5f6e8c8e677b262b8b3fb4c3', '5f6e8c8e677b262b8b3fb4b1', '5f6e8c8e677b262b8b3fb4b2', '5f6e8c8e677b262b8b3fb4b8', '5f6e8c8e677b262b8b3fb4c8', '5f6e8c8e677b262b8b3fb4b7', '5f6e8c8e677b262b8b3fb4b6']\n"
     ]
    }
   ],
   "source": [
    "values_by_key = {}\n",
    "\n",
    "# Iterate over each dictionary in games_data\n",
    "for dictionary in Placesdata:\n",
    "    # Iterate over each key-value pair in the dictionary\n",
    "    for key, value in dictionary.items():\n",
    "        # Check if the key is already in the values_by_key dictionary\n",
    "        if key in values_by_key:\n",
    "            # Append the value to the existing list of values for the key\n",
    "            values_by_key[key].append(value)\n",
    "        else:\n",
    "            # Create a new list with the value for the key\n",
    "            values_by_key[key] = [value]\n",
    "\n",
    "# Print the values for each key\n",
    "for key, values in values_by_key.items():\n",
    "    print(f\"{key}: {values}\")"
   ]
  },
  {
   "cell_type": "code",
   "execution_count": 7,
   "metadata": {},
   "outputs": [
    {
     "ename": "KeyError",
     "evalue": "'released_date'",
     "output_type": "error",
     "traceback": [
      "\u001b[0;31m---------------------------------------------------------------------------\u001b[0m",
      "\u001b[0;31mKeyError\u001b[0m                                  Traceback (most recent call last)",
      "Cell \u001b[0;32mIn[7], line 1\u001b[0m\n\u001b[0;32m----> 1\u001b[0m values_by_key[\u001b[39m'\u001b[39;49m\u001b[39mreleased_date\u001b[39;49m\u001b[39m'\u001b[39;49m]\n",
      "\u001b[0;31mKeyError\u001b[0m: 'released_date'"
     ]
    }
   ],
   "source": [
    "values_by_key['released_date']"
   ]
  },
  {
   "cell_type": "code",
   "execution_count": 11,
   "metadata": {},
   "outputs": [
    {
     "name": "stdout",
     "output_type": "stream",
     "text": [
      "[['https://zelda.fanapis.com/api/games/5f6ce9d805615a85623ec2c0', 'https://zelda.fanapis.com/api/games/5f6ce9d805615a85623ec2b9'], [], 'Advance Shop', 'The Advance Shop, also known as the 100 Rupee Advance Shop, is a recurring location in The Legend of Zelda series. It is a unique store as it can only be accessed when the game is played on a Game Boy Advance. ', '5f6e8c8e677b262b8b3fb4a8']\n",
      "[['https://zelda.fanapis.com/api/games/5f6ce9d805615a85623ec2c5'], ['https://zelda.fanapis.com/api/characters/5f6d186f246bd9a0809d6795', 'https://zelda.fanapis.com/api/characters/5f6d186f246bd9a0809d644f', 'https://zelda.fanapis.com/api/characters/5f6d186f246bd9a0809d6214', 'https://zelda.fanapis.com/api/characters/5f6d186f246bd9a0809d638c', 'https://zelda.fanapis.com/api/characters/5f6d186f246bd9a0809d661e', 'https://zelda.fanapis.com/api/characters/5f6d186f246bd9a0809d62e3', 'https://zelda.fanapis.com/api/characters/5f6d186f246bd9a0809d61a2'], 'Aboda Village', \"Aboda Village is a location is Spirit Tracks. It is located by the southwestern shore of the Forest Realm. It is Link's hometown and the starting point of his journey.  \", '5f6e8c8e677b262b8b3fb4a9']\n",
      "[['https://zelda.fanapis.com/api/games/5f6ce9d805615a85623ec2c9'], [], 'Ancient Tree Stump', 'The Ancient Tree Stump is a location in Breath of the Wild. ', '5f6e8c8e677b262b8b3fb4ab']\n",
      "[['https://zelda.fanapis.com/api/games/5f6ce9d805615a85623ec2cf'], [], 'Abandoned Fort', 'The Abandoned Fort is a Keep in Hyrule Warriors. ', '5f6e8c8e677b262b8b3fb4ac']\n",
      "[['https://zelda.fanapis.com/api/games/5f6ce9d805615a85623ec2c9'], ['https://zelda.fanapis.com/api/characters/5f6d186f246bd9a0809d63bc'], 'Abandoned North Mine', 'The Abandoned North Mine is a location in Breath of the Wild. ', '5f6e8c8e677b262b8b3fb4aa']\n",
      "[['https://zelda.fanapis.com/api/games/5f6ce9d805615a85623ec2c9'], [], 'Ancient Shrine', 'Ancient Shrines are dungeon-like puzzles in Breath of the Wild. ', '5f6e8c8e677b262b8b3fb4ae']\n",
      "[['https://zelda.fanapis.com/api/games/5f6ce9d805615a85623ec2c9'], [], 'Daqo Chisay Shrine', 'The Daqo Chisay Shrine, designated by the Trial name The Whole Picture, is an Ancient Shrine in Breath of the Wild. ', '5f6e8c8e677b262b8b3fb4ad']\n",
      "[['https://zelda.fanapis.com/api/games/5f6ce9d805615a85623ec2c9'], [], 'Ancient Columns', 'The Ancient Columns are a location in Breath of the Wild. ', '5f6e8c8e677b262b8b3fb4af']\n",
      "[['https://zelda.fanapis.com/api/games/5f6ce9d805615a85623ec2c9'], [], 'Darb Pond', 'Darb Pond is a location in Breath of the Wild. ', '5f6e8c8e677b262b8b3fb4b0']\n",
      "[['https://zelda.fanapis.com/api/games/5f6ce9d805615a85623ec2c9'], [], 'Damel Forest', 'The Damel Forest is a location in Breath of the Wild. ', '5f6e8c8e677b262b8b3fb4b4']\n",
      "[['https://zelda.fanapis.com/api/games/5f6ce9d805615a85623ec2b9'], [], 'Zora Seas', \"The Zora Seas constitute a vast sea in the land of Labrynna in Oracle of Ages. As the name suggests, the Zora Seas are home to the Zoras . The Zora Seas are found to the west of the Sea of Storms, from whence the water flows. To the north is the South Shore and the Fairies' Woods. The only noticeable landmark of the Zora Seas is the Eyeglass Island Library. \", '5f6e8c8e677b262b8b3fb4b9']\n",
      "[['https://zelda.fanapis.com/api/games/5f6ce9d805615a85623ec2c6'], [], 'Hyrule Underground', 'The Hyrule Underground is a location in The Minish Cap. ', '5f6e8c8e677b262b8b3fb4be']\n",
      "[['https://zelda.fanapis.com/api/games/5f6ce9d805615a85623ec2c9'], [], 'Dalite Forest', 'Dalite Forestis a location in Breath of the Wild. ', '5f6e8c8e677b262b8b3fb4b5']\n",
      "[[], [], 'Page 12', \"Page 12 is a location in Ripened Tingle's Balloon Trip of Love. \", '5f6e8c8e677b262b8b3fb4c3']\n",
      "[['https://zelda.fanapis.com/api/games/5f6ce9d805615a85623ec2c8'], [], 'Ancient Harbor', 'The Ancient Harbor is a location in Skyward Sword. It is an ancient port which linked the land of Lanayru Desert to the ancient ocean, now known as the Lanayru Sand Sea. ', '5f6e8c8e677b262b8b3fb4b1']\n",
      "[['https://zelda.fanapis.com/api/games/5f6ce9d805615a85623ec2c9'], [], 'Daqa Koh Shrine', 'The Daqa Koh Shrine, designated by the Trial name Stalled Flight, is an Ancient Shrine in Breath of the Wild. ', '5f6e8c8e677b262b8b3fb4b2']\n",
      "[['https://zelda.fanapis.com/api/games/5f6ce9d805615a85623ec2b7', 'https://zelda.fanapis.com/api/games/5f6ce9d805615a85623ec2bd', 'https://zelda.fanapis.com/api/games/5f6ce9d805615a85623ec2b8', 'https://zelda.fanapis.com/api/games/5f6ce9d805615a85623ec2ba', 'https://zelda.fanapis.com/api/games/5f6ce9d805615a85623ec2bc', 'https://zelda.fanapis.com/api/games/5f6ce9d805615a85623ec2bf', 'https://zelda.fanapis.com/api/games/5f6ce9d805615a85623ec2c4', 'https://zelda.fanapis.com/api/games/5f6ce9d805615a85623ec2c1', 'https://zelda.fanapis.com/api/games/5f6ce9d805615a85623ec2c6', 'https://zelda.fanapis.com/api/games/5f6ce9d805615a85623ec2be', 'https://zelda.fanapis.com/api/games/5f6ce9d805615a85623ec2c5', 'https://zelda.fanapis.com/api/games/5f6ce9d805615a85623ec2c8', 'https://zelda.fanapis.com/api/games/5f6ce9d805615a85623ec2c7', 'https://zelda.fanapis.com/api/games/5f6ce9d805615a85623ec2c9'], [], 'Hyrule', 'The Kingdom of Hyrule, also simply known as Hyrule, the Land of the Gods, the Lesser Kingdom of Hyrule, the Surface, and Hyrule Kingdom, is the name of the kingdom that serves as the iconic setting for a majority of the games in the Zelda series. It is usually depicted as a beautiful and prosperous land blessed with deep forests, tall mountains, vast lakes, a barren desert, great cities, villages, and many ancient temples hidden throughout. ', '5f6e8c8e677b262b8b3fb4b8']\n",
      "[['https://zelda.fanapis.com/api/games/5f6ce9d805615a85623ec2c9'], [], 'Pondo', 'Pondo is a character in Breath of the Wild.  ', '5f6e8c8e677b262b8b3fb4c8']\n",
      "[['https://zelda.fanapis.com/api/games/5f6ce9d805615a85623ec2ba', 'https://zelda.fanapis.com/api/games/5f6ce9d805615a85623ec2be', 'https://zelda.fanapis.com/api/games/5f6ce9d805615a85623ec2c9'], ['https://zelda.fanapis.com/api/characters/5f6d186f246bd9a0809d675b', 'https://zelda.fanapis.com/api/characters/5f6d186f246bd9a0809d6639', 'https://zelda.fanapis.com/api/characters/5f6d186f246bd9a0809d6437', 'https://zelda.fanapis.com/api/characters/5f6d186f246bd9a0809d62b7'], 'Zora River', \"Zora River, also known as Zora's River, is a recurring location in the The Legend of Zelda series. It is one of the main bodies of water in Hyrule, with its water source being either Zora's Domain or Zora's Fountain. \", '5f6e8c8e677b262b8b3fb4b7']\n",
      "[['https://zelda.fanapis.com/api/games/5f6ce9d805615a85623ec2c9'], [], 'Dako Tah Shrine', 'The Dako Tah Shrine, designated by the Trial name Electric Path, is an Ancient Shrine in Breath of the Wild. ', '5f6e8c8e677b262b8b3fb4b6']\n"
     ]
    }
   ],
   "source": [
    "table_data = []\n",
    "\n",
    "for dictionary in Placesdata:\n",
    "    row = list(dictionary.values())\n",
    "    table_data.append(row)\n",
    "\n",
    "# Print the table\n",
    "for row in table_data:\n",
    "    print(row)\n"
   ]
  },
  {
   "cell_type": "code",
   "execution_count": 8,
   "metadata": {},
   "outputs": [
    {
     "ename": "KeyError",
     "evalue": "'Games_data'",
     "output_type": "error",
     "traceback": [
      "\u001b[0;31m---------------------------------------------------------------------------\u001b[0m",
      "\u001b[0;31mKeyError\u001b[0m                                  Traceback (most recent call last)",
      "Cell \u001b[0;32mIn[8], line 2\u001b[0m\n\u001b[1;32m      1\u001b[0m \u001b[39mfor\u001b[39;00m Game \u001b[39min\u001b[39;00m Mondata:\n\u001b[0;32m----> 2\u001b[0m     Gamesdata\u001b[39m=\u001b[39mdictionary[\u001b[39m'\u001b[39;49m\u001b[39mGames_data\u001b[39;49m\u001b[39m'\u001b[39;49m]\n\u001b[1;32m      3\u001b[0m     values \u001b[39m=\u001b[39m Gamesdata\u001b[39m.\u001b[39mvalues\n\u001b[1;32m      5\u001b[0m \u001b[39mprint\u001b[39m(\u001b[39mf\u001b[39m\u001b[39m\"\u001b[39m\u001b[39mid: \u001b[39m\u001b[39m{\u001b[39;00m\u001b[39mid\u001b[39m\u001b[39m}\u001b[39;00m\u001b[39m, Name: \u001b[39m\u001b[39m{\u001b[39;00mName\u001b[39m}\u001b[39;00m\u001b[39m, Description: \u001b[39m\u001b[39m{\u001b[39;00mDescription\u001b[39m}\u001b[39;00m\u001b[39m, Developer: \u001b[39m\u001b[39m{\u001b[39;00mDeveloper\u001b[39m}\u001b[39;00m\u001b[39m, Publisher: \u001b[39m\u001b[39m{\u001b[39;00mPublisher\u001b[39m}\u001b[39;00m\u001b[39m, Release date: \u001b[39m\u001b[39m{\u001b[39;00mRelease_date\u001b[39m}\u001b[39;00m\u001b[39m\"\u001b[39m)\n",
      "\u001b[0;31mKeyError\u001b[0m: 'Games_data'"
     ]
    }
   ],
   "source": [
    "for Game in Mondata:\n",
    "    ata=dictionary['Games_data']\n",
    "    values = Gamesdata.values\n",
    "\n",
    "print(f\"id: {id}, Name: {Name}, Description: {Description}, Developer: {Developer}, Publisher: {Publisher}, Release date: {Release_date}\")"
   ]
  },
  {
   "cell_type": "code",
   "execution_count": null,
   "metadata": {},
   "outputs": [],
   "source": []
  },
  {
   "cell_type": "code",
   "execution_count": null,
   "metadata": {},
   "outputs": [],
   "source": []
  }
 ],
 "metadata": {
  "kernelspec": {
   "display_name": "Python 3",
   "language": "python",
   "name": "python3"
  },
  "language_info": {
   "codemirror_mode": {
    "name": "ipython",
    "version": 3
   },
   "file_extension": ".py",
   "mimetype": "text/x-python",
   "name": "python",
   "nbconvert_exporter": "python",
   "pygments_lexer": "ipython3",
   "version": "3.11.2"
  },
  "orig_nbformat": 4
 },
 "nbformat": 4,
 "nbformat_minor": 2
}
