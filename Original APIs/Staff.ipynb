{
 "cells": [
  {
   "cell_type": "code",
   "execution_count": 3,
   "metadata": {},
   "outputs": [],
   "source": [
    "import requests as req \n",
    "from bs4 import BeautifulSoup\n",
    "import pandas as pd\n",
    "import json\n",
    "# from pprint import pprint\n",
    "# from lxml import html\n",
    "# from lxml.html import fromstring\n",
    "# import urllib.request\n",
    "# from urllib.request import urlopen\n",
    "# import random\n",
    "# import re\n",
    "# import scrapy"
   ]
  },
  {
   "cell_type": "code",
   "execution_count": 1,
   "metadata": {},
   "outputs": [],
   "source": [
    "Gamesurl = 'https://zelda.fanapis.com/api/staff'"
   ]
  },
  {
   "cell_type": "code",
   "execution_count": 4,
   "metadata": {},
   "outputs": [
    {
     "data": {
      "text/plain": [
       "{'success': True,\n",
       " 'count': 20,\n",
       " 'data': [{'worked_on': ['https://zelda.fanapis.com/api/games/5f6ce9d805615a85623ec2c9'],\n",
       "   'name': 'Airi Nagano',\n",
       "   'id': '5f6d127156b0219cac2f5221'},\n",
       "  {'worked_on': ['https://zelda.fanapis.com/api/games/5f6ce9d805615a85623ec2c9'],\n",
       "   'name': 'Aya Shida',\n",
       "   'id': '5f6d127156b0219cac2f5222'},\n",
       "  {'worked_on': ['https://zelda.fanapis.com/api/games/5f6ce9d805615a85623ec2c9'],\n",
       "   'name': 'Atsushi Domoto',\n",
       "   'id': '5f6d127156b0219cac2f5223'},\n",
       "  {'worked_on': ['https://zelda.fanapis.com/api/games/5f6ce9d805615a85623ec2c9'],\n",
       "   'name': 'Ai Matsumura',\n",
       "   'id': '5f6d127156b0219cac2f5224'},\n",
       "  {'worked_on': ['https://zelda.fanapis.com/api/games/5f6ce9d805615a85623ec2c9'],\n",
       "   'name': 'Chihiro Okada',\n",
       "   'id': '5f6d127156b0219cac2f5226'},\n",
       "  {'worked_on': ['https://zelda.fanapis.com/api/games/5f6ce9d805615a85623ec2c9'],\n",
       "   'name': 'Chizue Utazu',\n",
       "   'id': '5f6d127156b0219cac2f5225'},\n",
       "  {'worked_on': ['https://zelda.fanapis.com/api/games/5f6ce9d805615a85623ec2c9'],\n",
       "   'name': 'Atsushi Asakura',\n",
       "   'id': '5f6d127156b0219cac2f5227'},\n",
       "  {'worked_on': ['https://zelda.fanapis.com/api/games/5f6ce9d805615a85623ec2c9'],\n",
       "   'name': 'Chee Wai Lim',\n",
       "   'id': '5f6d127156b0219cac2f5228'},\n",
       "  {'worked_on': ['https://zelda.fanapis.com/api/games/5f6ce9d805615a85623ec2c9'],\n",
       "   'name': 'Bungo Takahashi',\n",
       "   'id': '5f6d127156b0219cac2f522a'},\n",
       "  {'worked_on': ['https://zelda.fanapis.com/api/games/5f6ce9d805615a85623ec2c9'],\n",
       "   'name': 'Atsuko Kato',\n",
       "   'id': '5f6d127156b0219cac2f5229'},\n",
       "  {'worked_on': ['https://zelda.fanapis.com/api/games/5f6ce9d805615a85623ec2c9'],\n",
       "   'name': 'Ayumi Takata',\n",
       "   'id': '5f6d127156b0219cac2f522b'},\n",
       "  {'worked_on': ['https://zelda.fanapis.com/api/games/5f6ce9d805615a85623ec2c9'],\n",
       "   'name': 'Raimu Hidaka',\n",
       "   'id': '5f6d127156b0219cac2f5230'},\n",
       "  {'worked_on': ['https://zelda.fanapis.com/api/games/5f6ce9d805615a85623ec2b7',\n",
       "    'https://zelda.fanapis.com/api/games/5f6ce9d805615a85623ec2b8',\n",
       "    'https://zelda.fanapis.com/api/games/5f6ce9d805615a85623ec2c3',\n",
       "    'https://zelda.fanapis.com/api/games/5f6ce9d805615a85623ec2cc',\n",
       "    'https://zelda.fanapis.com/api/games/5f6ce9d805615a85623ec2ca',\n",
       "    'https://zelda.fanapis.com/api/games/5f6ce9d805615a85623ec2ba',\n",
       "    'https://zelda.fanapis.com/api/games/5f6ce9d805615a85623ec2bc',\n",
       "    'https://zelda.fanapis.com/api/games/5f6ce9d805615a85623ec2c0',\n",
       "    'https://zelda.fanapis.com/api/games/5f6ce9d805615a85623ec2b9',\n",
       "    'https://zelda.fanapis.com/api/games/5f6ce9d805615a85623ec2c4',\n",
       "    'https://zelda.fanapis.com/api/games/5f6ce9d805615a85623ec2bf',\n",
       "    'https://zelda.fanapis.com/api/games/5f6ce9d805615a85623ec2c1',\n",
       "    'https://zelda.fanapis.com/api/games/5f6ce9d805615a85623ec2c6',\n",
       "    'https://zelda.fanapis.com/api/games/5f6ce9d805615a85623ec2be',\n",
       "    'https://zelda.fanapis.com/api/games/5f6ce9d805615a85623ec2c2',\n",
       "    'https://zelda.fanapis.com/api/games/5f6ce9d805615a85623ec2c5',\n",
       "    'https://zelda.fanapis.com/api/games/5f6ce9d805615a85623ec2c8',\n",
       "    'https://zelda.fanapis.com/api/games/5f6ce9d805615a85623ec2c7',\n",
       "    'https://zelda.fanapis.com/api/games/5f6ce9d805615a85623ec2ce',\n",
       "    'https://zelda.fanapis.com/api/games/5f6ce9d805615a85623ec2c9'],\n",
       "   'name': 'Takashi Tezuka',\n",
       "   'id': '5f6d127156b0219cac2f5235'},\n",
       "  {'worked_on': ['https://zelda.fanapis.com/api/games/5f6ce9d805615a85623ec2c9'],\n",
       "   'name': 'Takahito Sekimoto',\n",
       "   'id': '5f6d127156b0219cac2f523a'},\n",
       "  {'worked_on': ['https://zelda.fanapis.com/api/games/5f6ce9d805615a85623ec2c9'],\n",
       "   'name': 'Takafumi Shimotamari',\n",
       "   'id': '5f6d127156b0219cac2f523f'},\n",
       "  {'worked_on': ['https://zelda.fanapis.com/api/games/5f6ce9d805615a85623ec2c9'],\n",
       "   'name': 'Taeko Ebina',\n",
       "   'id': '5f6d127156b0219cac2f5244'},\n",
       "  {'worked_on': ['https://zelda.fanapis.com/api/games/5f6ce9d805615a85623ec2c9'],\n",
       "   'name': 'Shunsuke Yamamoto',\n",
       "   'id': '5f6d127156b0219cac2f5249'},\n",
       "  {'worked_on': ['https://zelda.fanapis.com/api/games/5f6ce9d805615a85623ec2c9'],\n",
       "   'name': 'Shotaro Yabashi',\n",
       "   'id': '5f6d127156b0219cac2f524e'},\n",
       "  {'worked_on': ['https://zelda.fanapis.com/api/games/5f6ce9d805615a85623ec2c9'],\n",
       "   'name': 'Shinko Takeshita',\n",
       "   'id': '5f6d127156b0219cac2f5253'},\n",
       "  {'worked_on': ['https://zelda.fanapis.com/api/games/5f6ce9d805615a85623ec2c9'],\n",
       "   'name': 'Sei Hashimoto',\n",
       "   'id': '5f6d127156b0219cac2f5258'}]}"
      ]
     },
     "execution_count": 4,
     "metadata": {},
     "output_type": "execute_result"
    }
   ],
   "source": [
    "Staffhtml = req.get(Gamesurl).json()\n",
    "\n",
    "Staffhtml"
   ]
  },
  {
   "cell_type": "code",
   "execution_count": 5,
   "metadata": {},
   "outputs": [
    {
     "data": {
      "text/plain": [
       "20"
      ]
     },
     "execution_count": 5,
     "metadata": {},
     "output_type": "execute_result"
    }
   ],
   "source": [
    "len(Staffhtml['data'])"
   ]
  },
  {
   "cell_type": "code",
   "execution_count": 6,
   "metadata": {},
   "outputs": [
    {
     "data": {
      "text/plain": [
       "[{'worked_on': ['https://zelda.fanapis.com/api/games/5f6ce9d805615a85623ec2c9'],\n",
       "  'name': 'Airi Nagano',\n",
       "  'id': '5f6d127156b0219cac2f5221'},\n",
       " {'worked_on': ['https://zelda.fanapis.com/api/games/5f6ce9d805615a85623ec2c9'],\n",
       "  'name': 'Aya Shida',\n",
       "  'id': '5f6d127156b0219cac2f5222'},\n",
       " {'worked_on': ['https://zelda.fanapis.com/api/games/5f6ce9d805615a85623ec2c9'],\n",
       "  'name': 'Atsushi Domoto',\n",
       "  'id': '5f6d127156b0219cac2f5223'},\n",
       " {'worked_on': ['https://zelda.fanapis.com/api/games/5f6ce9d805615a85623ec2c9'],\n",
       "  'name': 'Ai Matsumura',\n",
       "  'id': '5f6d127156b0219cac2f5224'},\n",
       " {'worked_on': ['https://zelda.fanapis.com/api/games/5f6ce9d805615a85623ec2c9'],\n",
       "  'name': 'Chihiro Okada',\n",
       "  'id': '5f6d127156b0219cac2f5226'},\n",
       " {'worked_on': ['https://zelda.fanapis.com/api/games/5f6ce9d805615a85623ec2c9'],\n",
       "  'name': 'Chizue Utazu',\n",
       "  'id': '5f6d127156b0219cac2f5225'},\n",
       " {'worked_on': ['https://zelda.fanapis.com/api/games/5f6ce9d805615a85623ec2c9'],\n",
       "  'name': 'Atsushi Asakura',\n",
       "  'id': '5f6d127156b0219cac2f5227'},\n",
       " {'worked_on': ['https://zelda.fanapis.com/api/games/5f6ce9d805615a85623ec2c9'],\n",
       "  'name': 'Chee Wai Lim',\n",
       "  'id': '5f6d127156b0219cac2f5228'},\n",
       " {'worked_on': ['https://zelda.fanapis.com/api/games/5f6ce9d805615a85623ec2c9'],\n",
       "  'name': 'Bungo Takahashi',\n",
       "  'id': '5f6d127156b0219cac2f522a'},\n",
       " {'worked_on': ['https://zelda.fanapis.com/api/games/5f6ce9d805615a85623ec2c9'],\n",
       "  'name': 'Atsuko Kato',\n",
       "  'id': '5f6d127156b0219cac2f5229'},\n",
       " {'worked_on': ['https://zelda.fanapis.com/api/games/5f6ce9d805615a85623ec2c9'],\n",
       "  'name': 'Ayumi Takata',\n",
       "  'id': '5f6d127156b0219cac2f522b'},\n",
       " {'worked_on': ['https://zelda.fanapis.com/api/games/5f6ce9d805615a85623ec2c9'],\n",
       "  'name': 'Raimu Hidaka',\n",
       "  'id': '5f6d127156b0219cac2f5230'},\n",
       " {'worked_on': ['https://zelda.fanapis.com/api/games/5f6ce9d805615a85623ec2b7',\n",
       "   'https://zelda.fanapis.com/api/games/5f6ce9d805615a85623ec2b8',\n",
       "   'https://zelda.fanapis.com/api/games/5f6ce9d805615a85623ec2c3',\n",
       "   'https://zelda.fanapis.com/api/games/5f6ce9d805615a85623ec2cc',\n",
       "   'https://zelda.fanapis.com/api/games/5f6ce9d805615a85623ec2ca',\n",
       "   'https://zelda.fanapis.com/api/games/5f6ce9d805615a85623ec2ba',\n",
       "   'https://zelda.fanapis.com/api/games/5f6ce9d805615a85623ec2bc',\n",
       "   'https://zelda.fanapis.com/api/games/5f6ce9d805615a85623ec2c0',\n",
       "   'https://zelda.fanapis.com/api/games/5f6ce9d805615a85623ec2b9',\n",
       "   'https://zelda.fanapis.com/api/games/5f6ce9d805615a85623ec2c4',\n",
       "   'https://zelda.fanapis.com/api/games/5f6ce9d805615a85623ec2bf',\n",
       "   'https://zelda.fanapis.com/api/games/5f6ce9d805615a85623ec2c1',\n",
       "   'https://zelda.fanapis.com/api/games/5f6ce9d805615a85623ec2c6',\n",
       "   'https://zelda.fanapis.com/api/games/5f6ce9d805615a85623ec2be',\n",
       "   'https://zelda.fanapis.com/api/games/5f6ce9d805615a85623ec2c2',\n",
       "   'https://zelda.fanapis.com/api/games/5f6ce9d805615a85623ec2c5',\n",
       "   'https://zelda.fanapis.com/api/games/5f6ce9d805615a85623ec2c8',\n",
       "   'https://zelda.fanapis.com/api/games/5f6ce9d805615a85623ec2c7',\n",
       "   'https://zelda.fanapis.com/api/games/5f6ce9d805615a85623ec2ce',\n",
       "   'https://zelda.fanapis.com/api/games/5f6ce9d805615a85623ec2c9'],\n",
       "  'name': 'Takashi Tezuka',\n",
       "  'id': '5f6d127156b0219cac2f5235'},\n",
       " {'worked_on': ['https://zelda.fanapis.com/api/games/5f6ce9d805615a85623ec2c9'],\n",
       "  'name': 'Takahito Sekimoto',\n",
       "  'id': '5f6d127156b0219cac2f523a'},\n",
       " {'worked_on': ['https://zelda.fanapis.com/api/games/5f6ce9d805615a85623ec2c9'],\n",
       "  'name': 'Takafumi Shimotamari',\n",
       "  'id': '5f6d127156b0219cac2f523f'},\n",
       " {'worked_on': ['https://zelda.fanapis.com/api/games/5f6ce9d805615a85623ec2c9'],\n",
       "  'name': 'Taeko Ebina',\n",
       "  'id': '5f6d127156b0219cac2f5244'},\n",
       " {'worked_on': ['https://zelda.fanapis.com/api/games/5f6ce9d805615a85623ec2c9'],\n",
       "  'name': 'Shunsuke Yamamoto',\n",
       "  'id': '5f6d127156b0219cac2f5249'},\n",
       " {'worked_on': ['https://zelda.fanapis.com/api/games/5f6ce9d805615a85623ec2c9'],\n",
       "  'name': 'Shotaro Yabashi',\n",
       "  'id': '5f6d127156b0219cac2f524e'},\n",
       " {'worked_on': ['https://zelda.fanapis.com/api/games/5f6ce9d805615a85623ec2c9'],\n",
       "  'name': 'Shinko Takeshita',\n",
       "  'id': '5f6d127156b0219cac2f5253'},\n",
       " {'worked_on': ['https://zelda.fanapis.com/api/games/5f6ce9d805615a85623ec2c9'],\n",
       "  'name': 'Sei Hashimoto',\n",
       "  'id': '5f6d127156b0219cac2f5258'}]"
      ]
     },
     "execution_count": 6,
     "metadata": {},
     "output_type": "execute_result"
    }
   ],
   "source": [
    "Staffdata = Staffhtml['data']\n",
    "Staffdata"
   ]
  },
  {
   "cell_type": "code",
   "execution_count": 8,
   "metadata": {},
   "outputs": [
    {
     "name": "stdout",
     "output_type": "stream",
     "text": [
      "worked_on: [['https://zelda.fanapis.com/api/games/5f6ce9d805615a85623ec2c9'], ['https://zelda.fanapis.com/api/games/5f6ce9d805615a85623ec2c9'], ['https://zelda.fanapis.com/api/games/5f6ce9d805615a85623ec2c9'], ['https://zelda.fanapis.com/api/games/5f6ce9d805615a85623ec2c9'], ['https://zelda.fanapis.com/api/games/5f6ce9d805615a85623ec2c9'], ['https://zelda.fanapis.com/api/games/5f6ce9d805615a85623ec2c9'], ['https://zelda.fanapis.com/api/games/5f6ce9d805615a85623ec2c9'], ['https://zelda.fanapis.com/api/games/5f6ce9d805615a85623ec2c9'], ['https://zelda.fanapis.com/api/games/5f6ce9d805615a85623ec2c9'], ['https://zelda.fanapis.com/api/games/5f6ce9d805615a85623ec2c9'], ['https://zelda.fanapis.com/api/games/5f6ce9d805615a85623ec2c9'], ['https://zelda.fanapis.com/api/games/5f6ce9d805615a85623ec2c9'], ['https://zelda.fanapis.com/api/games/5f6ce9d805615a85623ec2b7', 'https://zelda.fanapis.com/api/games/5f6ce9d805615a85623ec2b8', 'https://zelda.fanapis.com/api/games/5f6ce9d805615a85623ec2c3', 'https://zelda.fanapis.com/api/games/5f6ce9d805615a85623ec2cc', 'https://zelda.fanapis.com/api/games/5f6ce9d805615a85623ec2ca', 'https://zelda.fanapis.com/api/games/5f6ce9d805615a85623ec2ba', 'https://zelda.fanapis.com/api/games/5f6ce9d805615a85623ec2bc', 'https://zelda.fanapis.com/api/games/5f6ce9d805615a85623ec2c0', 'https://zelda.fanapis.com/api/games/5f6ce9d805615a85623ec2b9', 'https://zelda.fanapis.com/api/games/5f6ce9d805615a85623ec2c4', 'https://zelda.fanapis.com/api/games/5f6ce9d805615a85623ec2bf', 'https://zelda.fanapis.com/api/games/5f6ce9d805615a85623ec2c1', 'https://zelda.fanapis.com/api/games/5f6ce9d805615a85623ec2c6', 'https://zelda.fanapis.com/api/games/5f6ce9d805615a85623ec2be', 'https://zelda.fanapis.com/api/games/5f6ce9d805615a85623ec2c2', 'https://zelda.fanapis.com/api/games/5f6ce9d805615a85623ec2c5', 'https://zelda.fanapis.com/api/games/5f6ce9d805615a85623ec2c8', 'https://zelda.fanapis.com/api/games/5f6ce9d805615a85623ec2c7', 'https://zelda.fanapis.com/api/games/5f6ce9d805615a85623ec2ce', 'https://zelda.fanapis.com/api/games/5f6ce9d805615a85623ec2c9'], ['https://zelda.fanapis.com/api/games/5f6ce9d805615a85623ec2c9'], ['https://zelda.fanapis.com/api/games/5f6ce9d805615a85623ec2c9'], ['https://zelda.fanapis.com/api/games/5f6ce9d805615a85623ec2c9'], ['https://zelda.fanapis.com/api/games/5f6ce9d805615a85623ec2c9'], ['https://zelda.fanapis.com/api/games/5f6ce9d805615a85623ec2c9'], ['https://zelda.fanapis.com/api/games/5f6ce9d805615a85623ec2c9'], ['https://zelda.fanapis.com/api/games/5f6ce9d805615a85623ec2c9']]\n",
      "name: ['Airi Nagano', 'Aya Shida', 'Atsushi Domoto', 'Ai Matsumura', 'Chihiro Okada', 'Chizue Utazu', 'Atsushi Asakura', 'Chee Wai Lim', 'Bungo Takahashi', 'Atsuko Kato', 'Ayumi Takata', 'Raimu Hidaka', 'Takashi Tezuka', 'Takahito Sekimoto', 'Takafumi Shimotamari', 'Taeko Ebina', 'Shunsuke Yamamoto', 'Shotaro Yabashi', 'Shinko Takeshita', 'Sei Hashimoto']\n",
      "id: ['5f6d127156b0219cac2f5221', '5f6d127156b0219cac2f5222', '5f6d127156b0219cac2f5223', '5f6d127156b0219cac2f5224', '5f6d127156b0219cac2f5226', '5f6d127156b0219cac2f5225', '5f6d127156b0219cac2f5227', '5f6d127156b0219cac2f5228', '5f6d127156b0219cac2f522a', '5f6d127156b0219cac2f5229', '5f6d127156b0219cac2f522b', '5f6d127156b0219cac2f5230', '5f6d127156b0219cac2f5235', '5f6d127156b0219cac2f523a', '5f6d127156b0219cac2f523f', '5f6d127156b0219cac2f5244', '5f6d127156b0219cac2f5249', '5f6d127156b0219cac2f524e', '5f6d127156b0219cac2f5253', '5f6d127156b0219cac2f5258']\n"
     ]
    }
   ],
   "source": [
    "values_by_key = {}\n",
    "\n",
    "# Iterate over each dictionary in games_data\n",
    "for dictionary in Staffdata:\n",
    "    # Iterate over each key-value pair in the dictionary\n",
    "    for key, value in dictionary.items():\n",
    "        # Check if the key is already in the values_by_key dictionary\n",
    "        if key in values_by_key:\n",
    "            # Append the value to the existing list of values for the key\n",
    "            values_by_key[key].append(value)\n",
    "        else:\n",
    "            # Create a new list with the value for the key\n",
    "            values_by_key[key] = [value]\n",
    "\n",
    "# Print the values for each key\n",
    "for key, values in values_by_key.items():\n",
    "    print(f\"{key}: {values}\")"
   ]
  },
  {
   "cell_type": "code",
   "execution_count": 78,
   "metadata": {},
   "outputs": [
    {
     "data": {
      "text/plain": [
       "[' February 21, 1986',\n",
       " ' April 13, 1992',\n",
       " ' November 23, 1998',\n",
       " ' May 14, 2001',\n",
       " ' December 15, 1998',\n",
       " ' October 26, 2000',\n",
       " ' January 14, 1987',\n",
       " ' March 24, 2003',\n",
       " ' November 19, 2006',\n",
       " ' May 14, 2001',\n",
       " ' December 7, 2009',\n",
       " 'March 30, 1997',\n",
       " ' September 26, 2014',\n",
       " ' June 7, 2004',\n",
       " ' October 23, 2015',\n",
       " ' March 3, 2017',\n",
       " ' October 23, 2015',\n",
       " ' October 10, 1993',\n",
       " ' December 2, 2002',\n",
       " ' January 10, 2005']"
      ]
     },
     "execution_count": 78,
     "metadata": {},
     "output_type": "execute_result"
    }
   ],
   "source": [
    "values_by_key['released_date']"
   ]
  },
  {
   "cell_type": "code",
   "execution_count": 9,
   "metadata": {},
   "outputs": [
    {
     "name": "stdout",
     "output_type": "stream",
     "text": [
      "[['https://zelda.fanapis.com/api/games/5f6ce9d805615a85623ec2c9'], 'Airi Nagano', '5f6d127156b0219cac2f5221']\n",
      "[['https://zelda.fanapis.com/api/games/5f6ce9d805615a85623ec2c9'], 'Aya Shida', '5f6d127156b0219cac2f5222']\n",
      "[['https://zelda.fanapis.com/api/games/5f6ce9d805615a85623ec2c9'], 'Atsushi Domoto', '5f6d127156b0219cac2f5223']\n",
      "[['https://zelda.fanapis.com/api/games/5f6ce9d805615a85623ec2c9'], 'Ai Matsumura', '5f6d127156b0219cac2f5224']\n",
      "[['https://zelda.fanapis.com/api/games/5f6ce9d805615a85623ec2c9'], 'Chihiro Okada', '5f6d127156b0219cac2f5226']\n",
      "[['https://zelda.fanapis.com/api/games/5f6ce9d805615a85623ec2c9'], 'Chizue Utazu', '5f6d127156b0219cac2f5225']\n",
      "[['https://zelda.fanapis.com/api/games/5f6ce9d805615a85623ec2c9'], 'Atsushi Asakura', '5f6d127156b0219cac2f5227']\n",
      "[['https://zelda.fanapis.com/api/games/5f6ce9d805615a85623ec2c9'], 'Chee Wai Lim', '5f6d127156b0219cac2f5228']\n",
      "[['https://zelda.fanapis.com/api/games/5f6ce9d805615a85623ec2c9'], 'Bungo Takahashi', '5f6d127156b0219cac2f522a']\n",
      "[['https://zelda.fanapis.com/api/games/5f6ce9d805615a85623ec2c9'], 'Atsuko Kato', '5f6d127156b0219cac2f5229']\n",
      "[['https://zelda.fanapis.com/api/games/5f6ce9d805615a85623ec2c9'], 'Ayumi Takata', '5f6d127156b0219cac2f522b']\n",
      "[['https://zelda.fanapis.com/api/games/5f6ce9d805615a85623ec2c9'], 'Raimu Hidaka', '5f6d127156b0219cac2f5230']\n",
      "[['https://zelda.fanapis.com/api/games/5f6ce9d805615a85623ec2b7', 'https://zelda.fanapis.com/api/games/5f6ce9d805615a85623ec2b8', 'https://zelda.fanapis.com/api/games/5f6ce9d805615a85623ec2c3', 'https://zelda.fanapis.com/api/games/5f6ce9d805615a85623ec2cc', 'https://zelda.fanapis.com/api/games/5f6ce9d805615a85623ec2ca', 'https://zelda.fanapis.com/api/games/5f6ce9d805615a85623ec2ba', 'https://zelda.fanapis.com/api/games/5f6ce9d805615a85623ec2bc', 'https://zelda.fanapis.com/api/games/5f6ce9d805615a85623ec2c0', 'https://zelda.fanapis.com/api/games/5f6ce9d805615a85623ec2b9', 'https://zelda.fanapis.com/api/games/5f6ce9d805615a85623ec2c4', 'https://zelda.fanapis.com/api/games/5f6ce9d805615a85623ec2bf', 'https://zelda.fanapis.com/api/games/5f6ce9d805615a85623ec2c1', 'https://zelda.fanapis.com/api/games/5f6ce9d805615a85623ec2c6', 'https://zelda.fanapis.com/api/games/5f6ce9d805615a85623ec2be', 'https://zelda.fanapis.com/api/games/5f6ce9d805615a85623ec2c2', 'https://zelda.fanapis.com/api/games/5f6ce9d805615a85623ec2c5', 'https://zelda.fanapis.com/api/games/5f6ce9d805615a85623ec2c8', 'https://zelda.fanapis.com/api/games/5f6ce9d805615a85623ec2c7', 'https://zelda.fanapis.com/api/games/5f6ce9d805615a85623ec2ce', 'https://zelda.fanapis.com/api/games/5f6ce9d805615a85623ec2c9'], 'Takashi Tezuka', '5f6d127156b0219cac2f5235']\n",
      "[['https://zelda.fanapis.com/api/games/5f6ce9d805615a85623ec2c9'], 'Takahito Sekimoto', '5f6d127156b0219cac2f523a']\n",
      "[['https://zelda.fanapis.com/api/games/5f6ce9d805615a85623ec2c9'], 'Takafumi Shimotamari', '5f6d127156b0219cac2f523f']\n",
      "[['https://zelda.fanapis.com/api/games/5f6ce9d805615a85623ec2c9'], 'Taeko Ebina', '5f6d127156b0219cac2f5244']\n",
      "[['https://zelda.fanapis.com/api/games/5f6ce9d805615a85623ec2c9'], 'Shunsuke Yamamoto', '5f6d127156b0219cac2f5249']\n",
      "[['https://zelda.fanapis.com/api/games/5f6ce9d805615a85623ec2c9'], 'Shotaro Yabashi', '5f6d127156b0219cac2f524e']\n",
      "[['https://zelda.fanapis.com/api/games/5f6ce9d805615a85623ec2c9'], 'Shinko Takeshita', '5f6d127156b0219cac2f5253']\n",
      "[['https://zelda.fanapis.com/api/games/5f6ce9d805615a85623ec2c9'], 'Sei Hashimoto', '5f6d127156b0219cac2f5258']\n"
     ]
    }
   ],
   "source": [
    "table_data = []\n",
    "\n",
    "for dictionary in Staffdata:\n",
    "    row = list(dictionary.values())\n",
    "    table_data.append(row)\n",
    "\n",
    "# Print the table\n",
    "for row in table_data:\n",
    "    print(row)\n"
   ]
  },
  {
   "cell_type": "code",
   "execution_count": 62,
   "metadata": {},
   "outputs": [
    {
     "name": "stdout",
     "output_type": "stream",
     "text": [
      "id: 5f6ce9d805615a85623ec2c6, Name: The Legend of Zelda: The Minish Cap, Description: The Legend of Zelda: The Minish Cap is the twelfth main installment of The Legend of Zelda series. It was released for the Game Boy Advance in 2004. , Developer: Capcom, Publisher: Nintendo, Release date:  January 10, 2005\n"
     ]
    }
   ],
   "source": [
    "for Game in Gamesdata:\n",
    "    Gamesdata=dictionary['Games_data']\n",
    "    values = Gamesdata.values\n",
    "\n",
    "print(f\"id: {id}, Name: {Name}, Description: {Description}, Developer: {Developer}, Publisher: {Publisher}, Release date: {Release_date}\")"
   ]
  },
  {
   "cell_type": "code",
   "execution_count": null,
   "metadata": {},
   "outputs": [],
   "source": []
  },
  {
   "cell_type": "code",
   "execution_count": null,
   "metadata": {},
   "outputs": [],
   "source": []
  }
 ],
 "metadata": {
  "kernelspec": {
   "display_name": "Python 3",
   "language": "python",
   "name": "python3"
  },
  "language_info": {
   "codemirror_mode": {
    "name": "ipython",
    "version": 3
   },
   "file_extension": ".py",
   "mimetype": "text/x-python",
   "name": "python",
   "nbconvert_exporter": "python",
   "pygments_lexer": "ipython3",
   "version": "3.11.2"
  },
  "orig_nbformat": 4
 },
 "nbformat": 4,
 "nbformat_minor": 2
}
